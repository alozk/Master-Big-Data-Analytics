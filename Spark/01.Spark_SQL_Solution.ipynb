{
  "nbformat": 4,
  "nbformat_minor": 0,
  "metadata": {
    "colab": {
      "name": "01.Spark_SQL_Solution.ipynb",
      "provenance": [],
      "collapsed_sections": [
        "Jq9d0x1OTh2N",
        "8Z0h3dF9Vg4X"
      ],
      "toc_visible": true
    },
    "kernelspec": {
      "name": "python3",
      "display_name": "Python 3"
    }
  },
  "cells": [
    {
      "cell_type": "markdown",
      "metadata": {
        "id": "Jq9d0x1OTh2N"
      },
      "source": [
        "# Prerrequisites"
      ]
    },
    {
      "cell_type": "markdown",
      "metadata": {
        "id": "2_DQBVj_KNvL"
      },
      "source": [
        "Installing Spark\n",
        "\n",
        "---\n",
        "\n"
      ]
    },
    {
      "cell_type": "code",
      "metadata": {
        "id": "xEbGSM3_NM-z"
      },
      "source": [
        "!apt-get install openjdk-11-jdk-headless -qq > /dev/null\n",
        "!wget -q https://archive.apache.org/dist/spark/spark-3.2.0/spark-3.2.0-bin-hadoop3.2.tgz\n",
        "!tar xf spark-3.2.0-bin-hadoop3.2.tgz\n",
        "!pip -q install findspark"
      ],
      "execution_count": 1,
      "outputs": []
    },
    {
      "cell_type": "code",
      "metadata": {
        "id": "ooP8hZlothY4"
      },
      "source": [
        "import os\n",
        "os.environ[\"JAVA_HOME\"] = \"/usr/lib/jvm/java-11-openjdk-amd64\"\n",
        "os.environ[\"SPARK_HOME\"] = \"/content/spark-3.2.0-bin-hadoop3.2\""
      ],
      "execution_count": 2,
      "outputs": []
    },
    {
      "cell_type": "code",
      "metadata": {
        "id": "0LqjbMdHw4CV"
      },
      "source": [
        "import findspark\n",
        "findspark.init()"
      ],
      "execution_count": 3,
      "outputs": []
    },
    {
      "cell_type": "markdown",
      "metadata": {
        "id": "rdFv-xxITa2J"
      },
      "source": [
        "Starting Spark Session and print the version\n",
        "\n",
        "\n",
        "---\n"
      ]
    },
    {
      "cell_type": "code",
      "metadata": {
        "id": "BDLMbVBATf9K",
        "colab": {
          "base_uri": "https://localhost:8080/",
          "height": 35
        },
        "outputId": "f3eaf049-ad16-4eec-91eb-765023313ecd"
      },
      "source": [
        "from pyspark.sql import SparkSession\n",
        "from pyspark.sql.functions import *\n",
        "\n",
        "# create the session\n",
        "spark = SparkSession \\\n",
        "        .builder \\\n",
        "        .master(\"local[*]\") \\\n",
        "        .getOrCreate()\n",
        "\n",
        "spark.version"
      ],
      "execution_count": 4,
      "outputs": [
        {
          "output_type": "execute_result",
          "data": {
            "application/vnd.google.colaboratory.intrinsic+json": {
              "type": "string"
            },
            "text/plain": [
              "'3.2.0'"
            ]
          },
          "metadata": {},
          "execution_count": 4
        }
      ]
    },
    {
      "cell_type": "markdown",
      "metadata": {
        "id": "FNiYuI5dGo8Y"
      },
      "source": [
        "Creating tunnel</br>\n",
        "**To Check the Spark UI, open the URL printed by running the above command : https://######/jobs/, /SQL/**\n"
      ]
    },
    {
      "cell_type": "code",
      "metadata": {
        "id": "x4-7fXZiGmqB",
        "colab": {
          "base_uri": "https://localhost:8080/",
          "height": 34
        },
        "outputId": "1f15ec41-6190-4184-fec0-b4ae171b69d0"
      },
      "source": [
        " from google.colab.output import eval_js\n",
        " print(eval_js(\"google.colab.kernel.proxyPort(4040)\") + \"jobs/\")"
      ],
      "execution_count": 5,
      "outputs": [
        {
          "output_type": "stream",
          "name": "stdout",
          "text": [
            "https://xbig78x3ld-496ff2e9c6d22116-4040-colab.googleusercontent.com/jobs/\n"
          ]
        }
      ]
    },
    {
      "cell_type": "markdown",
      "metadata": {
        "id": "8Z0h3dF9Vg4X"
      },
      "source": [
        "# Download Datasets"
      ]
    },
    {
      "cell_type": "code",
      "metadata": {
        "id": "KBDin-0sXgyI",
        "colab": {
          "base_uri": "https://localhost:8080/"
        },
        "outputId": "84c9277b-775a-4c0e-91c0-9acd37778139"
      },
      "source": [
        "!mkdir -p /dataset\n",
        "!wget -q https://github.com/masfworld/datahack_docker/raw/master/zeppelin/data/bank.csv -P /dataset\n",
        "!wget -q https://github.com/masfworld/datahack_docker/raw/master/zeppelin/data/vehicles.csv -P /dataset\n",
        "!wget -q https://github.com/masfworld/datahack_docker/raw/master/zeppelin/data/characters.csv -P /dataset\n",
        "!wget -q https://github.com/masfworld/datahack_docker/raw/master/zeppelin/data/netflix_titles.csv -P /dataset\n",
        "!ls /dataset"
      ],
      "execution_count": 6,
      "outputs": [
        {
          "output_type": "stream",
          "name": "stdout",
          "text": [
            "bank.csv  characters.csv  netflix_titles.csv  vehicles.csv\n"
          ]
        }
      ]
    },
    {
      "cell_type": "markdown",
      "metadata": {
        "id": "02Zwm3NRXS_I"
      },
      "source": [
        "# Reading Data with Spark SQL\n",
        "\n",
        "---\n",
        "\n"
      ]
    },
    {
      "cell_type": "markdown",
      "metadata": {
        "id": "h1o6f6QOjTcZ"
      },
      "source": [
        "## Example 1"
      ]
    },
    {
      "cell_type": "code",
      "metadata": {
        "id": "USrsDETtstv-",
        "colab": {
          "base_uri": "https://localhost:8080/"
        },
        "outputId": "646900d9-1f08-4019-8a5c-a178095905e0"
      },
      "source": [
        "!head /dataset/bank.csv"
      ],
      "execution_count": 7,
      "outputs": [
        {
          "output_type": "stream",
          "name": "stdout",
          "text": [
            "\"age\";\"job\";\"marital\";\"education\";\"default\";\"balance\";\"housing\";\"loan\";\"contact\";\"day\";\"month\";\"duration\";\"campaign\";\"pdays\";\"previous\";\"poutcome\";\"y\"\n",
            "30;\"unemployed\";\"married\";\"primary\";\"no\";1787;\"no\";\"no\";\"cellular\";19;\"oct\";79;1;-1;0;\"unknown\";\"no\"\n",
            "33;\"services\";\"married\";\"secondary\";\"no\";4789;\"yes\";\"yes\";\"cellular\";11;\"may\";220;1;339;4;\"failure\";\"no\"\n",
            "35;\"management\";\"single\";\"tertiary\";\"no\";1350;\"yes\";\"no\";\"cellular\";16;\"apr\";185;1;330;1;\"failure\";\"no\"\n",
            "30;\"management\";\"married\";\"tertiary\";\"no\";1476;\"yes\";\"yes\";\"unknown\";3;\"jun\";199;4;-1;0;\"unknown\";\"no\"\n",
            "59;\"blue-collar\";\"married\";\"secondary\";\"no\";0;\"yes\";\"no\";\"unknown\";5;\"may\";226;1;-1;0;\"unknown\";\"no\"\n",
            "35;\"management\";\"single\";\"tertiary\";\"no\";747;\"no\";\"no\";\"cellular\";23;\"feb\";141;2;176;3;\"failure\";\"no\"\n",
            "36;\"self-employed\";\"married\";\"tertiary\";\"no\";307;\"yes\";\"no\";\"cellular\";14;\"may\";341;1;330;2;\"other\";\"no\"\n",
            "39;\"technician\";\"married\";\"secondary\";\"no\";147;\"yes\";\"no\";\"cellular\";6;\"may\";151;2;-1;0;\"unknown\";\"no\"\n",
            "41;\"entrepreneur\";\"married\";\"tertiary\";\"no\";221;\"yes\";\"no\";\"unknown\";14;\"may\";57;2;-1;0;\"unknown\";\"no\"\n"
          ]
        }
      ]
    },
    {
      "cell_type": "markdown",
      "metadata": {
        "id": "yjPpxRyJYA1h"
      },
      "source": [
        "Converting a RDD to a DataFrame"
      ]
    },
    {
      "cell_type": "code",
      "metadata": {
        "id": "HnbafeFCVk8d"
      },
      "source": [
        "from pyspark.sql.types import Row\n",
        "from pyspark.sql.functions import *\n",
        "\n",
        "bankText = spark.sparkContext.textFile(\"/dataset/bank.csv\")\n",
        "\n",
        "bank = bankText.map(lambda lineaCsv: lineaCsv.split(\";\"))\\\n",
        ".filter(lambda s: s[0] != \"\\\"age\\\"\") \\\n",
        ".map(lambda row: Row(int(row[0]), row[1].replace(\"\\\"\", \"\"), row[2].replace(\"\\\"\", \"\"), row[3].replace(\"\\\"\", \"\"), row[5].replace(\"\\\"\", \"\"))) \\\n",
        ".toDF([\"age\", \"job\", \"marital\", \"education\", \"balance\"]) \\\n",
        ".withColumn(\"age\", col(\"age\").cast(\"int\"))"
      ],
      "execution_count": 8,
      "outputs": []
    },
    {
      "cell_type": "code",
      "metadata": {
        "id": "3BEWmhhYqxp8",
        "colab": {
          "base_uri": "https://localhost:8080/"
        },
        "outputId": "4c0927b5-932c-44e6-d964-de0f98314056"
      },
      "source": [
        "bank.printSchema()"
      ],
      "execution_count": 10,
      "outputs": [
        {
          "output_type": "stream",
          "name": "stdout",
          "text": [
            "root\n",
            " |-- age: integer (nullable = true)\n",
            " |-- job: string (nullable = true)\n",
            " |-- marital: string (nullable = true)\n",
            " |-- education: string (nullable = true)\n",
            " |-- balance: string (nullable = true)\n",
            "\n"
          ]
        }
      ]
    },
    {
      "cell_type": "code",
      "metadata": {
        "id": "I7kQm1A5q00M",
        "colab": {
          "base_uri": "https://localhost:8080/",
          "height": 162
        },
        "outputId": "c3a83730-1f08-4137-faa0-ccdb64d6d722"
      },
      "source": [
        "bank.createOrReplaceTempView(\"bank\")"
      ],
      "execution_count": 20,
      "outputs": [
        {
          "output_type": "error",
          "ename": "AttributeError",
          "evalue": "ignored",
          "traceback": [
            "\u001b[0;31m---------------------------------------------------------------------------\u001b[0m",
            "\u001b[0;31mAttributeError\u001b[0m                            Traceback (most recent call last)",
            "\u001b[0;32m<ipython-input-20-8173f6f826f5>\u001b[0m in \u001b[0;36m<module>\u001b[0;34m()\u001b[0m\n\u001b[0;32m----> 1\u001b[0;31m \u001b[0mbank\u001b[0m\u001b[0;34m.\u001b[0m\u001b[0mcreateOrReplaceTempView\u001b[0m\u001b[0;34m(\u001b[0m\u001b[0;34m\"bank\"\u001b[0m\u001b[0;34m)\u001b[0m\u001b[0;34m\u001b[0m\u001b[0;34m\u001b[0m\u001b[0m\n\u001b[0m",
            "\u001b[0;31mAttributeError\u001b[0m: 'PipelinedRDD' object has no attribute 'createOrReplaceTempView'"
          ]
        }
      ]
    },
    {
      "cell_type": "markdown",
      "metadata": {
        "id": "9-JI8uCsroG7"
      },
      "source": [
        "Loading a **Google Colab extension** to show a table with filters"
      ]
    },
    {
      "cell_type": "code",
      "metadata": {
        "id": "KCGzK_zfrm8u"
      },
      "source": [
        "%load_ext google.colab.data_table"
      ],
      "execution_count": 12,
      "outputs": []
    },
    {
      "cell_type": "code",
      "metadata": {
        "id": "GE6JMclKbbkw",
        "colab": {
          "base_uri": "https://localhost:8080/"
        },
        "outputId": "4224d5b0-5e80-4f8f-d53a-d055118ca582"
      },
      "source": [
        "\n",
        "from pyspark.sql.functions import *\n",
        "\n",
        "bank_grouped = bank\\\n",
        ".groupBy(bank.marital) \\\n",
        ".agg({\"balance\": \"avg\"}) \\\n",
        ".select(\"marital\", col(\"avg(balance)\").alias(\"balance_avg\")) \\\n",
        ".orderBy(col(\"balance_avg\").desc())\\\n",
        "\n",
        "bank_grouped.show()\n"
      ],
      "execution_count": 13,
      "outputs": [
        {
          "output_type": "stream",
          "name": "stdout",
          "text": [
            "+--------+------------------+\n",
            "| marital|       balance_avg|\n",
            "+--------+------------------+\n",
            "| married| 1463.195566678584|\n",
            "|  single|1460.4147157190635|\n",
            "|divorced|1122.3901515151515|\n",
            "+--------+------------------+\n",
            "\n"
          ]
        }
      ]
    },
    {
      "cell_type": "code",
      "metadata": {
        "id": "QQ1vduJ45VtS",
        "colab": {
          "base_uri": "https://localhost:8080/",
          "height": 152
        },
        "outputId": "2b94f41d-87a8-45a0-bfc9-6fa16e77d73d"
      },
      "source": [
        "bank_grouped.toPandas()"
      ],
      "execution_count": 14,
      "outputs": [
        {
          "output_type": "execute_result",
          "data": {
            "application/vnd.google.colaboratory.module+javascript": "\n      import \"https://ssl.gstatic.com/colaboratory/data_table/a6224c040fa35dcf/data_table.js\";\n\n      window.createDataTable({\n        data: [[{\n            'v': 0,\n            'f': \"0\",\n        },\n\"married\",\n{\n            'v': 1463.195566678584,\n            'f': \"1463.195566678584\",\n        }],\n [{\n            'v': 1,\n            'f': \"1\",\n        },\n\"single\",\n{\n            'v': 1460.4147157190635,\n            'f': \"1460.4147157190635\",\n        }],\n [{\n            'v': 2,\n            'f': \"2\",\n        },\n\"divorced\",\n{\n            'v': 1122.3901515151515,\n            'f': \"1122.3901515151515\",\n        }]],\n        columns: [[\"number\", \"index\"], [\"string\", \"marital\"], [\"number\", \"balance_avg\"]],\n        columnOptions: [{\"width\": \"1px\", \"className\": \"index_column\"}],\n        rowsPerPage: 25,\n        helpUrl: \"https://colab.research.google.com/notebooks/data_table.ipynb\",\n        suppressOutputScrolling: true,\n        minimumWidth: undefined,\n      });\n    ",
            "text/html": [
              "<div>\n",
              "<style scoped>\n",
              "    .dataframe tbody tr th:only-of-type {\n",
              "        vertical-align: middle;\n",
              "    }\n",
              "\n",
              "    .dataframe tbody tr th {\n",
              "        vertical-align: top;\n",
              "    }\n",
              "\n",
              "    .dataframe thead th {\n",
              "        text-align: right;\n",
              "    }\n",
              "</style>\n",
              "<table border=\"1\" class=\"dataframe\">\n",
              "  <thead>\n",
              "    <tr style=\"text-align: right;\">\n",
              "      <th></th>\n",
              "      <th>marital</th>\n",
              "      <th>balance_avg</th>\n",
              "    </tr>\n",
              "  </thead>\n",
              "  <tbody>\n",
              "    <tr>\n",
              "      <th>0</th>\n",
              "      <td>married</td>\n",
              "      <td>1463.195567</td>\n",
              "    </tr>\n",
              "    <tr>\n",
              "      <th>1</th>\n",
              "      <td>single</td>\n",
              "      <td>1460.414716</td>\n",
              "    </tr>\n",
              "    <tr>\n",
              "      <th>2</th>\n",
              "      <td>divorced</td>\n",
              "      <td>1122.390152</td>\n",
              "    </tr>\n",
              "  </tbody>\n",
              "</table>\n",
              "</div>"
            ],
            "text/plain": [
              "    marital  balance_avg\n",
              "0   married  1463.195567\n",
              "1    single  1460.414716\n",
              "2  divorced  1122.390152"
            ]
          },
          "metadata": {},
          "execution_count": 14
        }
      ]
    },
    {
      "cell_type": "code",
      "metadata": {
        "id": "tTy8ySNSpgpN",
        "colab": {
          "base_uri": "https://localhost:8080/"
        },
        "outputId": "c398be74-c9bf-4698-d284-2e73afc922ca"
      },
      "source": [
        "spark.sql(\"SELECT marital, avg(balance) as balance_avg FROM bank group by marital\").show()"
      ],
      "execution_count": 15,
      "outputs": [
        {
          "output_type": "stream",
          "name": "stdout",
          "text": [
            "+--------+------------------+\n",
            "| marital|       balance_avg|\n",
            "+--------+------------------+\n",
            "|divorced|1122.3901515151515|\n",
            "| married| 1463.195566678584|\n",
            "|  single|1460.4147157190635|\n",
            "+--------+------------------+\n",
            "\n"
          ]
        }
      ]
    },
    {
      "cell_type": "code",
      "metadata": {
        "id": "7CJgXJe-kpnF",
        "colab": {
          "base_uri": "https://localhost:8080/",
          "height": 542
        },
        "outputId": "d0215d4b-e080-4b6f-ae23-8308711089cd"
      },
      "source": [
        "import plotly.express as px\n",
        "\n",
        "fig = px.pie(bank_grouped.toPandas(), values='balance_avg', names='marital', title='By Marital')\n",
        "fig.show()"
      ],
      "execution_count": 16,
      "outputs": [
        {
          "output_type": "display_data",
          "data": {
            "text/html": [
              "<html>\n",
              "<head><meta charset=\"utf-8\" /></head>\n",
              "<body>\n",
              "    <div>\n",
              "            <script src=\"https://cdnjs.cloudflare.com/ajax/libs/mathjax/2.7.5/MathJax.js?config=TeX-AMS-MML_SVG\"></script><script type=\"text/javascript\">if (window.MathJax) {MathJax.Hub.Config({SVG: {font: \"STIX-Web\"}});}</script>\n",
              "                <script type=\"text/javascript\">window.PlotlyConfig = {MathJaxConfig: 'local'};</script>\n",
              "        <script src=\"https://cdn.plot.ly/plotly-latest.min.js\"></script>    \n",
              "            <div id=\"c0adc5fc-806e-442c-9e0f-070b0d78b3d2\" class=\"plotly-graph-div\" style=\"height:525px; width:100%;\"></div>\n",
              "            <script type=\"text/javascript\">\n",
              "                \n",
              "                    window.PLOTLYENV=window.PLOTLYENV || {};\n",
              "                    \n",
              "                if (document.getElementById(\"c0adc5fc-806e-442c-9e0f-070b0d78b3d2\")) {\n",
              "                    Plotly.newPlot(\n",
              "                        'c0adc5fc-806e-442c-9e0f-070b0d78b3d2',\n",
              "                        [{\"domain\": {\"x\": [0.0, 1.0], \"y\": [0.0, 1.0]}, \"hoverlabel\": {\"namelength\": 0}, \"hovertemplate\": \"marital=%{label}<br>balance_avg=%{value}\", \"labels\": [\"married\", \"single\", \"divorced\"], \"legendgroup\": \"\", \"name\": \"\", \"showlegend\": true, \"type\": \"pie\", \"values\": [1463.195566678584, 1460.4147157190635, 1122.3901515151515]}],\n",
              "                        {\"legend\": {\"tracegroupgap\": 0}, \"template\": {\"data\": {\"bar\": [{\"error_x\": {\"color\": \"#2a3f5f\"}, \"error_y\": {\"color\": \"#2a3f5f\"}, \"marker\": {\"line\": {\"color\": \"#E5ECF6\", \"width\": 0.5}}, \"type\": \"bar\"}], \"barpolar\": [{\"marker\": {\"line\": {\"color\": \"#E5ECF6\", \"width\": 0.5}}, \"type\": \"barpolar\"}], \"carpet\": [{\"aaxis\": {\"endlinecolor\": \"#2a3f5f\", \"gridcolor\": \"white\", \"linecolor\": \"white\", \"minorgridcolor\": \"white\", \"startlinecolor\": \"#2a3f5f\"}, \"baxis\": {\"endlinecolor\": \"#2a3f5f\", \"gridcolor\": \"white\", \"linecolor\": \"white\", \"minorgridcolor\": \"white\", \"startlinecolor\": \"#2a3f5f\"}, \"type\": \"carpet\"}], \"choropleth\": [{\"colorbar\": {\"outlinewidth\": 0, \"ticks\": \"\"}, \"type\": \"choropleth\"}], \"contour\": [{\"colorbar\": {\"outlinewidth\": 0, \"ticks\": \"\"}, \"colorscale\": [[0.0, \"#0d0887\"], [0.1111111111111111, \"#46039f\"], [0.2222222222222222, \"#7201a8\"], [0.3333333333333333, \"#9c179e\"], [0.4444444444444444, \"#bd3786\"], [0.5555555555555556, \"#d8576b\"], [0.6666666666666666, \"#ed7953\"], [0.7777777777777778, \"#fb9f3a\"], [0.8888888888888888, \"#fdca26\"], [1.0, \"#f0f921\"]], \"type\": \"contour\"}], \"contourcarpet\": [{\"colorbar\": {\"outlinewidth\": 0, \"ticks\": \"\"}, \"type\": \"contourcarpet\"}], \"heatmap\": [{\"colorbar\": {\"outlinewidth\": 0, \"ticks\": \"\"}, \"colorscale\": [[0.0, \"#0d0887\"], [0.1111111111111111, \"#46039f\"], [0.2222222222222222, \"#7201a8\"], [0.3333333333333333, \"#9c179e\"], [0.4444444444444444, \"#bd3786\"], [0.5555555555555556, \"#d8576b\"], [0.6666666666666666, \"#ed7953\"], [0.7777777777777778, \"#fb9f3a\"], [0.8888888888888888, \"#fdca26\"], [1.0, \"#f0f921\"]], \"type\": \"heatmap\"}], \"heatmapgl\": [{\"colorbar\": {\"outlinewidth\": 0, \"ticks\": \"\"}, \"colorscale\": [[0.0, \"#0d0887\"], [0.1111111111111111, \"#46039f\"], [0.2222222222222222, \"#7201a8\"], [0.3333333333333333, \"#9c179e\"], [0.4444444444444444, \"#bd3786\"], [0.5555555555555556, \"#d8576b\"], [0.6666666666666666, \"#ed7953\"], [0.7777777777777778, \"#fb9f3a\"], [0.8888888888888888, \"#fdca26\"], [1.0, \"#f0f921\"]], \"type\": \"heatmapgl\"}], \"histogram\": [{\"marker\": {\"colorbar\": {\"outlinewidth\": 0, \"ticks\": \"\"}}, \"type\": \"histogram\"}], \"histogram2d\": [{\"colorbar\": {\"outlinewidth\": 0, \"ticks\": \"\"}, \"colorscale\": [[0.0, \"#0d0887\"], [0.1111111111111111, \"#46039f\"], [0.2222222222222222, \"#7201a8\"], [0.3333333333333333, \"#9c179e\"], [0.4444444444444444, \"#bd3786\"], [0.5555555555555556, \"#d8576b\"], [0.6666666666666666, \"#ed7953\"], [0.7777777777777778, \"#fb9f3a\"], [0.8888888888888888, \"#fdca26\"], [1.0, \"#f0f921\"]], \"type\": \"histogram2d\"}], \"histogram2dcontour\": [{\"colorbar\": {\"outlinewidth\": 0, \"ticks\": \"\"}, \"colorscale\": [[0.0, \"#0d0887\"], [0.1111111111111111, \"#46039f\"], [0.2222222222222222, \"#7201a8\"], [0.3333333333333333, \"#9c179e\"], [0.4444444444444444, \"#bd3786\"], [0.5555555555555556, \"#d8576b\"], [0.6666666666666666, \"#ed7953\"], [0.7777777777777778, \"#fb9f3a\"], [0.8888888888888888, \"#fdca26\"], [1.0, \"#f0f921\"]], \"type\": \"histogram2dcontour\"}], \"mesh3d\": [{\"colorbar\": {\"outlinewidth\": 0, \"ticks\": \"\"}, \"type\": \"mesh3d\"}], \"parcoords\": [{\"line\": {\"colorbar\": {\"outlinewidth\": 0, \"ticks\": \"\"}}, \"type\": \"parcoords\"}], \"pie\": [{\"automargin\": true, \"type\": \"pie\"}], \"scatter\": [{\"marker\": {\"colorbar\": {\"outlinewidth\": 0, \"ticks\": \"\"}}, \"type\": \"scatter\"}], \"scatter3d\": [{\"line\": {\"colorbar\": {\"outlinewidth\": 0, \"ticks\": \"\"}}, \"marker\": {\"colorbar\": {\"outlinewidth\": 0, \"ticks\": \"\"}}, \"type\": \"scatter3d\"}], \"scattercarpet\": [{\"marker\": {\"colorbar\": {\"outlinewidth\": 0, \"ticks\": \"\"}}, \"type\": \"scattercarpet\"}], \"scattergeo\": [{\"marker\": {\"colorbar\": {\"outlinewidth\": 0, \"ticks\": \"\"}}, \"type\": \"scattergeo\"}], \"scattergl\": [{\"marker\": {\"colorbar\": {\"outlinewidth\": 0, \"ticks\": \"\"}}, \"type\": \"scattergl\"}], \"scattermapbox\": [{\"marker\": {\"colorbar\": {\"outlinewidth\": 0, \"ticks\": \"\"}}, \"type\": \"scattermapbox\"}], \"scatterpolar\": [{\"marker\": {\"colorbar\": {\"outlinewidth\": 0, \"ticks\": \"\"}}, \"type\": \"scatterpolar\"}], \"scatterpolargl\": [{\"marker\": {\"colorbar\": {\"outlinewidth\": 0, \"ticks\": \"\"}}, \"type\": \"scatterpolargl\"}], \"scatterternary\": [{\"marker\": {\"colorbar\": {\"outlinewidth\": 0, \"ticks\": \"\"}}, \"type\": \"scatterternary\"}], \"surface\": [{\"colorbar\": {\"outlinewidth\": 0, \"ticks\": \"\"}, \"colorscale\": [[0.0, \"#0d0887\"], [0.1111111111111111, \"#46039f\"], [0.2222222222222222, \"#7201a8\"], [0.3333333333333333, \"#9c179e\"], [0.4444444444444444, \"#bd3786\"], [0.5555555555555556, \"#d8576b\"], [0.6666666666666666, \"#ed7953\"], [0.7777777777777778, \"#fb9f3a\"], [0.8888888888888888, \"#fdca26\"], [1.0, \"#f0f921\"]], \"type\": \"surface\"}], \"table\": [{\"cells\": {\"fill\": {\"color\": \"#EBF0F8\"}, \"line\": {\"color\": \"white\"}}, \"header\": {\"fill\": {\"color\": \"#C8D4E3\"}, \"line\": {\"color\": \"white\"}}, \"type\": \"table\"}]}, \"layout\": {\"annotationdefaults\": {\"arrowcolor\": \"#2a3f5f\", \"arrowhead\": 0, \"arrowwidth\": 1}, \"coloraxis\": {\"colorbar\": {\"outlinewidth\": 0, \"ticks\": \"\"}}, \"colorscale\": {\"diverging\": [[0, \"#8e0152\"], [0.1, \"#c51b7d\"], [0.2, \"#de77ae\"], [0.3, \"#f1b6da\"], [0.4, \"#fde0ef\"], [0.5, \"#f7f7f7\"], [0.6, \"#e6f5d0\"], [0.7, \"#b8e186\"], [0.8, \"#7fbc41\"], [0.9, \"#4d9221\"], [1, \"#276419\"]], \"sequential\": [[0.0, \"#0d0887\"], [0.1111111111111111, \"#46039f\"], [0.2222222222222222, \"#7201a8\"], [0.3333333333333333, \"#9c179e\"], [0.4444444444444444, \"#bd3786\"], [0.5555555555555556, \"#d8576b\"], [0.6666666666666666, \"#ed7953\"], [0.7777777777777778, \"#fb9f3a\"], [0.8888888888888888, \"#fdca26\"], [1.0, \"#f0f921\"]], \"sequentialminus\": [[0.0, \"#0d0887\"], [0.1111111111111111, \"#46039f\"], [0.2222222222222222, \"#7201a8\"], [0.3333333333333333, \"#9c179e\"], [0.4444444444444444, \"#bd3786\"], [0.5555555555555556, \"#d8576b\"], [0.6666666666666666, \"#ed7953\"], [0.7777777777777778, \"#fb9f3a\"], [0.8888888888888888, \"#fdca26\"], [1.0, \"#f0f921\"]]}, \"colorway\": [\"#636efa\", \"#EF553B\", \"#00cc96\", \"#ab63fa\", \"#FFA15A\", \"#19d3f3\", \"#FF6692\", \"#B6E880\", \"#FF97FF\", \"#FECB52\"], \"font\": {\"color\": \"#2a3f5f\"}, \"geo\": {\"bgcolor\": \"white\", \"lakecolor\": \"white\", \"landcolor\": \"#E5ECF6\", \"showlakes\": true, \"showland\": true, \"subunitcolor\": \"white\"}, \"hoverlabel\": {\"align\": \"left\"}, \"hovermode\": \"closest\", \"mapbox\": {\"style\": \"light\"}, \"paper_bgcolor\": \"white\", \"plot_bgcolor\": \"#E5ECF6\", \"polar\": {\"angularaxis\": {\"gridcolor\": \"white\", \"linecolor\": \"white\", \"ticks\": \"\"}, \"bgcolor\": \"#E5ECF6\", \"radialaxis\": {\"gridcolor\": \"white\", \"linecolor\": \"white\", \"ticks\": \"\"}}, \"scene\": {\"xaxis\": {\"backgroundcolor\": \"#E5ECF6\", \"gridcolor\": \"white\", \"gridwidth\": 2, \"linecolor\": \"white\", \"showbackground\": true, \"ticks\": \"\", \"zerolinecolor\": \"white\"}, \"yaxis\": {\"backgroundcolor\": \"#E5ECF6\", \"gridcolor\": \"white\", \"gridwidth\": 2, \"linecolor\": \"white\", \"showbackground\": true, \"ticks\": \"\", \"zerolinecolor\": \"white\"}, \"zaxis\": {\"backgroundcolor\": \"#E5ECF6\", \"gridcolor\": \"white\", \"gridwidth\": 2, \"linecolor\": \"white\", \"showbackground\": true, \"ticks\": \"\", \"zerolinecolor\": \"white\"}}, \"shapedefaults\": {\"line\": {\"color\": \"#2a3f5f\"}}, \"ternary\": {\"aaxis\": {\"gridcolor\": \"white\", \"linecolor\": \"white\", \"ticks\": \"\"}, \"baxis\": {\"gridcolor\": \"white\", \"linecolor\": \"white\", \"ticks\": \"\"}, \"bgcolor\": \"#E5ECF6\", \"caxis\": {\"gridcolor\": \"white\", \"linecolor\": \"white\", \"ticks\": \"\"}}, \"title\": {\"x\": 0.05}, \"xaxis\": {\"automargin\": true, \"gridcolor\": \"white\", \"linecolor\": \"white\", \"ticks\": \"\", \"title\": {\"standoff\": 15}, \"zerolinecolor\": \"white\", \"zerolinewidth\": 2}, \"yaxis\": {\"automargin\": true, \"gridcolor\": \"white\", \"linecolor\": \"white\", \"ticks\": \"\", \"title\": {\"standoff\": 15}, \"zerolinecolor\": \"white\", \"zerolinewidth\": 2}}}, \"title\": {\"text\": \"By Marital\"}},\n",
              "                        {\"responsive\": true}\n",
              "                    ).then(function(){\n",
              "                            \n",
              "var gd = document.getElementById('c0adc5fc-806e-442c-9e0f-070b0d78b3d2');\n",
              "var x = new MutationObserver(function (mutations, observer) {{\n",
              "        var display = window.getComputedStyle(gd).display;\n",
              "        if (!display || display === 'none') {{\n",
              "            console.log([gd, 'removed!']);\n",
              "            Plotly.purge(gd);\n",
              "            observer.disconnect();\n",
              "        }}\n",
              "}});\n",
              "\n",
              "// Listen for the removal of the full notebook cells\n",
              "var notebookContainer = gd.closest('#notebook-container');\n",
              "if (notebookContainer) {{\n",
              "    x.observe(notebookContainer, {childList: true});\n",
              "}}\n",
              "\n",
              "// Listen for the clearing of the current output cell\n",
              "var outputEl = gd.closest('.output');\n",
              "if (outputEl) {{\n",
              "    x.observe(outputEl, {childList: true});\n",
              "}}\n",
              "\n",
              "                        })\n",
              "                };\n",
              "                \n",
              "            </script>\n",
              "        </div>\n",
              "</body>\n",
              "</html>"
            ]
          },
          "metadata": {}
        }
      ]
    },
    {
      "cell_type": "markdown",
      "metadata": {
        "id": "yzU_4EjAjZgh"
      },
      "source": [
        "## Example 2"
      ]
    },
    {
      "cell_type": "markdown",
      "metadata": {
        "id": "sV-NchsMsHvF"
      },
      "source": [
        "Loading a CSV file as RDD, converting into a DataFrame, applying a specific schema using the method `createDataFrame`"
      ]
    },
    {
      "cell_type": "code",
      "metadata": {
        "id": "SgireGq6YWEj"
      },
      "source": [
        "from pyspark.sql.types import *\n",
        "\n",
        "bankSchema = StructType([\n",
        "    StructField(\"age\", IntegerType(), False), \n",
        "    StructField(\"job\", StringType(), False),\n",
        "    StructField(\"marital\", StringType(), False),\n",
        "    StructField(\"education\", StringType(), False),\n",
        "    StructField(\"balance\", IntegerType(), False)])\n",
        "\n",
        "bankText = spark.sparkContext.textFile(\"/dataset/bank.csv\")\n",
        "\n",
        "bank = bankText\\\n",
        ".map(lambda s: s.split(\";\")).filter(lambda s: s[0] != \"\\\"age\\\"\")\\\n",
        ".map(lambda s:(int(s[0]), str(s[1]).replace(\"\\\"\", \"\"), str(s[2]).replace(\"\\\"\", \"\"), str(s[3]).replace(\"\\\"\", \"\"), int(s[5]) ))\n",
        "\n",
        "bankdf = spark.createDataFrame(bank, bankSchema)\n",
        "bankdf.createOrReplaceTempView(\"bank2\")"
      ],
      "execution_count": 21,
      "outputs": []
    },
    {
      "cell_type": "code",
      "metadata": {
        "id": "tTSxYSiqtwum",
        "colab": {
          "base_uri": "https://localhost:8080/"
        },
        "outputId": "ff3388f1-95d6-4680-f480-d7eba582c2c2"
      },
      "source": [
        "spark.sql(\"select * from bank2 limit 10\").show()"
      ],
      "execution_count": 22,
      "outputs": [
        {
          "output_type": "stream",
          "name": "stdout",
          "text": [
            "+---+-------------+-------+---------+-------+\n",
            "|age|          job|marital|education|balance|\n",
            "+---+-------------+-------+---------+-------+\n",
            "| 30|   unemployed|married|  primary|   1787|\n",
            "| 33|     services|married|secondary|   4789|\n",
            "| 35|   management| single| tertiary|   1350|\n",
            "| 30|   management|married| tertiary|   1476|\n",
            "| 59|  blue-collar|married|secondary|      0|\n",
            "| 35|   management| single| tertiary|    747|\n",
            "| 36|self-employed|married| tertiary|    307|\n",
            "| 39|   technician|married|secondary|    147|\n",
            "| 41| entrepreneur|married| tertiary|    221|\n",
            "| 43|     services|married|  primary|    -88|\n",
            "+---+-------------+-------+---------+-------+\n",
            "\n"
          ]
        }
      ]
    },
    {
      "cell_type": "markdown",
      "metadata": {
        "id": "bX0FXU7JawRm"
      },
      "source": [
        "## Exercise 1\n",
        "Load file `vehicles.csv` to a DataFrame, showing the content and printing the schema.\n",
        "\n",
        "Use this [documentation](https://spark.apache.org/docs/latest/sql-data-sources-load-save-functions.html) to read data in a DataFrame\n",
        "\n",
        "---\n",
        "\n"
      ]
    },
    {
      "cell_type": "code",
      "metadata": {
        "id": "eYPt59chwJUw",
        "colab": {
          "base_uri": "https://localhost:8080/"
        },
        "outputId": "e800701c-58f4-4986-f7e7-e9ac2be743a2"
      },
      "source": [
        "!head /dataset/vehicles.csv"
      ],
      "execution_count": 23,
      "outputs": [
        {
          "output_type": "stream",
          "name": "stdout",
          "text": [
            "name,model,manufacturer,cost_in_credits,length,max_atmosphering_speed,crew,passengers,cargo_capacity,consumables,vehicle_class\n",
            "Sand Crawler,Digger Crawler,Corellia Mining Corporation,150000,36.8,30,46,30,50000,2 months,wheeled\n",
            "T-16 skyhopper,T-16 skyhopper,Incom Corporation,14500,10.4,1200,1,1,50,0,repulsorcraft\n",
            "X-34 landspeeder,X-34 landspeeder,SoroSuub Corporation,10550,3.4,250,1,1,5,NA,repulsorcraft\n",
            "TIE/LN starfighter,Twin Ion Engine/Ln Starfighter,Sienar Fleet Systems,NA,6.4,1200,1,0,65,2 days,starfighter\n",
            "Snowspeeder,t-47 airspeeder,Incom corporation,NA,4.5,650,2,0,10,none,airspeeder\n",
            "TIE bomber,TIE/sa bomber,Sienar Fleet Systems,NA,7.8,850,1,0,none,2 days,space/planetary bomber\n",
            "AT-AT,All Terrain Armored Transport,\"Kuat Drive Yards, Imperial Department of Military Research\",NA,20,60,5,40,1000,NA,assault walker\n",
            "AT-ST,All Terrain Scout Transport,\"Kuat Drive Yards, Imperial Department of Military Research\",NA,2,90,2,0,200,none,walker\n",
            "Storm IV Twin-Pod cloud car,Storm IV Twin-Pod,Bespin Motors,75000,7,1500,2,0,10,1 day,repulsorcraft\n"
          ]
        }
      ]
    },
    {
      "cell_type": "code",
      "metadata": {
        "id": "mCDo_-PiaEVl"
      },
      "source": [
        "vehiclesDF_all = spark.read.format(\"csv\")\\\n",
        "  .option(\"sep\", \",\") \\\n",
        "  .option(\"inferSchema\", \"true\") \\\n",
        "  .option(\"header\", \"true\") \\\n",
        "  .load(\"/dataset/vehicles.csv\")\n"
      ],
      "execution_count": 24,
      "outputs": []
    },
    {
      "cell_type": "code",
      "metadata": {
        "id": "gWdg2O5bwhV-",
        "colab": {
          "base_uri": "https://localhost:8080/"
        },
        "outputId": "8bf7b3ef-0fcb-43d7-d9e8-a3c0f9d216a3"
      },
      "source": [
        "vehiclesDF_all.show(truncate=False)"
      ],
      "execution_count": 25,
      "outputs": [
        {
          "output_type": "stream",
          "name": "stdout",
          "text": [
            "+------------------------------+-------------------------------+----------------------------------------------------------+---------------+------+----------------------+----+----------+--------------+---------------+-------------------------+\n",
            "|name                          |model                          |manufacturer                                              |cost_in_credits|length|max_atmosphering_speed|crew|passengers|cargo_capacity|consumables    |vehicle_class            |\n",
            "+------------------------------+-------------------------------+----------------------------------------------------------+---------------+------+----------------------+----+----------+--------------+---------------+-------------------------+\n",
            "|Sand Crawler                  |Digger Crawler                 |Corellia Mining Corporation                               |150000         |36.8  |30                    |46  |30        |50000         |2 months       |wheeled                  |\n",
            "|T-16 skyhopper                |T-16 skyhopper                 |Incom Corporation                                         |14500          |10.4  |1200                  |1   |1         |50            |0              |repulsorcraft            |\n",
            "|X-34 landspeeder              |X-34 landspeeder               |SoroSuub Corporation                                      |10550          |3.4   |250                   |1   |1         |5             |NA             |repulsorcraft            |\n",
            "|TIE/LN starfighter            |Twin Ion Engine/Ln Starfighter |Sienar Fleet Systems                                      |NA             |6.4   |1200                  |1   |0         |65            |2 days         |starfighter              |\n",
            "|Snowspeeder                   |t-47 airspeeder                |Incom corporation                                         |NA             |4.5   |650                   |2   |0         |10            |none           |airspeeder               |\n",
            "|TIE bomber                    |TIE/sa bomber                  |Sienar Fleet Systems                                      |NA             |7.8   |850                   |1   |0         |none          |2 days         |space/planetary bomber   |\n",
            "|AT-AT                         |All Terrain Armored Transport  |Kuat Drive Yards, Imperial Department of Military Research|NA             |20    |60                    |5   |40        |1000          |NA             |assault walker           |\n",
            "|AT-ST                         |All Terrain Scout Transport    |Kuat Drive Yards, Imperial Department of Military Research|NA             |2     |90                    |2   |0         |200           |none           |walker                   |\n",
            "|Storm IV Twin-Pod cloud car   |Storm IV Twin-Pod              |Bespin Motors                                             |75000          |7     |1500                  |2   |0         |10            |1 day          |repulsorcraft            |\n",
            "|Sail barge                    |Modified Luxury Sail Barge     |Ubrikkian Industries Custom Vehicle Division              |285000         |30    |100                   |26  |500       |2000000       |Live food tanks|sail barge               |\n",
            "|Bantha-II cargo skiff         |Bantha-II                      |Ubrikkian Industries                                      |8000           |9.5   |250                   |5   |16        |135000        |1 day          |repulsorcraft cargo skiff|\n",
            "|TIE/IN interceptor            |Twin Ion Engine Interceptor    |Sienar Fleet Systems                                      |NA             |9.6   |1250                  |1   |0         |75            |2 days         |starfighter              |\n",
            "|Imperial Speeder Bike         |74-Z speeder bike              |Aratech Repulsor Company                                  |8000           |3     |360                   |1   |1         |4             |1 day          |speeder                  |\n",
            "|Vulture Droid                 |Vulture-class droid starfighter|Haor Chall Engineering, Baktoid Armor Workshop            |NA             |3.5   |1200                  |0   |0         |0             |none           |starfighter              |\n",
            "|Multi-Troop Transport         |Multi-Troop Transport          |Baktoid Armor Workshop                                    |138000         |31    |35                    |4   |112       |12000         |NA             |repulsorcraft            |\n",
            "|Armored Assault Tank          |Armoured Assault Tank          |Baktoid Armor Workshop                                    |NA             |9.75  |55                    |4   |6         |NA            |NA             |repulsorcraft            |\n",
            "|Single Trooper Aerial Platform|Single Trooper Aerial Platform |Baktoid Armor Workshop                                    |2500           |2     |400                   |1   |0         |none          |none           |repulsorcraft            |\n",
            "|C-9979 landing craft          |C-9979 landing craft           |Haor Chall Engineering                                    |200000         |210   |587                   |140 |284       |1800000       |1 day          |landing craft            |\n",
            "|Tribubble bongo               |Tribubble bongo                |Otoh Gunga Bongameken Cooperative                         |NA             |15    |85                    |1   |2         |1600          |NA             |submarine                |\n",
            "|Sith speeder                  |FC-20 speeder bike             |Razalon                                                   |4000           |1.5   |180                   |1   |0         |2             |NA             |speeder                  |\n",
            "+------------------------------+-------------------------------+----------------------------------------------------------+---------------+------+----------------------+----+----------+--------------+---------------+-------------------------+\n",
            "only showing top 20 rows\n",
            "\n"
          ]
        }
      ]
    },
    {
      "cell_type": "code",
      "metadata": {
        "id": "mAhEgykBxrX_",
        "colab": {
          "base_uri": "https://localhost:8080/"
        },
        "outputId": "f0908600-cf22-4361-b57c-a40cb215fbc7"
      },
      "source": [
        "vehiclesDF_all.printSchema()"
      ],
      "execution_count": 26,
      "outputs": [
        {
          "output_type": "stream",
          "name": "stdout",
          "text": [
            "root\n",
            " |-- name: string (nullable = true)\n",
            " |-- model: string (nullable = true)\n",
            " |-- manufacturer: string (nullable = true)\n",
            " |-- cost_in_credits: string (nullable = true)\n",
            " |-- length: string (nullable = true)\n",
            " |-- max_atmosphering_speed: string (nullable = true)\n",
            " |-- crew: integer (nullable = true)\n",
            " |-- passengers: string (nullable = true)\n",
            " |-- cargo_capacity: string (nullable = true)\n",
            " |-- consumables: string (nullable = true)\n",
            " |-- vehicle_class: string (nullable = true)\n",
            "\n"
          ]
        }
      ]
    },
    {
      "cell_type": "markdown",
      "metadata": {
        "id": "vCDfqm_UxUcn"
      },
      "source": [
        "Filter out the previous DafaFrame to get vehicles where the capicity is greater than 70\n",
        "\n",
        "---\n",
        "\n"
      ]
    },
    {
      "cell_type": "code",
      "metadata": {
        "id": "-IdhtILfwmSF",
        "colab": {
          "base_uri": "https://localhost:8080/"
        },
        "outputId": "b3764e21-9ad1-4f73-9f16-4367d4a20374"
      },
      "source": [
        "vehiclesDF_all \\\n",
        "  .withColumn(\"cargo_capacity\", col(\"cargo_capacity\").cast(\"float\")) \\\n",
        "  .filter(col(\"cargo_capacity\") > 70) \\\n",
        "  .show()"
      ],
      "execution_count": 27,
      "outputs": [
        {
          "output_type": "stream",
          "name": "stdout",
          "text": [
            "+--------------------+--------------------+--------------------+---------------+------+----------------------+----+----------+--------------+---------------+--------------------+\n",
            "|                name|               model|        manufacturer|cost_in_credits|length|max_atmosphering_speed|crew|passengers|cargo_capacity|    consumables|       vehicle_class|\n",
            "+--------------------+--------------------+--------------------+---------------+------+----------------------+----+----------+--------------+---------------+--------------------+\n",
            "|        Sand Crawler|      Digger Crawler|Corellia Mining C...|         150000|  36.8|                    30|  46|        30|       50000.0|       2 months|             wheeled|\n",
            "|               AT-AT|All Terrain Armor...|Kuat Drive Yards,...|             NA|    20|                    60|   5|        40|        1000.0|             NA|      assault walker|\n",
            "|               AT-ST|All Terrain Scout...|Kuat Drive Yards,...|             NA|     2|                    90|   2|         0|         200.0|           none|              walker|\n",
            "|          Sail barge|Modified Luxury S...|Ubrikkian Industr...|         285000|    30|                   100|  26|       500|     2000000.0|Live food tanks|          sail barge|\n",
            "|Bantha-II cargo s...|           Bantha-II|Ubrikkian Industries|           8000|   9.5|                   250|   5|        16|      135000.0|          1 day|repulsorcraft car...|\n",
            "|  TIE/IN interceptor|Twin Ion Engine I...|Sienar Fleet Systems|             NA|   9.6|                  1250|   1|         0|          75.0|         2 days|         starfighter|\n",
            "|Multi-Troop Trans...|Multi-Troop Trans...|Baktoid Armor Wor...|         138000|    31|                    35|   4|       112|       12000.0|             NA|       repulsorcraft|\n",
            "|C-9979 landing craft|C-9979 landing craft|Haor Chall Engine...|         200000|   210|                   587| 140|       284|     1800000.0|          1 day|       landing craft|\n",
            "|     Tribubble bongo|     Tribubble bongo|Otoh Gunga Bongam...|             NA|    15|                    85|   1|         2|        1600.0|             NA|           submarine|\n",
            "| Zephyr-G swoop bike| Zephyr-G swoop bike|Mobquet Swoops an...|           5750|  3.68|                   350|   1|         1|         200.0|           none|       repulsorcraft|\n",
            "|Koro-2 Exodrive a...|Koro-2 Exodrive a...|Desler Gizh Outwo...|             NA|   6.6|                   800|   1|         1|          80.0|             NA|          airspeeder|\n",
            "|              LAAT/i|Low Altitude Assa...|Rothana Heavy Eng...|             NA|  17.4|                   620|   6|        30|         170.0|             NA|             gunship|\n",
            "|              LAAT/c|Low Altitude Assa...|Rothana Heavy Eng...|             NA| 28.82|                   620|   1|         0|       40000.0|             NA|             gunship|\n",
            "|    Clone turbo tank|  HAVw A6 Juggernaut|    Kuat Drive Yards|         350000|  49.4|                   160|  20|       300|       30000.0|        20 days|      wheeled walker|\n",
            "|               AT-TE|All Terrain Tacti...|Rothana Heavy Eng...|             NA|  13.2|                    60|   6|        36|       10000.0|        21 days|              walker|\n",
            "|                SPHA|Self-Propelled He...|Rothana Heavy Eng...|             NA|   140|                    35|  25|        30|         500.0|         7 days|              walker|\n",
            "|  Neimoidian shuttle|Sheathipede-class...|Haor Chall Engine...|             NA|    20|                   880|   2|         6|        1000.0|         7 days|           transport|\n",
            "+--------------------+--------------------+--------------------+---------------+------+----------------------+----+----------+--------------+---------------+--------------------+\n",
            "\n"
          ]
        }
      ]
    },
    {
      "cell_type": "markdown",
      "metadata": {
        "id": "8GUV9KLzqR-4"
      },
      "source": [
        "# Spark SQL. Aggregation Functions"
      ]
    },
    {
      "cell_type": "markdown",
      "metadata": {
        "id": "BbMEyQFOqVnQ"
      },
      "source": [
        "Useful Links:\n",
        "\n",
        "http://spark.apache.org/docs/latest/api/python/\n"
      ]
    },
    {
      "cell_type": "markdown",
      "metadata": {
        "id": "tZw41ki6kc3p"
      },
      "source": [
        "## Exercise 2"
      ]
    },
    {
      "cell_type": "markdown",
      "metadata": {
        "id": "YAzx5B5IkVeP"
      },
      "source": [
        "Using the DataFrame with all vehicles loaded in Exercise 1, get the number of passengers by vehicle class\n",
        "\n",
        "\n",
        "---\n",
        "\n",
        "\n"
      ]
    },
    {
      "cell_type": "code",
      "metadata": {
        "id": "SIKCDk4mx0ep",
        "colab": {
          "base_uri": "https://localhost:8080/"
        },
        "outputId": "2f4139fe-07bf-4a8e-f0ab-40a3a16c813a"
      },
      "source": [
        "from pyspark.sql.types import IntegerType\n",
        "\n",
        "vehiclesDF_all \\\n",
        "  .withColumn(\"passengers\", col(\"passengers\").cast(IntegerType())) \\\n",
        "  .groupBy(\"vehicle_class\") \\\n",
        "  .avg(\"passengers\") \\\n",
        "  .show()"
      ],
      "execution_count": 28,
      "outputs": [
        {
          "output_type": "stream",
          "name": "stdout",
          "text": [
            "+--------------------+------------------+\n",
            "|       vehicle_class|   avg(passengers)|\n",
            "+--------------------+------------------+\n",
            "|          droid tank|               4.0|\n",
            "|space/planetary b...|               0.0|\n",
            "|   droid starfighter|               0.0|\n",
            "|      wheeled walker|             150.5|\n",
            "|          sail barge|             500.0|\n",
            "|       landing craft|             284.0|\n",
            "|             speeder|0.3333333333333333|\n",
            "|      assault walker|              40.0|\n",
            "|         starfighter|               0.0|\n",
            "|         air speeder|               0.0|\n",
            "|           transport|               6.0|\n",
            "|repulsorcraft car...|              16.0|\n",
            "|             wheeled|              30.0|\n",
            "|          airspeeder|               0.8|\n",
            "|           submarine|               2.0|\n",
            "|             gunship|              15.0|\n",
            "|       repulsorcraft|17.285714285714285|\n",
            "|fire suppression ...|              null|\n",
            "|              walker|              16.5|\n",
            "+--------------------+------------------+\n",
            "\n"
          ]
        }
      ]
    },
    {
      "cell_type": "markdown",
      "metadata": {
        "id": "HSEBVnVQlU52"
      },
      "source": [
        "## Exercise 3"
      ]
    },
    {
      "cell_type": "markdown",
      "metadata": {
        "id": "JF4fyAaMlXsI"
      },
      "source": [
        "Load the file `characters.csv` getting the most common eye color among all characters\n",
        "\n",
        "---"
      ]
    },
    {
      "cell_type": "code",
      "metadata": {
        "id": "qZ_HrY7uk3bM",
        "colab": {
          "base_uri": "https://localhost:8080/",
          "height": 624
        },
        "outputId": "dbd9a01c-4ed2-4873-d55f-cfadf7d3d4cc"
      },
      "source": [
        "characters_df = spark.read.format(\"csv\") \\\n",
        "  .option(\"sep\", \",\") \\\n",
        "  .option(\"inferSchema\", \"true\") \\\n",
        "  .option(\"header\", \"true\") \\\n",
        "  .load(\"/dataset/characters.csv\") \\\n",
        "  \n",
        "characters_df.toPandas()"
      ],
      "execution_count": 29,
      "outputs": [
        {
          "output_type": "execute_result",
          "data": {
            "application/vnd.google.colaboratory.module+javascript": "\n      import \"https://ssl.gstatic.com/colaboratory/data_table/a6224c040fa35dcf/data_table.js\";\n\n      window.createDataTable({\n        data: [[{\n            'v': 0,\n            'f': \"0\",\n        },\n\"Luke Skywalker\",\n\"172\",\n\"77\",\n\"blond\",\n\"fair\",\n\"blue\",\n\"19BBY\",\n\"male\",\n\"Tatooine\",\n\"Human\"],\n [{\n            'v': 1,\n            'f': \"1\",\n        },\n\"C-3PO\",\n\"167\",\n\"75\",\n\"NA\",\n\"gold\",\n\"yellow\",\n\"112BBY\",\n\"NA\",\n\"Tatooine\",\n\"Droid\"],\n [{\n            'v': 2,\n            'f': \"2\",\n        },\n\"R2-D2\",\n\"96\",\n\"32\",\n\"NA\",\n\"white, blue\",\n\"red\",\n\"33BBY\",\n\"NA\",\n\"Naboo\",\n\"Droid\"],\n [{\n            'v': 3,\n            'f': \"3\",\n        },\n\"Darth Vader\",\n\"202\",\n\"136\",\n\"none\",\n\"white\",\n\"yellow\",\n\"41.9BBY\",\n\"male\",\n\"Tatooine\",\n\"Human\"],\n [{\n            'v': 4,\n            'f': \"4\",\n        },\n\"Leia Organa\",\n\"150\",\n\"49\",\n\"brown\",\n\"light\",\n\"brown\",\n\"19BBY\",\n\"female\",\n\"Alderaan\",\n\"Human\"],\n [{\n            'v': 5,\n            'f': \"5\",\n        },\n\"Owen Lars\",\n\"178\",\n\"120\",\n\"brown, grey\",\n\"light\",\n\"blue\",\n\"52BBY\",\n\"male\",\n\"Tatooine\",\n\"Human\"],\n [{\n            'v': 6,\n            'f': \"6\",\n        },\n\"Beru Whitesun lars\",\n\"165\",\n\"75\",\n\"brown\",\n\"light\",\n\"blue\",\n\"47BBY\",\n\"female\",\n\"Tatooine\",\n\"Human\"],\n [{\n            'v': 7,\n            'f': \"7\",\n        },\n\"R5-D4\",\n\"97\",\n\"32\",\n\"NA\",\n\"white, red\",\n\"red\",\n\"NA\",\n\"NA\",\n\"Tatooine\",\n\"Droid\"],\n [{\n            'v': 8,\n            'f': \"8\",\n        },\n\"Biggs Darklighter\",\n\"183\",\n\"84\",\n\"black\",\n\"light\",\n\"brown\",\n\"24BBY\",\n\"male\",\n\"Tatooine\",\n\"Human\"],\n [{\n            'v': 9,\n            'f': \"9\",\n        },\n\"Obi-Wan Kenobi\",\n\"182\",\n\"77\",\n\"auburn, white\",\n\"fair\",\n\"blue-gray\",\n\"57BBY\",\n\"male\",\n\"Stewjon\",\n\"Human\"],\n [{\n            'v': 10,\n            'f': \"10\",\n        },\n\"Anakin Skywalker\",\n\"188\",\n\"84\",\n\"blond\",\n\"fair\",\n\"blue\",\n\"41.9BBY\",\n\"male\",\n\"Tatooine\",\n\"Human\"],\n [{\n            'v': 11,\n            'f': \"11\",\n        },\n\"Wilhuff Tarkin\",\n\"180\",\n\"NA\",\n\"auburn, grey\",\n\"fair\",\n\"blue\",\n\"64BBY\",\n\"male\",\n\"Eriadu\",\n\"Human\"],\n [{\n            'v': 12,\n            'f': \"12\",\n        },\n\"Chewbacca\",\n\"228\",\n\"112\",\n\"brown\",\n\"NA\",\n\"blue\",\n\"200BBY\",\n\"male\",\n\"Kashyyyk\",\n\"Wookiee\"],\n [{\n            'v': 13,\n            'f': \"13\",\n        },\n\"Han Solo\",\n\"180\",\n\"80\",\n\"brown\",\n\"fair\",\n\"brown\",\n\"29BBY\",\n\"male\",\n\"Corellia\",\n\"Human\"],\n [{\n            'v': 14,\n            'f': \"14\",\n        },\n\"Greedo\",\n\"173\",\n\"74\",\n\"NA\",\n\"green\",\n\"black\",\n\"44BBY\",\n\"male\",\n\"Rodia\",\n\"Rodian\"],\n [{\n            'v': 15,\n            'f': \"15\",\n        },\n\"Jabba Desilijic Tiure\",\n\"175\",\n\"1,358\",\n\"NA\",\n\"green-tan, brown\",\n\"orange\",\n\"600BBY\",\n\"hermaphrodite\",\n\"Nal Hutta\",\n\"Hutt\"],\n [{\n            'v': 16,\n            'f': \"16\",\n        },\n\"Wedge Antilles\",\n\"170\",\n\"77\",\n\"brown\",\n\"fair\",\n\"hazel\",\n\"21BBY\",\n\"male\",\n\"Corellia\",\n\"Human\"],\n [{\n            'v': 17,\n            'f': \"17\",\n        },\n\"Jek Tono Porkins\",\n\"180\",\n\"110\",\n\"brown\",\n\"fair\",\n\"blue\",\n\"NA\",\n\"male\",\n\"Bestine IV\",\n\"Human\"],\n [{\n            'v': 18,\n            'f': \"18\",\n        },\n\"Yoda\",\n\"66\",\n\"17\",\n\"white\",\n\"green\",\n\"brown\",\n\"896BBY\",\n\"male\",\n\"NA\",\n\"Yoda's species\"],\n [{\n            'v': 19,\n            'f': \"19\",\n        },\n\"Palpatine\",\n\"170\",\n\"75\",\n\"grey\",\n\"pale\",\n\"yellow\",\n\"82BBY\",\n\"male\",\n\"Naboo\",\n\"Human\"],\n [{\n            'v': 20,\n            'f': \"20\",\n        },\n\"Boba Fett\",\n\"183\",\n\"78.2\",\n\"black\",\n\"fair\",\n\"brown\",\n\"31.5BBY\",\n\"male\",\n\"Kamino\",\n\"Human\"],\n [{\n            'v': 21,\n            'f': \"21\",\n        },\n\"IG-88\",\n\"200\",\n\"140\",\n\"none\",\n\"metal\",\n\"red\",\n\"15BBY\",\n\"none\",\n\"NA\",\n\"Droid\"],\n [{\n            'v': 22,\n            'f': \"22\",\n        },\n\"Bossk\",\n\"190\",\n\"113\",\n\"none\",\n\"green\",\n\"red\",\n\"53BBY\",\n\"male\",\n\"Trandosha\",\n\"Trandoshan\"],\n [{\n            'v': 23,\n            'f': \"23\",\n        },\n\"Lando Calrissian\",\n\"177\",\n\"79\",\n\"black\",\n\"dark\",\n\"brown\",\n\"31BBY\",\n\"male\",\n\"Socorro\",\n\"Human\"],\n [{\n            'v': 24,\n            'f': \"24\",\n        },\n\"Lobot\",\n\"175\",\n\"79\",\n\"none\",\n\"light\",\n\"blue\",\n\"37BBY\",\n\"male\",\n\"Bespin\",\n\"Human\"],\n [{\n            'v': 25,\n            'f': \"25\",\n        },\n\"Ackbar\",\n\"180\",\n\"83\",\n\"none\",\n\"brown mottle\",\n\"orange\",\n\"41BBY\",\n\"male\",\n\"Mon Cala\",\n\"Mon Calamari\"],\n [{\n            'v': 26,\n            'f': \"26\",\n        },\n\"Mon Mothma\",\n\"150\",\n\"NA\",\n\"auburn\",\n\"fair\",\n\"blue\",\n\"48BBY\",\n\"female\",\n\"Chandrila\",\n\"Human\"],\n [{\n            'v': 27,\n            'f': \"27\",\n        },\n\"Arvel Crynyd\",\n\"NA\",\n\"NA\",\n\"brown\",\n\"fair\",\n\"brown\",\n\"NA\",\n\"male\",\n\"NA\",\n\"Human\"],\n [{\n            'v': 28,\n            'f': \"28\",\n        },\n\"Wicket Systri Warrick\",\n\"88\",\n\"20\",\n\"brown\",\n\"brown\",\n\"brown\",\n\"8BBY\",\n\"male\",\n\"Endor\",\n\"Ewok\"],\n [{\n            'v': 29,\n            'f': \"29\",\n        },\n\"Nien Nunb\",\n\"160\",\n\"68\",\n\"none\",\n\"grey\",\n\"black\",\n\"NA\",\n\"male\",\n\"Sullust\",\n\"Sullustan\"],\n [{\n            'v': 30,\n            'f': \"30\",\n        },\n\"Qui-Gon Jinn\",\n\"193\",\n\"89\",\n\"brown\",\n\"fair\",\n\"blue\",\n\"92BBY\",\n\"male\",\n\"NA\",\n\"Human\"],\n [{\n            'v': 31,\n            'f': \"31\",\n        },\n\"Nute Gunray\",\n\"191\",\n\"90\",\n\"none\",\n\"mottled green\",\n\"red\",\n\"NA\",\n\"male\",\n\"Cato Neimoidia\",\n\"Neimodian\"],\n [{\n            'v': 32,\n            'f': \"32\",\n        },\n\"Finis Valorum\",\n\"170\",\n\"NA\",\n\"blond\",\n\"fair\",\n\"blue\",\n\"91BBY\",\n\"male\",\n\"Coruscant\",\n\"Human\"],\n [{\n            'v': 33,\n            'f': \"33\",\n        },\n\"Jar Jar Binks\",\n\"196\",\n\"66\",\n\"none\",\n\"orange\",\n\"orange\",\n\"52BBY\",\n\"male\",\n\"Naboo\",\n\"Gungan\"],\n [{\n            'v': 34,\n            'f': \"34\",\n        },\n\"Roos Tarpals\",\n\"224\",\n\"82\",\n\"none\",\n\"grey\",\n\"orange\",\n\"NA\",\n\"male\",\n\"Naboo\",\n\"Gungan\"],\n [{\n            'v': 35,\n            'f': \"35\",\n        },\n\"Rugor Nass\",\n\"206\",\n\"NA\",\n\"none\",\n\"green\",\n\"orange\",\n\"NA\",\n\"male\",\n\"Naboo\",\n\"Gungan\"],\n [{\n            'v': 36,\n            'f': \"36\",\n        },\n\"Ric Oli\\u00e9\",\n\"183\",\n\"NA\",\n\"brown\",\n\"fair\",\n\"blue\",\n\"NA\",\n\"male\",\n\"Naboo\",\n\"NA\"],\n [{\n            'v': 37,\n            'f': \"37\",\n        },\n\"Watto\",\n\"137\",\n\"NA\",\n\"black\",\n\"blue, grey\",\n\"yellow\",\n\"NA\",\n\"male\",\n\"Toydaria\",\n\"Toydarian\"],\n [{\n            'v': 38,\n            'f': \"38\",\n        },\n\"Sebulba\",\n\"112\",\n\"40\",\n\"none\",\n\"grey, red\",\n\"orange\",\n\"NA\",\n\"male\",\n\"Malastare\",\n\"Dug\"],\n [{\n            'v': 39,\n            'f': \"39\",\n        },\n\"Quarsh Panaka\",\n\"183\",\n\"NA\",\n\"black\",\n\"dark\",\n\"brown\",\n\"62BBY\",\n\"male\",\n\"Naboo\",\n\"NA\"],\n [{\n            'v': 40,\n            'f': \"40\",\n        },\n\"Shmi Skywalker\",\n\"163\",\n\"NA\",\n\"black\",\n\"fair\",\n\"brown\",\n\"72BBY\",\n\"female\",\n\"Tatooine\",\n\"Human\"],\n [{\n            'v': 41,\n            'f': \"41\",\n        },\n\"Darth Maul\",\n\"175\",\n\"80\",\n\"none\",\n\"red\",\n\"yellow\",\n\"54BBY\",\n\"male\",\n\"Dathomir\",\n\"Zabrak\"],\n [{\n            'v': 42,\n            'f': \"42\",\n        },\n\"Bib Fortuna\",\n\"180\",\n\"NA\",\n\"none\",\n\"pale\",\n\"pink\",\n\"NA\",\n\"male\",\n\"Ryloth\",\n\"Twi'lek\"],\n [{\n            'v': 43,\n            'f': \"43\",\n        },\n\"Ayla Secura\",\n\"178\",\n\"55\",\n\"none\",\n\"blue\",\n\"hazel\",\n\"48BBY\",\n\"female\",\n\"Ryloth\",\n\"Twi'lek\"],\n [{\n            'v': 44,\n            'f': \"44\",\n        },\n\"Dud Bolt\",\n\"94\",\n\"45\",\n\"none\",\n\"blue, grey\",\n\"yellow\",\n\"NA\",\n\"male\",\n\"Vulpter\",\n\"Vulptereen\"],\n [{\n            'v': 45,\n            'f': \"45\",\n        },\n\"Gasgano\",\n\"122\",\n\"NA\",\n\"none\",\n\"white, blue\",\n\"black\",\n\"NA\",\n\"male\",\n\"Troiken\",\n\"Xexto\"],\n [{\n            'v': 46,\n            'f': \"46\",\n        },\n\"Ben Quadinaros\",\n\"163\",\n\"65\",\n\"none\",\n\"grey, green, yellow\",\n\"orange\",\n\"NA\",\n\"male\",\n\"Tund\",\n\"Toong\"],\n [{\n            'v': 47,\n            'f': \"47\",\n        },\n\"Mace Windu\",\n\"188\",\n\"84\",\n\"none\",\n\"dark\",\n\"brown\",\n\"72BBY\",\n\"male\",\n\"Haruun Kal\",\n\"Human\"],\n [{\n            'v': 48,\n            'f': \"48\",\n        },\n\"Ki-Adi-Mundi\",\n\"198\",\n\"82\",\n\"white\",\n\"pale\",\n\"yellow\",\n\"92BBY\",\n\"male\",\n\"Cerea\",\n\"Cerean\"],\n [{\n            'v': 49,\n            'f': \"49\",\n        },\n\"Kit Fisto\",\n\"196\",\n\"87\",\n\"none\",\n\"green\",\n\"black\",\n\"NA\",\n\"male\",\n\"Glee Anselm\",\n\"Nautolan\"],\n [{\n            'v': 50,\n            'f': \"50\",\n        },\n\"Eeth Koth\",\n\"171\",\n\"NA\",\n\"black\",\n\"brown\",\n\"brown\",\n\"NA\",\n\"male\",\n\"Iridonia\",\n\"Zabrak\"],\n [{\n            'v': 51,\n            'f': \"51\",\n        },\n\"Adi Gallia\",\n\"184\",\n\"50\",\n\"none\",\n\"dark\",\n\"blue\",\n\"NA\",\n\"female\",\n\"Coruscant\",\n\"Tholothian\"],\n [{\n            'v': 52,\n            'f': \"52\",\n        },\n\"Saesee Tiin\",\n\"188\",\n\"NA\",\n\"none\",\n\"pale\",\n\"orange\",\n\"NA\",\n\"male\",\n\"Iktotch\",\n\"Iktotchi\"],\n [{\n            'v': 53,\n            'f': \"53\",\n        },\n\"Yarael Poof\",\n\"264\",\n\"NA\",\n\"none\",\n\"white\",\n\"yellow\",\n\"NA\",\n\"male\",\n\"Quermia\",\n\"Quermian\"],\n [{\n            'v': 54,\n            'f': \"54\",\n        },\n\"Plo Koon\",\n\"188\",\n\"80\",\n\"none\",\n\"orange\",\n\"black\",\n\"22BBY\",\n\"male\",\n\"Dorin\",\n\"Kel Dor\"],\n [{\n            'v': 55,\n            'f': \"55\",\n        },\n\"Mas Amedda\",\n\"196\",\n\"NA\",\n\"none\",\n\"blue\",\n\"blue\",\n\"NA\",\n\"male\",\n\"Champala\",\n\"Chagrian\"],\n [{\n            'v': 56,\n            'f': \"56\",\n        },\n\"Gregar Typho\",\n\"185\",\n\"85\",\n\"black\",\n\"dark\",\n\"brown\",\n\"NA\",\n\"male\",\n\"Naboo\",\n\"Human\"],\n [{\n            'v': 57,\n            'f': \"57\",\n        },\n\"Cord\\u00e9\",\n\"157\",\n\"NA\",\n\"brown\",\n\"light\",\n\"brown\",\n\"NA\",\n\"female\",\n\"Naboo\",\n\"Human\"],\n [{\n            'v': 58,\n            'f': \"58\",\n        },\n\"Cliegg Lars\",\n\"183\",\n\"NA\",\n\"brown\",\n\"fair\",\n\"blue\",\n\"82BBY\",\n\"male\",\n\"Tatooine\",\n\"Human\"],\n [{\n            'v': 59,\n            'f': \"59\",\n        },\n\"Poggle the Lesser\",\n\"183\",\n\"80\",\n\"none\",\n\"green\",\n\"yellow\",\n\"NA\",\n\"male\",\n\"Geonosis\",\n\"Geonosian\"],\n [{\n            'v': 60,\n            'f': \"60\",\n        },\n\"Luminara Unduli\",\n\"170\",\n\"56.2\",\n\"black\",\n\"yellow\",\n\"blue\",\n\"58BBY\",\n\"female\",\n\"Mirial\",\n\"Mirialan\"],\n [{\n            'v': 61,\n            'f': \"61\",\n        },\n\"Barriss Offee\",\n\"166\",\n\"50\",\n\"black\",\n\"yellow\",\n\"blue\",\n\"40BBY\",\n\"female\",\n\"Mirial\",\n\"Mirialan\"],\n [{\n            'v': 62,\n            'f': \"62\",\n        },\n\"Dorm\\u00e9\",\n\"165\",\n\"NA\",\n\"brown\",\n\"light\",\n\"brown\",\n\"NA\",\n\"female\",\n\"Naboo\",\n\"Human\"],\n [{\n            'v': 63,\n            'f': \"63\",\n        },\n\"Dooku\",\n\"193\",\n\"80\",\n\"white\",\n\"fair\",\n\"brown\",\n\"102BBY\",\n\"male\",\n\"Serenno\",\n\"Human\"],\n [{\n            'v': 64,\n            'f': \"64\",\n        },\n\"Bail Prestor Organa\",\n\"191\",\n\"NA\",\n\"black\",\n\"tan\",\n\"brown\",\n\"67BBY\",\n\"male\",\n\"Alderaan\",\n\"Human\"],\n [{\n            'v': 65,\n            'f': \"65\",\n        },\n\"Jango Fett\",\n\"183\",\n\"79\",\n\"black\",\n\"tan\",\n\"brown\",\n\"66BBY\",\n\"male\",\n\"Concord Dawn\",\n\"Human\"],\n [{\n            'v': 66,\n            'f': \"66\",\n        },\n\"Zam Wesell\",\n\"168\",\n\"55\",\n\"blonde\",\n\"fair, green, yellow\",\n\"yellow\",\n\"NA\",\n\"female\",\n\"Zolan\",\n\"Clawdite\"],\n [{\n            'v': 67,\n            'f': \"67\",\n        },\n\"Dexter Jettster\",\n\"198\",\n\"102\",\n\"none\",\n\"brown\",\n\"yellow\",\n\"NA\",\n\"male\",\n\"Ojom\",\n\"Besalisk\"],\n [{\n            'v': 68,\n            'f': \"68\",\n        },\n\"Lama Su\",\n\"229\",\n\"88\",\n\"none\",\n\"grey\",\n\"black\",\n\"NA\",\n\"male\",\n\"Kamino\",\n\"Kaminoan\"],\n [{\n            'v': 69,\n            'f': \"69\",\n        },\n\"Taun We\",\n\"213\",\n\"NA\",\n\"none\",\n\"grey\",\n\"black\",\n\"NA\",\n\"female\",\n\"Kamino\",\n\"Kaminoan\"],\n [{\n            'v': 70,\n            'f': \"70\",\n        },\n\"Jocasta Nu\",\n\"167\",\n\"NA\",\n\"white\",\n\"fair\",\n\"blue\",\n\"NA\",\n\"female\",\n\"Coruscant\",\n\"Human\"],\n [{\n            'v': 71,\n            'f': \"71\",\n        },\n\"Ratts Tyerell\",\n\"79\",\n\"15\",\n\"none\",\n\"grey, blue\",\n\"NA\",\n\"NA\",\n\"male\",\n\"Aleen Minor\",\n\"Aleena\"],\n [{\n            'v': 72,\n            'f': \"72\",\n        },\n\"R4-P17\",\n\"96\",\n\"NA\",\n\"none\",\n\"silver, red\",\n\"red, blue\",\n\"NA\",\n\"female\",\n\"NA\",\n\"NA\"],\n [{\n            'v': 73,\n            'f': \"73\",\n        },\n\"Wat Tambor\",\n\"193\",\n\"48\",\n\"none\",\n\"green, grey\",\n\"NA\",\n\"NA\",\n\"male\",\n\"Skako\",\n\"Skakoan\"],\n [{\n            'v': 74,\n            'f': \"74\",\n        },\n\"San Hill\",\n\"191\",\n\"NA\",\n\"none\",\n\"grey\",\n\"gold\",\n\"NA\",\n\"male\",\n\"Muunilinst\",\n\"Muun\"],\n [{\n            'v': 75,\n            'f': \"75\",\n        },\n\"Shaak Ti\",\n\"178\",\n\"57\",\n\"none\",\n\"red, blue, white\",\n\"black\",\n\"NA\",\n\"female\",\n\"Shili\",\n\"Togruta\"],\n [{\n            'v': 76,\n            'f': \"76\",\n        },\n\"Grievous\",\n\"216\",\n\"159\",\n\"none\",\n\"brown, white\",\n\"green, yellow\",\n\"NA\",\n\"male\",\n\"Kalee\",\n\"Kaleesh\"],\n [{\n            'v': 77,\n            'f': \"77\",\n        },\n\"Tarfful\",\n\"234\",\n\"136\",\n\"brown\",\n\"brown\",\n\"blue\",\n\"NA\",\n\"male\",\n\"Kashyyyk\",\n\"Wookiee\"],\n [{\n            'v': 78,\n            'f': \"78\",\n        },\n\"Raymus Antilles\",\n\"188\",\n\"79\",\n\"brown\",\n\"light\",\n\"brown\",\n\"NA\",\n\"male\",\n\"Alderaan\",\n\"Human\"],\n [{\n            'v': 79,\n            'f': \"79\",\n        },\n\"Sly Moore\",\n\"178\",\n\"48\",\n\"none\",\n\"pale\",\n\"white\",\n\"NA\",\n\"female\",\n\"Umbara\",\n\"NA\"],\n [{\n            'v': 80,\n            'f': \"80\",\n        },\n\"Tion Medon\",\n\"206\",\n\"80\",\n\"none\",\n\"grey\",\n\"black\",\n\"NA\",\n\"male\",\n\"Utapau\",\n\"Pau'an\"],\n [{\n            'v': 81,\n            'f': \"81\",\n        },\n\"Finn\",\n\"NA\",\n\"NA\",\n\"black\",\n\"dark\",\n\"dark\",\n\"NA\",\n\"male\",\n\"NA\",\n\"Human\"],\n [{\n            'v': 82,\n            'f': \"82\",\n        },\n\"Rey\",\n\"NA\",\n\"NA\",\n\"brown\",\n\"light\",\n\"hazel\",\n\"NA\",\n\"female\",\n\"NA\",\n\"Human\"],\n [{\n            'v': 83,\n            'f': \"83\",\n        },\n\"Poe Dameron\",\n\"NA\",\n\"NA\",\n\"brown\",\n\"light\",\n\"brown\",\n\"NA\",\n\"male\",\n\"NA\",\n\"Human\"],\n [{\n            'v': 84,\n            'f': \"84\",\n        },\n\"BB8\",\n\"NA\",\n\"NA\",\n\"none\",\n\"none\",\n\"black\",\n\"NA\",\n\"none\",\n\"NA\",\n\"Droid\"],\n [{\n            'v': 85,\n            'f': \"85\",\n        },\n\"Captain Phasma\",\n\"NA\",\n\"NA\",\n\"NA\",\n\"NA\",\n\"NA\",\n\"NA\",\n\"female\",\n\"NA\",\n\"NA\"],\n [{\n            'v': 86,\n            'f': \"86\",\n        },\n\"Padm\\u00e9 Amidala\",\n\"165\",\n\"45\",\n\"brown\",\n\"light\",\n\"brown\",\n\"46BBY\",\n\"female\",\n\"Naboo\",\n\"Human\"]],\n        columns: [[\"number\", \"index\"], [\"string\", \"name\"], [\"string\", \"height\"], [\"string\", \"mass\"], [\"string\", \"hair_color\"], [\"string\", \"skin_color\"], [\"string\", \"eye_color\"], [\"string\", \"birth_year\"], [\"string\", \"gender\"], [\"string\", \"homeworld\"], [\"string\", \"species\"]],\n        columnOptions: [{\"width\": \"1px\", \"className\": \"index_column\"}],\n        rowsPerPage: 25,\n        helpUrl: \"https://colab.research.google.com/notebooks/data_table.ipynb\",\n        suppressOutputScrolling: true,\n        minimumWidth: undefined,\n      });\n    ",
            "text/html": [
              "<div>\n",
              "<style scoped>\n",
              "    .dataframe tbody tr th:only-of-type {\n",
              "        vertical-align: middle;\n",
              "    }\n",
              "\n",
              "    .dataframe tbody tr th {\n",
              "        vertical-align: top;\n",
              "    }\n",
              "\n",
              "    .dataframe thead th {\n",
              "        text-align: right;\n",
              "    }\n",
              "</style>\n",
              "<table border=\"1\" class=\"dataframe\">\n",
              "  <thead>\n",
              "    <tr style=\"text-align: right;\">\n",
              "      <th></th>\n",
              "      <th>name</th>\n",
              "      <th>height</th>\n",
              "      <th>mass</th>\n",
              "      <th>hair_color</th>\n",
              "      <th>skin_color</th>\n",
              "      <th>eye_color</th>\n",
              "      <th>birth_year</th>\n",
              "      <th>gender</th>\n",
              "      <th>homeworld</th>\n",
              "      <th>species</th>\n",
              "    </tr>\n",
              "  </thead>\n",
              "  <tbody>\n",
              "    <tr>\n",
              "      <th>0</th>\n",
              "      <td>Luke Skywalker</td>\n",
              "      <td>172</td>\n",
              "      <td>77</td>\n",
              "      <td>blond</td>\n",
              "      <td>fair</td>\n",
              "      <td>blue</td>\n",
              "      <td>19BBY</td>\n",
              "      <td>male</td>\n",
              "      <td>Tatooine</td>\n",
              "      <td>Human</td>\n",
              "    </tr>\n",
              "    <tr>\n",
              "      <th>1</th>\n",
              "      <td>C-3PO</td>\n",
              "      <td>167</td>\n",
              "      <td>75</td>\n",
              "      <td>NA</td>\n",
              "      <td>gold</td>\n",
              "      <td>yellow</td>\n",
              "      <td>112BBY</td>\n",
              "      <td>NA</td>\n",
              "      <td>Tatooine</td>\n",
              "      <td>Droid</td>\n",
              "    </tr>\n",
              "    <tr>\n",
              "      <th>2</th>\n",
              "      <td>R2-D2</td>\n",
              "      <td>96</td>\n",
              "      <td>32</td>\n",
              "      <td>NA</td>\n",
              "      <td>white, blue</td>\n",
              "      <td>red</td>\n",
              "      <td>33BBY</td>\n",
              "      <td>NA</td>\n",
              "      <td>Naboo</td>\n",
              "      <td>Droid</td>\n",
              "    </tr>\n",
              "    <tr>\n",
              "      <th>3</th>\n",
              "      <td>Darth Vader</td>\n",
              "      <td>202</td>\n",
              "      <td>136</td>\n",
              "      <td>none</td>\n",
              "      <td>white</td>\n",
              "      <td>yellow</td>\n",
              "      <td>41.9BBY</td>\n",
              "      <td>male</td>\n",
              "      <td>Tatooine</td>\n",
              "      <td>Human</td>\n",
              "    </tr>\n",
              "    <tr>\n",
              "      <th>4</th>\n",
              "      <td>Leia Organa</td>\n",
              "      <td>150</td>\n",
              "      <td>49</td>\n",
              "      <td>brown</td>\n",
              "      <td>light</td>\n",
              "      <td>brown</td>\n",
              "      <td>19BBY</td>\n",
              "      <td>female</td>\n",
              "      <td>Alderaan</td>\n",
              "      <td>Human</td>\n",
              "    </tr>\n",
              "    <tr>\n",
              "      <th>...</th>\n",
              "      <td>...</td>\n",
              "      <td>...</td>\n",
              "      <td>...</td>\n",
              "      <td>...</td>\n",
              "      <td>...</td>\n",
              "      <td>...</td>\n",
              "      <td>...</td>\n",
              "      <td>...</td>\n",
              "      <td>...</td>\n",
              "      <td>...</td>\n",
              "    </tr>\n",
              "    <tr>\n",
              "      <th>82</th>\n",
              "      <td>Rey</td>\n",
              "      <td>NA</td>\n",
              "      <td>NA</td>\n",
              "      <td>brown</td>\n",
              "      <td>light</td>\n",
              "      <td>hazel</td>\n",
              "      <td>NA</td>\n",
              "      <td>female</td>\n",
              "      <td>NA</td>\n",
              "      <td>Human</td>\n",
              "    </tr>\n",
              "    <tr>\n",
              "      <th>83</th>\n",
              "      <td>Poe Dameron</td>\n",
              "      <td>NA</td>\n",
              "      <td>NA</td>\n",
              "      <td>brown</td>\n",
              "      <td>light</td>\n",
              "      <td>brown</td>\n",
              "      <td>NA</td>\n",
              "      <td>male</td>\n",
              "      <td>NA</td>\n",
              "      <td>Human</td>\n",
              "    </tr>\n",
              "    <tr>\n",
              "      <th>84</th>\n",
              "      <td>BB8</td>\n",
              "      <td>NA</td>\n",
              "      <td>NA</td>\n",
              "      <td>none</td>\n",
              "      <td>none</td>\n",
              "      <td>black</td>\n",
              "      <td>NA</td>\n",
              "      <td>none</td>\n",
              "      <td>NA</td>\n",
              "      <td>Droid</td>\n",
              "    </tr>\n",
              "    <tr>\n",
              "      <th>85</th>\n",
              "      <td>Captain Phasma</td>\n",
              "      <td>NA</td>\n",
              "      <td>NA</td>\n",
              "      <td>NA</td>\n",
              "      <td>NA</td>\n",
              "      <td>NA</td>\n",
              "      <td>NA</td>\n",
              "      <td>female</td>\n",
              "      <td>NA</td>\n",
              "      <td>NA</td>\n",
              "    </tr>\n",
              "    <tr>\n",
              "      <th>86</th>\n",
              "      <td>Padmé Amidala</td>\n",
              "      <td>165</td>\n",
              "      <td>45</td>\n",
              "      <td>brown</td>\n",
              "      <td>light</td>\n",
              "      <td>brown</td>\n",
              "      <td>46BBY</td>\n",
              "      <td>female</td>\n",
              "      <td>Naboo</td>\n",
              "      <td>Human</td>\n",
              "    </tr>\n",
              "  </tbody>\n",
              "</table>\n",
              "<p>87 rows × 10 columns</p>\n",
              "</div>"
            ],
            "text/plain": [
              "              name height mass hair_color  ... birth_year  gender homeworld species\n",
              "0   Luke Skywalker    172   77      blond  ...      19BBY    male  Tatooine   Human\n",
              "1            C-3PO    167   75         NA  ...     112BBY      NA  Tatooine   Droid\n",
              "2            R2-D2     96   32         NA  ...      33BBY      NA     Naboo   Droid\n",
              "3      Darth Vader    202  136       none  ...    41.9BBY    male  Tatooine   Human\n",
              "4      Leia Organa    150   49      brown  ...      19BBY  female  Alderaan   Human\n",
              "..             ...    ...  ...        ...  ...        ...     ...       ...     ...\n",
              "82             Rey     NA   NA      brown  ...         NA  female        NA   Human\n",
              "83     Poe Dameron     NA   NA      brown  ...         NA    male        NA   Human\n",
              "84             BB8     NA   NA       none  ...         NA    none        NA   Droid\n",
              "85  Captain Phasma     NA   NA         NA  ...         NA  female        NA      NA\n",
              "86   Padmé Amidala    165   45      brown  ...      46BBY  female     Naboo   Human\n",
              "\n",
              "[87 rows x 10 columns]"
            ]
          },
          "metadata": {},
          "execution_count": 29
        }
      ]
    },
    {
      "cell_type": "code",
      "metadata": {
        "id": "qKlZCm8Hl0tg",
        "colab": {
          "base_uri": "https://localhost:8080/"
        },
        "outputId": "363aaf29-4183-4aeb-9e1c-9a219c2ebe22"
      },
      "source": [
        "characters_df \\\n",
        "  .groupBy(\"eye_color\") \\\n",
        "  .count() \\\n",
        "  .orderBy(col(\"count\").desc()) \\\n",
        "  .limit(1) \\\n",
        "  .show() \\"
      ],
      "execution_count": 30,
      "outputs": [
        {
          "output_type": "stream",
          "name": "stdout",
          "text": [
            "+---------+-----+\n",
            "|eye_color|count|\n",
            "+---------+-----+\n",
            "|    brown|   21|\n",
            "+---------+-----+\n",
            "\n"
          ]
        }
      ]
    },
    {
      "cell_type": "markdown",
      "metadata": {
        "id": "yT-AFIMvm43z"
      },
      "source": [
        "## Exercise 4"
      ]
    },
    {
      "cell_type": "markdown",
      "metadata": {
        "id": "C9UBVU6ym9ue"
      },
      "source": [
        "1. Load characters DataFrame into a temporary table\n",
        "2. Using SQL, get the number of characters by gender\n",
        "\n",
        "\n",
        "---\n",
        "\n"
      ]
    },
    {
      "cell_type": "code",
      "metadata": {
        "id": "nbQcMwsJmY4m",
        "colab": {
          "base_uri": "https://localhost:8080/"
        },
        "outputId": "12320ee2-1902-4cac-ab02-26c89dd05f92"
      },
      "source": [
        "characters_df \\\n",
        ".withColumn(\"gender\",\n",
        "    when(col(\"gender\") == \"none\", lit(\"NA\")) \\\n",
        "        .otherwise(characters_df.gender)) \\\n",
        ".registerTempTable(\"characters\")"
      ],
      "execution_count": 31,
      "outputs": [
        {
          "output_type": "stream",
          "name": "stderr",
          "text": [
            "/content/spark-3.2.0-bin-hadoop3.2/python/pyspark/sql/dataframe.py:140: FutureWarning:\n",
            "\n",
            "Deprecated in 2.0, use createOrReplaceTempView instead.\n",
            "\n"
          ]
        }
      ]
    },
    {
      "cell_type": "code",
      "metadata": {
        "id": "tMADdr0FnK7E",
        "colab": {
          "base_uri": "https://localhost:8080/"
        },
        "outputId": "618ad91a-1307-48bb-d1b1-c87585100047"
      },
      "source": [
        "byGender = spark.sql(\"select gender, count(*) as count from characters group by gender\")\n",
        "byGender.show()"
      ],
      "execution_count": 32,
      "outputs": [
        {
          "output_type": "stream",
          "name": "stdout",
          "text": [
            "+-------------+-----+\n",
            "|       gender|count|\n",
            "+-------------+-----+\n",
            "|           NA|    5|\n",
            "|hermaphrodite|    1|\n",
            "|       female|   19|\n",
            "|         male|   62|\n",
            "+-------------+-----+\n",
            "\n"
          ]
        }
      ]
    },
    {
      "cell_type": "code",
      "metadata": {
        "id": "NdBgPJ8bnvsq",
        "colab": {
          "base_uri": "https://localhost:8080/",
          "height": 542
        },
        "outputId": "4404019a-7659-4e7a-c074-1de5dd2548cb"
      },
      "source": [
        "import plotly.express as px\n",
        "\n",
        "fig = px.pie(byGender.toPandas(), values='count', names='gender', title='By Gender')\n",
        "fig.show()"
      ],
      "execution_count": 33,
      "outputs": [
        {
          "output_type": "display_data",
          "data": {
            "text/html": [
              "<html>\n",
              "<head><meta charset=\"utf-8\" /></head>\n",
              "<body>\n",
              "    <div>\n",
              "            <script src=\"https://cdnjs.cloudflare.com/ajax/libs/mathjax/2.7.5/MathJax.js?config=TeX-AMS-MML_SVG\"></script><script type=\"text/javascript\">if (window.MathJax) {MathJax.Hub.Config({SVG: {font: \"STIX-Web\"}});}</script>\n",
              "                <script type=\"text/javascript\">window.PlotlyConfig = {MathJaxConfig: 'local'};</script>\n",
              "        <script src=\"https://cdn.plot.ly/plotly-latest.min.js\"></script>    \n",
              "            <div id=\"4a9020eb-6e75-4280-ab45-fdef01442f74\" class=\"plotly-graph-div\" style=\"height:525px; width:100%;\"></div>\n",
              "            <script type=\"text/javascript\">\n",
              "                \n",
              "                    window.PLOTLYENV=window.PLOTLYENV || {};\n",
              "                    \n",
              "                if (document.getElementById(\"4a9020eb-6e75-4280-ab45-fdef01442f74\")) {\n",
              "                    Plotly.newPlot(\n",
              "                        '4a9020eb-6e75-4280-ab45-fdef01442f74',\n",
              "                        [{\"domain\": {\"x\": [0.0, 1.0], \"y\": [0.0, 1.0]}, \"hoverlabel\": {\"namelength\": 0}, \"hovertemplate\": \"gender=%{label}<br>count=%{value}\", \"labels\": [\"NA\", \"hermaphrodite\", \"female\", \"male\"], \"legendgroup\": \"\", \"name\": \"\", \"showlegend\": true, \"type\": \"pie\", \"values\": [5, 1, 19, 62]}],\n",
              "                        {\"legend\": {\"tracegroupgap\": 0}, \"template\": {\"data\": {\"bar\": [{\"error_x\": {\"color\": \"#2a3f5f\"}, \"error_y\": {\"color\": \"#2a3f5f\"}, \"marker\": {\"line\": {\"color\": \"#E5ECF6\", \"width\": 0.5}}, \"type\": \"bar\"}], \"barpolar\": [{\"marker\": {\"line\": {\"color\": \"#E5ECF6\", \"width\": 0.5}}, \"type\": \"barpolar\"}], \"carpet\": [{\"aaxis\": {\"endlinecolor\": \"#2a3f5f\", \"gridcolor\": \"white\", \"linecolor\": \"white\", \"minorgridcolor\": \"white\", \"startlinecolor\": \"#2a3f5f\"}, \"baxis\": {\"endlinecolor\": \"#2a3f5f\", \"gridcolor\": \"white\", \"linecolor\": \"white\", \"minorgridcolor\": \"white\", \"startlinecolor\": \"#2a3f5f\"}, \"type\": \"carpet\"}], \"choropleth\": [{\"colorbar\": {\"outlinewidth\": 0, \"ticks\": \"\"}, \"type\": \"choropleth\"}], \"contour\": [{\"colorbar\": {\"outlinewidth\": 0, \"ticks\": \"\"}, \"colorscale\": [[0.0, \"#0d0887\"], [0.1111111111111111, \"#46039f\"], [0.2222222222222222, \"#7201a8\"], [0.3333333333333333, \"#9c179e\"], [0.4444444444444444, \"#bd3786\"], [0.5555555555555556, \"#d8576b\"], [0.6666666666666666, \"#ed7953\"], [0.7777777777777778, \"#fb9f3a\"], [0.8888888888888888, \"#fdca26\"], [1.0, \"#f0f921\"]], \"type\": \"contour\"}], \"contourcarpet\": [{\"colorbar\": {\"outlinewidth\": 0, \"ticks\": \"\"}, \"type\": \"contourcarpet\"}], \"heatmap\": [{\"colorbar\": {\"outlinewidth\": 0, \"ticks\": \"\"}, \"colorscale\": [[0.0, \"#0d0887\"], [0.1111111111111111, \"#46039f\"], [0.2222222222222222, \"#7201a8\"], [0.3333333333333333, \"#9c179e\"], [0.4444444444444444, \"#bd3786\"], [0.5555555555555556, \"#d8576b\"], [0.6666666666666666, \"#ed7953\"], [0.7777777777777778, \"#fb9f3a\"], [0.8888888888888888, \"#fdca26\"], [1.0, \"#f0f921\"]], \"type\": \"heatmap\"}], \"heatmapgl\": [{\"colorbar\": {\"outlinewidth\": 0, \"ticks\": \"\"}, \"colorscale\": [[0.0, \"#0d0887\"], [0.1111111111111111, \"#46039f\"], [0.2222222222222222, \"#7201a8\"], [0.3333333333333333, \"#9c179e\"], [0.4444444444444444, \"#bd3786\"], [0.5555555555555556, \"#d8576b\"], [0.6666666666666666, \"#ed7953\"], [0.7777777777777778, \"#fb9f3a\"], [0.8888888888888888, \"#fdca26\"], [1.0, \"#f0f921\"]], \"type\": \"heatmapgl\"}], \"histogram\": [{\"marker\": {\"colorbar\": {\"outlinewidth\": 0, \"ticks\": \"\"}}, \"type\": \"histogram\"}], \"histogram2d\": [{\"colorbar\": {\"outlinewidth\": 0, \"ticks\": \"\"}, \"colorscale\": [[0.0, \"#0d0887\"], [0.1111111111111111, \"#46039f\"], [0.2222222222222222, \"#7201a8\"], [0.3333333333333333, \"#9c179e\"], [0.4444444444444444, \"#bd3786\"], [0.5555555555555556, \"#d8576b\"], [0.6666666666666666, \"#ed7953\"], [0.7777777777777778, \"#fb9f3a\"], [0.8888888888888888, \"#fdca26\"], [1.0, \"#f0f921\"]], \"type\": \"histogram2d\"}], \"histogram2dcontour\": [{\"colorbar\": {\"outlinewidth\": 0, \"ticks\": \"\"}, \"colorscale\": [[0.0, \"#0d0887\"], [0.1111111111111111, \"#46039f\"], [0.2222222222222222, \"#7201a8\"], [0.3333333333333333, \"#9c179e\"], [0.4444444444444444, \"#bd3786\"], [0.5555555555555556, \"#d8576b\"], [0.6666666666666666, \"#ed7953\"], [0.7777777777777778, \"#fb9f3a\"], [0.8888888888888888, \"#fdca26\"], [1.0, \"#f0f921\"]], \"type\": \"histogram2dcontour\"}], \"mesh3d\": [{\"colorbar\": {\"outlinewidth\": 0, \"ticks\": \"\"}, \"type\": \"mesh3d\"}], \"parcoords\": [{\"line\": {\"colorbar\": {\"outlinewidth\": 0, \"ticks\": \"\"}}, \"type\": \"parcoords\"}], \"pie\": [{\"automargin\": true, \"type\": \"pie\"}], \"scatter\": [{\"marker\": {\"colorbar\": {\"outlinewidth\": 0, \"ticks\": \"\"}}, \"type\": \"scatter\"}], \"scatter3d\": [{\"line\": {\"colorbar\": {\"outlinewidth\": 0, \"ticks\": \"\"}}, \"marker\": {\"colorbar\": {\"outlinewidth\": 0, \"ticks\": \"\"}}, \"type\": \"scatter3d\"}], \"scattercarpet\": [{\"marker\": {\"colorbar\": {\"outlinewidth\": 0, \"ticks\": \"\"}}, \"type\": \"scattercarpet\"}], \"scattergeo\": [{\"marker\": {\"colorbar\": {\"outlinewidth\": 0, \"ticks\": \"\"}}, \"type\": \"scattergeo\"}], \"scattergl\": [{\"marker\": {\"colorbar\": {\"outlinewidth\": 0, \"ticks\": \"\"}}, \"type\": \"scattergl\"}], \"scattermapbox\": [{\"marker\": {\"colorbar\": {\"outlinewidth\": 0, \"ticks\": \"\"}}, \"type\": \"scattermapbox\"}], \"scatterpolar\": [{\"marker\": {\"colorbar\": {\"outlinewidth\": 0, \"ticks\": \"\"}}, \"type\": \"scatterpolar\"}], \"scatterpolargl\": [{\"marker\": {\"colorbar\": {\"outlinewidth\": 0, \"ticks\": \"\"}}, \"type\": \"scatterpolargl\"}], \"scatterternary\": [{\"marker\": {\"colorbar\": {\"outlinewidth\": 0, \"ticks\": \"\"}}, \"type\": \"scatterternary\"}], \"surface\": [{\"colorbar\": {\"outlinewidth\": 0, \"ticks\": \"\"}, \"colorscale\": [[0.0, \"#0d0887\"], [0.1111111111111111, \"#46039f\"], [0.2222222222222222, \"#7201a8\"], [0.3333333333333333, \"#9c179e\"], [0.4444444444444444, \"#bd3786\"], [0.5555555555555556, \"#d8576b\"], [0.6666666666666666, \"#ed7953\"], [0.7777777777777778, \"#fb9f3a\"], [0.8888888888888888, \"#fdca26\"], [1.0, \"#f0f921\"]], \"type\": \"surface\"}], \"table\": [{\"cells\": {\"fill\": {\"color\": \"#EBF0F8\"}, \"line\": {\"color\": \"white\"}}, \"header\": {\"fill\": {\"color\": \"#C8D4E3\"}, \"line\": {\"color\": \"white\"}}, \"type\": \"table\"}]}, \"layout\": {\"annotationdefaults\": {\"arrowcolor\": \"#2a3f5f\", \"arrowhead\": 0, \"arrowwidth\": 1}, \"coloraxis\": {\"colorbar\": {\"outlinewidth\": 0, \"ticks\": \"\"}}, \"colorscale\": {\"diverging\": [[0, \"#8e0152\"], [0.1, \"#c51b7d\"], [0.2, \"#de77ae\"], [0.3, \"#f1b6da\"], [0.4, \"#fde0ef\"], [0.5, \"#f7f7f7\"], [0.6, \"#e6f5d0\"], [0.7, \"#b8e186\"], [0.8, \"#7fbc41\"], [0.9, \"#4d9221\"], [1, \"#276419\"]], \"sequential\": [[0.0, \"#0d0887\"], [0.1111111111111111, \"#46039f\"], [0.2222222222222222, \"#7201a8\"], [0.3333333333333333, \"#9c179e\"], [0.4444444444444444, \"#bd3786\"], [0.5555555555555556, \"#d8576b\"], [0.6666666666666666, \"#ed7953\"], [0.7777777777777778, \"#fb9f3a\"], [0.8888888888888888, \"#fdca26\"], [1.0, \"#f0f921\"]], \"sequentialminus\": [[0.0, \"#0d0887\"], [0.1111111111111111, \"#46039f\"], [0.2222222222222222, \"#7201a8\"], [0.3333333333333333, \"#9c179e\"], [0.4444444444444444, \"#bd3786\"], [0.5555555555555556, \"#d8576b\"], [0.6666666666666666, \"#ed7953\"], [0.7777777777777778, \"#fb9f3a\"], [0.8888888888888888, \"#fdca26\"], [1.0, \"#f0f921\"]]}, \"colorway\": [\"#636efa\", \"#EF553B\", \"#00cc96\", \"#ab63fa\", \"#FFA15A\", \"#19d3f3\", \"#FF6692\", \"#B6E880\", \"#FF97FF\", \"#FECB52\"], \"font\": {\"color\": \"#2a3f5f\"}, \"geo\": {\"bgcolor\": \"white\", \"lakecolor\": \"white\", \"landcolor\": \"#E5ECF6\", \"showlakes\": true, \"showland\": true, \"subunitcolor\": \"white\"}, \"hoverlabel\": {\"align\": \"left\"}, \"hovermode\": \"closest\", \"mapbox\": {\"style\": \"light\"}, \"paper_bgcolor\": \"white\", \"plot_bgcolor\": \"#E5ECF6\", \"polar\": {\"angularaxis\": {\"gridcolor\": \"white\", \"linecolor\": \"white\", \"ticks\": \"\"}, \"bgcolor\": \"#E5ECF6\", \"radialaxis\": {\"gridcolor\": \"white\", \"linecolor\": \"white\", \"ticks\": \"\"}}, \"scene\": {\"xaxis\": {\"backgroundcolor\": \"#E5ECF6\", \"gridcolor\": \"white\", \"gridwidth\": 2, \"linecolor\": \"white\", \"showbackground\": true, \"ticks\": \"\", \"zerolinecolor\": \"white\"}, \"yaxis\": {\"backgroundcolor\": \"#E5ECF6\", \"gridcolor\": \"white\", \"gridwidth\": 2, \"linecolor\": \"white\", \"showbackground\": true, \"ticks\": \"\", \"zerolinecolor\": \"white\"}, \"zaxis\": {\"backgroundcolor\": \"#E5ECF6\", \"gridcolor\": \"white\", \"gridwidth\": 2, \"linecolor\": \"white\", \"showbackground\": true, \"ticks\": \"\", \"zerolinecolor\": \"white\"}}, \"shapedefaults\": {\"line\": {\"color\": \"#2a3f5f\"}}, \"ternary\": {\"aaxis\": {\"gridcolor\": \"white\", \"linecolor\": \"white\", \"ticks\": \"\"}, \"baxis\": {\"gridcolor\": \"white\", \"linecolor\": \"white\", \"ticks\": \"\"}, \"bgcolor\": \"#E5ECF6\", \"caxis\": {\"gridcolor\": \"white\", \"linecolor\": \"white\", \"ticks\": \"\"}}, \"title\": {\"x\": 0.05}, \"xaxis\": {\"automargin\": true, \"gridcolor\": \"white\", \"linecolor\": \"white\", \"ticks\": \"\", \"title\": {\"standoff\": 15}, \"zerolinecolor\": \"white\", \"zerolinewidth\": 2}, \"yaxis\": {\"automargin\": true, \"gridcolor\": \"white\", \"linecolor\": \"white\", \"ticks\": \"\", \"title\": {\"standoff\": 15}, \"zerolinecolor\": \"white\", \"zerolinewidth\": 2}}}, \"title\": {\"text\": \"By Gender\"}},\n",
              "                        {\"responsive\": true}\n",
              "                    ).then(function(){\n",
              "                            \n",
              "var gd = document.getElementById('4a9020eb-6e75-4280-ab45-fdef01442f74');\n",
              "var x = new MutationObserver(function (mutations, observer) {{\n",
              "        var display = window.getComputedStyle(gd).display;\n",
              "        if (!display || display === 'none') {{\n",
              "            console.log([gd, 'removed!']);\n",
              "            Plotly.purge(gd);\n",
              "            observer.disconnect();\n",
              "        }}\n",
              "}});\n",
              "\n",
              "// Listen for the removal of the full notebook cells\n",
              "var notebookContainer = gd.closest('#notebook-container');\n",
              "if (notebookContainer) {{\n",
              "    x.observe(notebookContainer, {childList: true});\n",
              "}}\n",
              "\n",
              "// Listen for the clearing of the current output cell\n",
              "var outputEl = gd.closest('.output');\n",
              "if (outputEl) {{\n",
              "    x.observe(outputEl, {childList: true});\n",
              "}}\n",
              "\n",
              "                        })\n",
              "                };\n",
              "                \n",
              "            </script>\n",
              "        </div>\n",
              "</body>\n",
              "</html>"
            ]
          },
          "metadata": {}
        }
      ]
    },
    {
      "cell_type": "markdown",
      "metadata": {
        "id": "tv0AmHi926F7"
      },
      "source": [
        "## Exercise 5"
      ]
    },
    {
      "cell_type": "markdown",
      "metadata": {
        "id": "WR6FPU3b29TP"
      },
      "source": [
        "Load `netflix_titles.csv` file in a DataFrame, printing the schema\n",
        "\n",
        "---\n",
        "\n"
      ]
    },
    {
      "cell_type": "code",
      "metadata": {
        "id": "5zyuYbll3UrI",
        "colab": {
          "base_uri": "https://localhost:8080/"
        },
        "outputId": "2c0b7ca8-42c5-4ede-c2d1-b0bc5314f691"
      },
      "source": [
        "!head /dataset/netflix_titles.csv"
      ],
      "execution_count": 34,
      "outputs": [
        {
          "output_type": "stream",
          "name": "stdout",
          "text": [
            "show_id,type,title,director,cast,country,date_added,release_year,rating,duration,listed_in,description\n",
            "81145628,Movie,Norm of the North: King Sized Adventure,\"Richard Finn, Tim Maltby\",\"Alan Marriott, Andrew Toth, Brian Dobson, Cole Howard, Jennifer Cameron, Jonathan Holmes, Lee Tockar, Lisa Durupt, Maya Kay, Michael Dobson\",\"United States, India, South Korea, China\",\"September 9, 2019\",2019,TV-PG,90 min,\"Children & Family Movies, Comedies\",\"Before planning an awesome wedding for his grandfather, a polar bear king must take back a stolen artifact from an evil archaeologist first.\"\n",
            "80117401,Movie,Jandino: Whatever it Takes,,Jandino Asporaat,United Kingdom,\"September 9, 2016\",2016,TV-MA,94 min,Stand-Up Comedy,\"Jandino Asporaat riffs on the challenges of raising kids and serenades the audience with a rousing rendition of \"\"Sex on Fire\"\" in his comedy show.\"\n",
            "70234439,TV Show,Transformers Prime,,\"Peter Cullen, Sumalee Montano, Frank Welker, Jeffrey Combs, Kevin Michael Richardson, Tania Gunadi, Josh Keaton, Steve Blum, Andy Pessoa, Ernie Hudson, Daran Norris, Will Friedle\",United States,\"September 8, 2018\",2013,TV-Y7-FV,1 Season,Kids' TV,\"With the help of three human allies, the Autobots once again protect Earth from the onslaught of the Decepticons and their leader, Megatron.\"\n",
            "80058654,TV Show,Transformers: Robots in Disguise,,\"Will Friedle, Darren Criss, Constance Zimmer, Khary Payton, Mitchell Whitfield, Stuart Allan, Ted McGinley, Peter Cullen\",United States,\"September 8, 2018\",2016,TV-Y7,1 Season,Kids' TV,\"When a prison ship crash unleashes hundreds of Decepticons on Earth, Bumblebee leads a new Autobot force to protect humankind.\"\n",
            "80125979,Movie,#realityhigh,Fernando Lebrija,\"Nesta Cooper, Kate Walsh, John Michael Higgins, Keith Powers, Alicia Sanz, Jake Borelli, Kid Ink, Yousef Erakat, Rebekah Graf, Anne Winters, Peter Gilroy, Patrick Davis\",United States,\"September 8, 2017\",2017,TV-14,99 min,Comedies,\"When nerdy high schooler Dani finally attracts the interest of her longtime crush, she lands in the cross hairs of his ex, a social media celebrity.\"\n",
            "80163890,TV Show,Apaches,,\"Alberto Ammann, Eloy Azorín, Verónica Echegui, Lucía Jiménez, Claudia Traisac\",Spain,\"September 8, 2017\",2016,TV-MA,1 Season,\"Crime TV Shows, International TV Shows, Spanish-Language TV Shows\",A young journalist is forced into a life of crime to save his father and family in this series based on the novel by Miguel Sáez Carral.\n",
            "70304989,Movie,Automata,Gabe Ibáñez,\"Antonio Banderas, Dylan McDermott, Melanie Griffith, Birgitte Hjort Sørensen, Robert Forster, Christa Campbell, Tim McInnerny, Andy Nyman, David Ryall\",\"Bulgaria, United States, Spain, Canada\",\"September 8, 2017\",2014,R,110 min,\"International Movies, Sci-Fi & Fantasy, Thrillers\",\"In a dystopian future, an insurance adjuster for a tech company investigates a robot killed for violating protocol and discovers a global conspiracy.\"\n",
            "80164077,Movie,Fabrizio Copano: Solo pienso en mi,\"Rodrigo Toro, Francisco Schultz\",Fabrizio Copano,Chile,\"September 8, 2017\",2017,TV-MA,60 min,Stand-Up Comedy,\"Fabrizio Copano takes audience participation to the next level in this stand-up set while reflecting on sperm banks, family WhatsApp groups and more.\"\n",
            "80117902,TV Show,Fire Chasers,,,United States,\"September 8, 2017\",2017,TV-MA,1 Season,\"Docuseries, Science & Nature TV\",\"As California's 2016 fire season rages, brave backcountry firefighters race to put out the flames, protect homes and save lives in this docuseries.\"\n"
          ]
        }
      ]
    },
    {
      "cell_type": "code",
      "metadata": {
        "id": "i4jSnroRoJXg"
      },
      "source": [
        "netflixDF_all = spark.read.format(\"csv\")\\\n",
        "  .option(\"sep\", \",\") \\\n",
        "  .option(\"inferSchema\", \"true\") \\\n",
        "  .option(\"header\", \"true\") \\\n",
        "  .load(\"/dataset/netflix_titles.csv\")\n"
      ],
      "execution_count": 35,
      "outputs": []
    },
    {
      "cell_type": "code",
      "metadata": {
        "id": "r1Qm9VkV3Zm6",
        "colab": {
          "base_uri": "https://localhost:8080/"
        },
        "outputId": "884c78f8-ced2-4a0c-d7f9-6ae7e51ab338"
      },
      "source": [
        "netflixDF_all.printSchema()"
      ],
      "execution_count": 36,
      "outputs": [
        {
          "output_type": "stream",
          "name": "stdout",
          "text": [
            "root\n",
            " |-- show_id: string (nullable = true)\n",
            " |-- type: string (nullable = true)\n",
            " |-- title: string (nullable = true)\n",
            " |-- director: string (nullable = true)\n",
            " |-- cast: string (nullable = true)\n",
            " |-- country: string (nullable = true)\n",
            " |-- date_added: string (nullable = true)\n",
            " |-- release_year: string (nullable = true)\n",
            " |-- rating: string (nullable = true)\n",
            " |-- duration: string (nullable = true)\n",
            " |-- listed_in: string (nullable = true)\n",
            " |-- description: string (nullable = true)\n",
            "\n"
          ]
        }
      ]
    },
    {
      "cell_type": "code",
      "metadata": {
        "id": "s3qnxQT_3cd3",
        "colab": {
          "base_uri": "https://localhost:8080/"
        },
        "outputId": "c273c160-b08a-497b-acce-3536e26b7c09"
      },
      "source": [
        "netflixDF_all.show()"
      ],
      "execution_count": 37,
      "outputs": [
        {
          "output_type": "stream",
          "name": "stdout",
          "text": [
            "+--------+-------+--------------------+--------------------+--------------------+--------------------+-----------------+------------+--------+--------+--------------------+--------------------+\n",
            "| show_id|   type|               title|            director|                cast|             country|       date_added|release_year|  rating|duration|           listed_in|         description|\n",
            "+--------+-------+--------------------+--------------------+--------------------+--------------------+-----------------+------------+--------+--------+--------------------+--------------------+\n",
            "|81145628|  Movie|Norm of the North...|Richard Finn, Tim...|Alan Marriott, An...|United States, In...|September 9, 2019|        2019|   TV-PG|  90 min|Children & Family...|Before planning a...|\n",
            "|80117401|  Movie|Jandino: Whatever...|                null|    Jandino Asporaat|      United Kingdom|September 9, 2016|        2016|   TV-MA|  94 min|     Stand-Up Comedy|\"Jandino Asporaat...|\n",
            "|70234439|TV Show|  Transformers Prime|                null|Peter Cullen, Sum...|       United States|September 8, 2018|        2013|TV-Y7-FV|1 Season|            Kids' TV|With the help of ...|\n",
            "|80058654|TV Show|Transformers: Rob...|                null|Will Friedle, Dar...|       United States|September 8, 2018|        2016|   TV-Y7|1 Season|            Kids' TV|When a prison shi...|\n",
            "|80125979|  Movie|        #realityhigh|    Fernando Lebrija|Nesta Cooper, Kat...|       United States|September 8, 2017|        2017|   TV-14|  99 min|            Comedies|When nerdy high s...|\n",
            "|80163890|TV Show|             Apaches|                null|Alberto Ammann, E...|               Spain|September 8, 2017|        2016|   TV-MA|1 Season|Crime TV Shows, I...|A young journalis...|\n",
            "|70304989|  Movie|            Automata|         Gabe Ibáñez|Antonio Banderas,...|Bulgaria, United ...|September 8, 2017|        2014|       R| 110 min|International Mov...|In a dystopian fu...|\n",
            "|80164077|  Movie|Fabrizio Copano: ...|Rodrigo Toro, Fra...|     Fabrizio Copano|               Chile|September 8, 2017|        2017|   TV-MA|  60 min|     Stand-Up Comedy|Fabrizio Copano t...|\n",
            "|80117902|TV Show|        Fire Chasers|                null|                null|       United States|September 8, 2017|        2017|   TV-MA|1 Season|Docuseries, Scien...|As California's 2...|\n",
            "|70304990|  Movie|         Good People|   Henrik Ruben Genz|James Franco, Kat...|United States, Un...|September 8, 2017|        2014|       R|  90 min|Action & Adventur...|A struggling coup...|\n",
            "|80169755|  Movie|Joaquín Reyes: Un...|José Miguel Contr...|       Joaquín Reyes|                null|September 8, 2017|        2017|   TV-MA|  78 min|     Stand-Up Comedy|Comedian and cele...|\n",
            "|70299204|  Movie|Kidnapping Mr. He...|    Daniel Alfredson|Jim Sturgess, Sam...|Netherlands, Belg...|September 8, 2017|        2015|       R|  95 min|Action & Adventur...|\"When beer magnat...|\n",
            "|80182480|  Movie|Krish Trish and B...|                null|Damandeep Singh B...|                null|September 8, 2017|        2009|   TV-Y7|  58 min|Children & Family...|A team of minstre...|\n",
            "|80182483|  Movie|Krish Trish and B...|Munjal Shroff, Ti...|Damandeep Singh B...|                null|September 8, 2017|        2013|   TV-Y7|  62 min|Children & Family...|An artisan is che...|\n",
            "|80182596|  Movie|Krish Trish and B...|Munjal Shroff, Ti...|Damandeep Singh B...|                null|September 8, 2017|        2016|    TV-Y|  65 min|Children & Family...|A cat, monkey and...|\n",
            "|80182482|  Movie|Krish Trish and B...|        Tilak Shetty|Damandeep Singh B...|                null|September 8, 2017|        2012|   TV-Y7|  61 min|Children & Family...|In three comic-st...|\n",
            "|80182597|  Movie|Krish Trish and B...|        Tilak Shetty|Rishi Gambhir, Sm...|                null|September 8, 2017|        2017|   TV-Y7|  65 min|Children & Family...|A cat, monkey and...|\n",
            "|80182481|  Movie|Krish Trish and B...|                null|Damandeep Singh B...|                null|September 8, 2017|        2010|   TV-Y7|  58 min|Children & Family...|Animal minstrels ...|\n",
            "|80182621|  Movie|Krish Trish and B...|Munjal Shroff, Ti...|Damandeep Singh B...|                null|September 8, 2017|        2013|   TV-Y7|  60 min|Children & Family...|The consequences ...|\n",
            "|80057969|  Movie|                Love|          Gaspar Noé|Karl Glusman, Kla...|     France, Belgium|September 8, 2017|        2015|      NR| 135 min|Cult Movies, Dram...|A man in an unsat...|\n",
            "+--------+-------+--------------------+--------------------+--------------------+--------------------+-----------------+------------+--------+--------+--------------------+--------------------+\n",
            "only showing top 20 rows\n",
            "\n"
          ]
        }
      ]
    },
    {
      "cell_type": "markdown",
      "metadata": {
        "id": "xG81SgpY4P3t"
      },
      "source": [
        "## Exercise 6"
      ]
    },
    {
      "cell_type": "markdown",
      "metadata": {
        "id": "56fGSsmt4adO"
      },
      "source": [
        "Get the year in which most films were added(No TV Shows). Use a UDF to get the year\n",
        "\n",
        "---\n",
        "\n"
      ]
    },
    {
      "cell_type": "code",
      "metadata": {
        "id": "EFvUIbn93woD",
        "colab": {
          "base_uri": "https://localhost:8080/"
        },
        "outputId": "46422754-234e-4dc9-a17e-fcad81a1a446"
      },
      "source": [
        "from pyspark.sql.functions import *\n",
        "\n",
        "netflixDF_movies = netflixDF_all\\\n",
        "  .filter(netflixDF_all.type == \"Movie\") \\\n",
        "\n",
        "netflixDF_movies.show()"
      ],
      "execution_count": 38,
      "outputs": [
        {
          "output_type": "stream",
          "name": "stdout",
          "text": [
            "+--------+-----+--------------------+--------------------+--------------------+--------------------+-----------------+------------+------+--------+--------------------+--------------------+\n",
            "| show_id| type|               title|            director|                cast|             country|       date_added|release_year|rating|duration|           listed_in|         description|\n",
            "+--------+-----+--------------------+--------------------+--------------------+--------------------+-----------------+------------+------+--------+--------------------+--------------------+\n",
            "|81145628|Movie|Norm of the North...|Richard Finn, Tim...|Alan Marriott, An...|United States, In...|September 9, 2019|        2019| TV-PG|  90 min|Children & Family...|Before planning a...|\n",
            "|80117401|Movie|Jandino: Whatever...|                null|    Jandino Asporaat|      United Kingdom|September 9, 2016|        2016| TV-MA|  94 min|     Stand-Up Comedy|\"Jandino Asporaat...|\n",
            "|80125979|Movie|        #realityhigh|    Fernando Lebrija|Nesta Cooper, Kat...|       United States|September 8, 2017|        2017| TV-14|  99 min|            Comedies|When nerdy high s...|\n",
            "|70304989|Movie|            Automata|         Gabe Ibáñez|Antonio Banderas,...|Bulgaria, United ...|September 8, 2017|        2014|     R| 110 min|International Mov...|In a dystopian fu...|\n",
            "|80164077|Movie|Fabrizio Copano: ...|Rodrigo Toro, Fra...|     Fabrizio Copano|               Chile|September 8, 2017|        2017| TV-MA|  60 min|     Stand-Up Comedy|Fabrizio Copano t...|\n",
            "|70304990|Movie|         Good People|   Henrik Ruben Genz|James Franco, Kat...|United States, Un...|September 8, 2017|        2014|     R|  90 min|Action & Adventur...|A struggling coup...|\n",
            "|80169755|Movie|Joaquín Reyes: Un...|José Miguel Contr...|       Joaquín Reyes|                null|September 8, 2017|        2017| TV-MA|  78 min|     Stand-Up Comedy|Comedian and cele...|\n",
            "|70299204|Movie|Kidnapping Mr. He...|    Daniel Alfredson|Jim Sturgess, Sam...|Netherlands, Belg...|September 8, 2017|        2015|     R|  95 min|Action & Adventur...|\"When beer magnat...|\n",
            "|80182480|Movie|Krish Trish and B...|                null|Damandeep Singh B...|                null|September 8, 2017|        2009| TV-Y7|  58 min|Children & Family...|A team of minstre...|\n",
            "|80182483|Movie|Krish Trish and B...|Munjal Shroff, Ti...|Damandeep Singh B...|                null|September 8, 2017|        2013| TV-Y7|  62 min|Children & Family...|An artisan is che...|\n",
            "|80182596|Movie|Krish Trish and B...|Munjal Shroff, Ti...|Damandeep Singh B...|                null|September 8, 2017|        2016|  TV-Y|  65 min|Children & Family...|A cat, monkey and...|\n",
            "|80182482|Movie|Krish Trish and B...|        Tilak Shetty|Damandeep Singh B...|                null|September 8, 2017|        2012| TV-Y7|  61 min|Children & Family...|In three comic-st...|\n",
            "|80182597|Movie|Krish Trish and B...|        Tilak Shetty|Rishi Gambhir, Sm...|                null|September 8, 2017|        2017| TV-Y7|  65 min|Children & Family...|A cat, monkey and...|\n",
            "|80182481|Movie|Krish Trish and B...|                null|Damandeep Singh B...|                null|September 8, 2017|        2010| TV-Y7|  58 min|Children & Family...|Animal minstrels ...|\n",
            "|80182621|Movie|Krish Trish and B...|Munjal Shroff, Ti...|Damandeep Singh B...|                null|September 8, 2017|        2013| TV-Y7|  60 min|Children & Family...|The consequences ...|\n",
            "|80057969|Movie|                Love|          Gaspar Noé|Karl Glusman, Kla...|     France, Belgium|September 8, 2017|        2015|    NR| 135 min|Cult Movies, Dram...|A man in an unsat...|\n",
            "|80060297|Movie|   Manhattan Romance|         Tom O'Brien|Tom O'Brien, Kath...|       United States|September 8, 2017|        2014| TV-14|  98 min|Comedies, Indepen...|A filmmaker worki...|\n",
            "|80046728|Movie|         Moonwalkers|Antoine Bardou-Ja...|Ron Perlman, Rupe...|     France, Belgium|September 8, 2017|        2015|     R|  96 min|Action & Adventur...|A brain-addled wa...|\n",
            "|80046727|Movie|      Rolling Papers|       Mitch Dickman|                null|United States, Ur...|September 8, 2017|        2015| TV-MA|  79 min|       Documentaries|As the newspaper ...|\n",
            "|70304988|Movie|  Stonehearst Asylum|       Brad Anderson|Kate Beckinsale, ...|       United States|September 8, 2017|        2014| PG-13| 113 min|Horror Movies, Th...|In 1899, a young ...|\n",
            "+--------+-----+--------------------+--------------------+--------------------+--------------------+-----------------+------------+------+--------+--------------------+--------------------+\n",
            "only showing top 20 rows\n",
            "\n"
          ]
        }
      ]
    },
    {
      "cell_type": "code",
      "metadata": {
        "id": "XhNn5PZX6Dpf",
        "colab": {
          "base_uri": "https://localhost:8080/"
        },
        "outputId": "10910058-4cf2-4b15-e26e-c19fe0f8cd41"
      },
      "source": [
        "from pyspark.sql.functions import *\n",
        "\n",
        "def getYearAdded(s): return s[-4:]\n",
        "getYearAdded_udf = udf(getYearAdded)\n",
        "\n",
        "netflixDF_movies \\\n",
        "  .filter(col(\"date_added\").isNotNull()) \\\n",
        "  .select(col(\"title\"), getYearAdded_udf(\"date_added\").alias(\"release_year\")) \\\n",
        "  .distinct() \\\n",
        "  .groupBy(col(\"release_year\")) \\\n",
        "  .count() \\\n",
        "  .orderBy(col(\"count\").desc()) \\\n",
        "  .first()"
      ],
      "execution_count": 39,
      "outputs": [
        {
          "output_type": "execute_result",
          "data": {
            "text/plain": [
              "Row(release_year='2019', count=1540)"
            ]
          },
          "metadata": {},
          "execution_count": 39
        }
      ]
    },
    {
      "cell_type": "code",
      "metadata": {
        "id": "v5O7kVYDBStC"
      },
      "source": [
        ""
      ],
      "execution_count": null,
      "outputs": []
    }
  ]
}