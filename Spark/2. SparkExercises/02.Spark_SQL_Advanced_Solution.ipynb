{
  "nbformat": 4,
  "nbformat_minor": 0,
  "metadata": {
    "colab": {
      "name": "02.Spark_SQL_Advanced_Solution.ipynb",
      "provenance": [],
      "collapsed_sections": [
        "Jq9d0x1OTh2N",
        "8Z0h3dF9Vg4X",
        "h1o6f6QOjTcZ",
        "tv0AmHi926F7"
      ],
      "toc_visible": true
    },
    "kernelspec": {
      "name": "python3",
      "display_name": "Python 3"
    }
  },
  "cells": [
    {
      "cell_type": "markdown",
      "metadata": {
        "id": "Jq9d0x1OTh2N"
      },
      "source": [
        "# Prerrequisites"
      ]
    },
    {
      "cell_type": "markdown",
      "metadata": {
        "id": "2_DQBVj_KNvL"
      },
      "source": [
        "Installing Spark\n",
        "\n",
        "\n",
        "---\n",
        "\n"
      ]
    },
    {
      "cell_type": "code",
      "metadata": {
        "id": "xEbGSM3_NM-z"
      },
      "source": [
        "!apt-get install openjdk-11-jdk-headless -qq > /dev/null\n",
        "!wget -q https://archive.apache.org/dist/spark/spark-3.2.0/spark-3.2.0-bin-hadoop3.2.tgz\n",
        "!tar xf spark-3.2.0-bin-hadoop3.2.tgz\n",
        "!pip -q install findspark"
      ],
      "execution_count": 1,
      "outputs": []
    },
    {
      "cell_type": "code",
      "metadata": {
        "id": "TP_HtvSAj4sI"
      },
      "source": [
        "import os\n",
        "os.environ[\"JAVA_HOME\"] = \"/usr/lib/jvm/java-11-openjdk-amd64\"\n",
        "os.environ[\"SPARK_HOME\"] = \"/content/spark-3.2.0-bin-hadoop3.2\""
      ],
      "execution_count": 2,
      "outputs": []
    },
    {
      "cell_type": "code",
      "metadata": {
        "id": "OhjOxtJWb5Y1"
      },
      "source": [
        "import findspark\n",
        "findspark.init()"
      ],
      "execution_count": 3,
      "outputs": []
    },
    {
      "cell_type": "code",
      "metadata": {
        "id": "G28MgeRJHKJ5",
        "colab": {
          "base_uri": "https://localhost:8080/",
          "height": 35
        },
        "outputId": "530a3801-9fab-4d84-e710-a55357532933"
      },
      "source": [
        "from pyspark.sql import SparkSession\n",
        "from pyspark.sql.functions import *\n",
        "\n",
        "# create the session\n",
        "spark = SparkSession \\\n",
        "        .builder \\\n",
        "        .master(\"local[*]\") \\\n",
        "        .getOrCreate()\n",
        "\n",
        "spark.version"
      ],
      "execution_count": 4,
      "outputs": [
        {
          "output_type": "execute_result",
          "data": {
            "application/vnd.google.colaboratory.intrinsic+json": {
              "type": "string"
            },
            "text/plain": [
              "'3.2.0'"
            ]
          },
          "metadata": {},
          "execution_count": 4
        }
      ]
    },
    {
      "cell_type": "markdown",
      "metadata": {
        "id": "FNiYuI5dGo8Y"
      },
      "source": [
        "Creating tunnel</br>\n",
        "**To Check the Spark UI, open the URL printed by running the above command : https://######/jobs/, /SQL/**\n"
      ]
    },
    {
      "cell_type": "code",
      "metadata": {
        "id": "x4-7fXZiGmqB",
        "colab": {
          "base_uri": "https://localhost:8080/",
          "height": 34
        },
        "outputId": "30e9362b-972a-402e-f82f-d20793ac3346"
      },
      "source": [
        " from google.colab.output import eval_js\n",
        " print(eval_js(\"google.colab.kernel.proxyPort(4040)\") + \"jobs/\")"
      ],
      "execution_count": 5,
      "outputs": [
        {
          "output_type": "stream",
          "name": "stdout",
          "text": [
            "https://qagmjachch-496ff2e9c6d22116-4040-colab.googleusercontent.com/jobs/\n"
          ]
        }
      ]
    },
    {
      "cell_type": "markdown",
      "metadata": {
        "id": "8Z0h3dF9Vg4X"
      },
      "source": [
        "# Download Datasets"
      ]
    },
    {
      "cell_type": "code",
      "metadata": {
        "id": "KBDin-0sXgyI",
        "colab": {
          "base_uri": "https://localhost:8080/"
        },
        "outputId": "349239bf-9952-4e63-d904-397f4ab2f689"
      },
      "source": [
        "!mkdir -p /dataset\n",
        "!wget -q https://github.com/masfworld/datahack_docker/raw/master/zeppelin/data/bank.csv -P /dataset\n",
        "!wget -q https://github.com/masfworld/datahack_docker/raw/master/zeppelin/data/vehicles.csv -P /dataset\n",
        "!wget -q https://github.com/masfworld/datahack_docker/raw/master/zeppelin/data/characters.csv -P /dataset\n",
        "!wget -q https://github.com/masfworld/datahack_docker/raw/master/zeppelin/data/planets.csv -P /dataset\n",
        "!wget -q https://github.com/masfworld/datahack_docker/raw/master/zeppelin/data/species.csv -P /dataset\n",
        "!ls /dataset"
      ],
      "execution_count": 6,
      "outputs": [
        {
          "output_type": "stream",
          "name": "stdout",
          "text": [
            "bank.csv  characters.csv  planets.csv  species.csv  vehicles.csv\n"
          ]
        }
      ]
    },
    {
      "cell_type": "markdown",
      "metadata": {
        "id": "02Zwm3NRXS_I"
      },
      "source": [
        "# Windows Partitioning\n",
        "\n",
        "---\n",
        "\n"
      ]
    },
    {
      "cell_type": "markdown",
      "metadata": {
        "id": "h1o6f6QOjTcZ"
      },
      "source": [
        "## Example 1"
      ]
    },
    {
      "cell_type": "code",
      "metadata": {
        "id": "USrsDETtstv-",
        "colab": {
          "base_uri": "https://localhost:8080/"
        },
        "outputId": "58c796a4-8dd0-44d4-8f78-83cad1df57cd"
      },
      "source": [
        "!head /dataset/bank.csv"
      ],
      "execution_count": 7,
      "outputs": [
        {
          "output_type": "stream",
          "name": "stdout",
          "text": [
            "\"age\";\"job\";\"marital\";\"education\";\"default\";\"balance\";\"housing\";\"loan\";\"contact\";\"day\";\"month\";\"duration\";\"campaign\";\"pdays\";\"previous\";\"poutcome\";\"y\"\n",
            "30;\"unemployed\";\"married\";\"primary\";\"no\";1787;\"no\";\"no\";\"cellular\";19;\"oct\";79;1;-1;0;\"unknown\";\"no\"\n",
            "33;\"services\";\"married\";\"secondary\";\"no\";4789;\"yes\";\"yes\";\"cellular\";11;\"may\";220;1;339;4;\"failure\";\"no\"\n",
            "35;\"management\";\"single\";\"tertiary\";\"no\";1350;\"yes\";\"no\";\"cellular\";16;\"apr\";185;1;330;1;\"failure\";\"no\"\n",
            "30;\"management\";\"married\";\"tertiary\";\"no\";1476;\"yes\";\"yes\";\"unknown\";3;\"jun\";199;4;-1;0;\"unknown\";\"no\"\n",
            "59;\"blue-collar\";\"married\";\"secondary\";\"no\";0;\"yes\";\"no\";\"unknown\";5;\"may\";226;1;-1;0;\"unknown\";\"no\"\n",
            "35;\"management\";\"single\";\"tertiary\";\"no\";747;\"no\";\"no\";\"cellular\";23;\"feb\";141;2;176;3;\"failure\";\"no\"\n",
            "36;\"self-employed\";\"married\";\"tertiary\";\"no\";307;\"yes\";\"no\";\"cellular\";14;\"may\";341;1;330;2;\"other\";\"no\"\n",
            "39;\"technician\";\"married\";\"secondary\";\"no\";147;\"yes\";\"no\";\"cellular\";6;\"may\";151;2;-1;0;\"unknown\";\"no\"\n",
            "41;\"entrepreneur\";\"married\";\"tertiary\";\"no\";221;\"yes\";\"no\";\"unknown\";14;\"may\";57;2;-1;0;\"unknown\";\"no\"\n"
          ]
        }
      ]
    },
    {
      "cell_type": "markdown",
      "metadata": {
        "id": "yjPpxRyJYA1h"
      },
      "source": [
        "Reading data from `bank.csv` file to a DataFrame"
      ]
    },
    {
      "cell_type": "code",
      "metadata": {
        "id": "HnbafeFCVk8d"
      },
      "source": [
        "from pyspark.sql.functions import *\n",
        "\n",
        "bank_df = spark.read.format(\"csv\") \\\n",
        "  .option(\"sep\", \";\") \\\n",
        "  .option(\"inferSchema\", \"true\") \\\n",
        "  .option(\"header\", \"true\") \\\n",
        "  .load(\"/dataset/bank.csv\")"
      ],
      "execution_count": 8,
      "outputs": []
    },
    {
      "cell_type": "code",
      "metadata": {
        "id": "qxhLiwwXk6kD",
        "colab": {
          "base_uri": "https://localhost:8080/"
        },
        "outputId": "70bfe457-9568-459d-f7b1-097be496f8b1"
      },
      "source": [
        "bank_df.show()"
      ],
      "execution_count": 9,
      "outputs": [
        {
          "output_type": "stream",
          "name": "stdout",
          "text": [
            "+---+-------------+-------+---------+-------+-------+-------+----+--------+---+-----+--------+--------+-----+--------+--------+---+\n",
            "|age|          job|marital|education|default|balance|housing|loan| contact|day|month|duration|campaign|pdays|previous|poutcome|  y|\n",
            "+---+-------------+-------+---------+-------+-------+-------+----+--------+---+-----+--------+--------+-----+--------+--------+---+\n",
            "| 30|   unemployed|married|  primary|     no|   1787|     no|  no|cellular| 19|  oct|      79|       1|   -1|       0| unknown| no|\n",
            "| 33|     services|married|secondary|     no|   4789|    yes| yes|cellular| 11|  may|     220|       1|  339|       4| failure| no|\n",
            "| 35|   management| single| tertiary|     no|   1350|    yes|  no|cellular| 16|  apr|     185|       1|  330|       1| failure| no|\n",
            "| 30|   management|married| tertiary|     no|   1476|    yes| yes| unknown|  3|  jun|     199|       4|   -1|       0| unknown| no|\n",
            "| 59|  blue-collar|married|secondary|     no|      0|    yes|  no| unknown|  5|  may|     226|       1|   -1|       0| unknown| no|\n",
            "| 35|   management| single| tertiary|     no|    747|     no|  no|cellular| 23|  feb|     141|       2|  176|       3| failure| no|\n",
            "| 36|self-employed|married| tertiary|     no|    307|    yes|  no|cellular| 14|  may|     341|       1|  330|       2|   other| no|\n",
            "| 39|   technician|married|secondary|     no|    147|    yes|  no|cellular|  6|  may|     151|       2|   -1|       0| unknown| no|\n",
            "| 41| entrepreneur|married| tertiary|     no|    221|    yes|  no| unknown| 14|  may|      57|       2|   -1|       0| unknown| no|\n",
            "| 43|     services|married|  primary|     no|    -88|    yes| yes|cellular| 17|  apr|     313|       1|  147|       2| failure| no|\n",
            "| 39|     services|married|secondary|     no|   9374|    yes|  no| unknown| 20|  may|     273|       1|   -1|       0| unknown| no|\n",
            "| 43|       admin.|married|secondary|     no|    264|    yes|  no|cellular| 17|  apr|     113|       2|   -1|       0| unknown| no|\n",
            "| 36|   technician|married| tertiary|     no|   1109|     no|  no|cellular| 13|  aug|     328|       2|   -1|       0| unknown| no|\n",
            "| 20|      student| single|secondary|     no|    502|     no|  no|cellular| 30|  apr|     261|       1|   -1|       0| unknown|yes|\n",
            "| 31|  blue-collar|married|secondary|     no|    360|    yes| yes|cellular| 29|  jan|      89|       1|  241|       1| failure| no|\n",
            "| 40|   management|married| tertiary|     no|    194|     no| yes|cellular| 29|  aug|     189|       2|   -1|       0| unknown| no|\n",
            "| 56|   technician|married|secondary|     no|   4073|     no|  no|cellular| 27|  aug|     239|       5|   -1|       0| unknown| no|\n",
            "| 37|       admin.| single| tertiary|     no|   2317|    yes|  no|cellular| 20|  apr|     114|       1|  152|       2| failure| no|\n",
            "| 25|  blue-collar| single|  primary|     no|   -221|    yes|  no| unknown| 23|  may|     250|       1|   -1|       0| unknown| no|\n",
            "| 31|     services|married|secondary|     no|    132|     no|  no|cellular|  7|  jul|     148|       1|  152|       1|   other| no|\n",
            "+---+-------------+-------+---------+-------+-------+-------+----+--------+---+-----+--------+--------+-----+--------+--------+---+\n",
            "only showing top 20 rows\n",
            "\n"
          ]
        }
      ]
    },
    {
      "cell_type": "markdown",
      "metadata": {
        "id": "VHDroSQ1ZQSB"
      },
      "source": [
        "Get the balance of the two youngest people by job\n"
      ]
    },
    {
      "cell_type": "code",
      "metadata": {
        "id": "3BEWmhhYqxp8",
        "colab": {
          "base_uri": "https://localhost:8080/"
        },
        "outputId": "998cc660-457c-488f-82fd-ccf29c09b155"
      },
      "source": [
        "from pyspark.sql.window import Window\n",
        "\n",
        "byJob = Window.partitionBy(\"job\").orderBy(\"age\")\n",
        "\n",
        "bank_df \\\n",
        "  .withColumn(\"new_column_job\", row_number().over(byJob)) \\\n",
        "  .filter(col(\"new_column_job\") <= 2) \\\n",
        "  .select(\"age\", \"job\", \"balance\") \\\n",
        "  .orderBy(\"job\", \"age\") \\\n",
        "  .show()"
      ],
      "execution_count": 10,
      "outputs": [
        {
          "output_type": "stream",
          "name": "stdout",
          "text": [
            "+---+-------------+-------+\n",
            "|age|          job|balance|\n",
            "+---+-------------+-------+\n",
            "| 22|       admin.|   4111|\n",
            "| 23|       admin.|      5|\n",
            "| 23|  blue-collar|    817|\n",
            "| 23|  blue-collar|   8627|\n",
            "| 23| entrepreneur|      4|\n",
            "| 25| entrepreneur|  16874|\n",
            "| 26|    housemaid|    543|\n",
            "| 26|    housemaid|   -759|\n",
            "| 23|   management|    736|\n",
            "| 24|   management|    172|\n",
            "| 24|      retired|    366|\n",
            "| 35|      retired|    285|\n",
            "| 25|self-employed|    453|\n",
            "| 26|self-employed|    211|\n",
            "| 21|     services|    361|\n",
            "| 21|     services|   1903|\n",
            "| 19|      student|      0|\n",
            "| 19|      student|    103|\n",
            "| 22|   technician|    333|\n",
            "| 23|   technician|    598|\n",
            "+---+-------------+-------+\n",
            "only showing top 20 rows\n",
            "\n"
          ]
        }
      ]
    },
    {
      "cell_type": "markdown",
      "metadata": {
        "id": "yzU_4EjAjZgh"
      },
      "source": [
        "## Exercise 1"
      ]
    },
    {
      "cell_type": "markdown",
      "metadata": {
        "id": "sV-NchsMsHvF"
      },
      "source": [
        "Using the dataframe built from `bank.csv`file, get the TOP 3 of maximum balance by marital\n",
        "Obtén el Top 3 de máximos balances por estado civil\n",
        "\n",
        "\n",
        "---\n",
        "\n",
        "\n"
      ]
    },
    {
      "cell_type": "code",
      "metadata": {
        "id": "SgireGq6YWEj",
        "colab": {
          "base_uri": "https://localhost:8080/"
        },
        "outputId": "d5d278cc-b579-4371-bdae-75853b85dccd"
      },
      "source": [
        "byMarital = Window.partitionBy(\"marital\").orderBy(col(\"balance\").desc())\n",
        "\n",
        "bank_df \\\n",
        "  .withColumn(\"ranking\", row_number().over(byMarital)) \\\n",
        "  .filter(col(\"ranking\") <= 3) \\\n",
        "  .show()"
      ],
      "execution_count": 11,
      "outputs": [
        {
          "output_type": "stream",
          "name": "stdout",
          "text": [
            "+---+-------------+--------+---------+-------+-------+-------+----+--------+---+-----+--------+--------+-----+--------+--------+---+-------+\n",
            "|age|          job| marital|education|default|balance|housing|loan| contact|day|month|duration|campaign|pdays|previous|poutcome|  y|ranking|\n",
            "+---+-------------+--------+---------+-------+-------+-------+----+--------+---+-----+--------+--------+-----+--------+--------+---+-------+\n",
            "| 54|   management|divorced| tertiary|     no|  26306|    yes|  no|cellular| 11|  feb|      27|       1|   84|       3| failure| no|      1|\n",
            "| 34|   management|divorced| tertiary|     no|  13204|    yes| yes|cellular| 20|  nov|     197|       2|   -1|       0| unknown| no|      2|\n",
            "| 51|self-employed|divorced|  primary|     no|  10924|     no|  no|cellular|  6|  may|     106|       2|   -1|       0| unknown| no|      3|\n",
            "| 60|      retired| married|  primary|     no|  71188|     no|  no|cellular|  6|  oct|     205|       1|   -1|       0| unknown| no|      1|\n",
            "| 42| entrepreneur| married| tertiary|     no|  42045|     no|  no|cellular|  8|  aug|     205|       2|   -1|       0| unknown| no|      2|\n",
            "| 36|   management| married| tertiary|     no|  27359|    yes|  no| unknown|  3|  jun|      71|       2|   -1|       0| unknown| no|      3|\n",
            "| 43|   technician|  single| tertiary|     no|  27733|    yes|  no| unknown|  3|  jun|     164|       7|   -1|       0| unknown| no|      1|\n",
            "| 31|    housemaid|  single|  primary|     no|  26965|     no|  no|cellular| 21|  apr|     654|       2|   -1|       0| unknown|yes|      2|\n",
            "| 49|      retired|  single|  primary|     no|  25824|     no|  no| unknown| 17|  jun|      94|       1|   -1|       0| unknown| no|      3|\n",
            "+---+-------------+--------+---------+-------+-------+-------+----+--------+---+-----+--------+--------+-----+--------+--------+---+-------+\n",
            "\n"
          ]
        }
      ]
    },
    {
      "cell_type": "markdown",
      "metadata": {
        "id": "bX0FXU7JawRm"
      },
      "source": [
        "## Exercise 2\n",
        "\n"
      ]
    },
    {
      "cell_type": "markdown",
      "metadata": {
        "id": "eBtPRPnVmpGM"
      },
      "source": [
        "Load `vehicles.csv` file into a DataFrame\n",
        "\n",
        "---"
      ]
    },
    {
      "cell_type": "code",
      "metadata": {
        "id": "eYPt59chwJUw",
        "colab": {
          "base_uri": "https://localhost:8080/"
        },
        "outputId": "cc1a7bf3-31da-4ab2-8dd1-aa15d093dd44"
      },
      "source": [
        "!head /dataset/vehicles.csv"
      ],
      "execution_count": 12,
      "outputs": [
        {
          "output_type": "stream",
          "name": "stdout",
          "text": [
            "name,model,manufacturer,cost_in_credits,length,max_atmosphering_speed,crew,passengers,cargo_capacity,consumables,vehicle_class\n",
            "Sand Crawler,Digger Crawler,Corellia Mining Corporation,150000,36.8,30,46,30,50000,2 months,wheeled\n",
            "T-16 skyhopper,T-16 skyhopper,Incom Corporation,14500,10.4,1200,1,1,50,0,repulsorcraft\n",
            "X-34 landspeeder,X-34 landspeeder,SoroSuub Corporation,10550,3.4,250,1,1,5,NA,repulsorcraft\n",
            "TIE/LN starfighter,Twin Ion Engine/Ln Starfighter,Sienar Fleet Systems,NA,6.4,1200,1,0,65,2 days,starfighter\n",
            "Snowspeeder,t-47 airspeeder,Incom corporation,NA,4.5,650,2,0,10,none,airspeeder\n",
            "TIE bomber,TIE/sa bomber,Sienar Fleet Systems,NA,7.8,850,1,0,none,2 days,space/planetary bomber\n",
            "AT-AT,All Terrain Armored Transport,\"Kuat Drive Yards, Imperial Department of Military Research\",NA,20,60,5,40,1000,NA,assault walker\n",
            "AT-ST,All Terrain Scout Transport,\"Kuat Drive Yards, Imperial Department of Military Research\",NA,2,90,2,0,200,none,walker\n",
            "Storm IV Twin-Pod cloud car,Storm IV Twin-Pod,Bespin Motors,75000,7,1500,2,0,10,1 day,repulsorcraft\n"
          ]
        }
      ]
    },
    {
      "cell_type": "code",
      "metadata": {
        "id": "mCDo_-PiaEVl"
      },
      "source": [
        "vehiclesDF_all = spark.read.format(\"csv\")\\\n",
        "  .option(\"sep\", \",\") \\\n",
        "  .option(\"inferSchema\", \"true\") \\\n",
        "  .option(\"header\", \"true\") \\\n",
        "  .load(\"/dataset/vehicles.csv\")\n"
      ],
      "execution_count": 13,
      "outputs": []
    },
    {
      "cell_type": "code",
      "metadata": {
        "id": "gWdg2O5bwhV-",
        "colab": {
          "base_uri": "https://localhost:8080/"
        },
        "outputId": "5df42c17-315b-4ec5-9c45-2117caf4ec8b"
      },
      "source": [
        "vehiclesDF_all.show(truncate=False)"
      ],
      "execution_count": 14,
      "outputs": [
        {
          "output_type": "stream",
          "name": "stdout",
          "text": [
            "+------------------------------+-------------------------------+----------------------------------------------------------+---------------+------+----------------------+----+----------+--------------+---------------+-------------------------+\n",
            "|name                          |model                          |manufacturer                                              |cost_in_credits|length|max_atmosphering_speed|crew|passengers|cargo_capacity|consumables    |vehicle_class            |\n",
            "+------------------------------+-------------------------------+----------------------------------------------------------+---------------+------+----------------------+----+----------+--------------+---------------+-------------------------+\n",
            "|Sand Crawler                  |Digger Crawler                 |Corellia Mining Corporation                               |150000         |36.8  |30                    |46  |30        |50000         |2 months       |wheeled                  |\n",
            "|T-16 skyhopper                |T-16 skyhopper                 |Incom Corporation                                         |14500          |10.4  |1200                  |1   |1         |50            |0              |repulsorcraft            |\n",
            "|X-34 landspeeder              |X-34 landspeeder               |SoroSuub Corporation                                      |10550          |3.4   |250                   |1   |1         |5             |NA             |repulsorcraft            |\n",
            "|TIE/LN starfighter            |Twin Ion Engine/Ln Starfighter |Sienar Fleet Systems                                      |NA             |6.4   |1200                  |1   |0         |65            |2 days         |starfighter              |\n",
            "|Snowspeeder                   |t-47 airspeeder                |Incom corporation                                         |NA             |4.5   |650                   |2   |0         |10            |none           |airspeeder               |\n",
            "|TIE bomber                    |TIE/sa bomber                  |Sienar Fleet Systems                                      |NA             |7.8   |850                   |1   |0         |none          |2 days         |space/planetary bomber   |\n",
            "|AT-AT                         |All Terrain Armored Transport  |Kuat Drive Yards, Imperial Department of Military Research|NA             |20    |60                    |5   |40        |1000          |NA             |assault walker           |\n",
            "|AT-ST                         |All Terrain Scout Transport    |Kuat Drive Yards, Imperial Department of Military Research|NA             |2     |90                    |2   |0         |200           |none           |walker                   |\n",
            "|Storm IV Twin-Pod cloud car   |Storm IV Twin-Pod              |Bespin Motors                                             |75000          |7     |1500                  |2   |0         |10            |1 day          |repulsorcraft            |\n",
            "|Sail barge                    |Modified Luxury Sail Barge     |Ubrikkian Industries Custom Vehicle Division              |285000         |30    |100                   |26  |500       |2000000       |Live food tanks|sail barge               |\n",
            "|Bantha-II cargo skiff         |Bantha-II                      |Ubrikkian Industries                                      |8000           |9.5   |250                   |5   |16        |135000        |1 day          |repulsorcraft cargo skiff|\n",
            "|TIE/IN interceptor            |Twin Ion Engine Interceptor    |Sienar Fleet Systems                                      |NA             |9.6   |1250                  |1   |0         |75            |2 days         |starfighter              |\n",
            "|Imperial Speeder Bike         |74-Z speeder bike              |Aratech Repulsor Company                                  |8000           |3     |360                   |1   |1         |4             |1 day          |speeder                  |\n",
            "|Vulture Droid                 |Vulture-class droid starfighter|Haor Chall Engineering, Baktoid Armor Workshop            |NA             |3.5   |1200                  |0   |0         |0             |none           |starfighter              |\n",
            "|Multi-Troop Transport         |Multi-Troop Transport          |Baktoid Armor Workshop                                    |138000         |31    |35                    |4   |112       |12000         |NA             |repulsorcraft            |\n",
            "|Armored Assault Tank          |Armoured Assault Tank          |Baktoid Armor Workshop                                    |NA             |9.75  |55                    |4   |6         |NA            |NA             |repulsorcraft            |\n",
            "|Single Trooper Aerial Platform|Single Trooper Aerial Platform |Baktoid Armor Workshop                                    |2500           |2     |400                   |1   |0         |none          |none           |repulsorcraft            |\n",
            "|C-9979 landing craft          |C-9979 landing craft           |Haor Chall Engineering                                    |200000         |210   |587                   |140 |284       |1800000       |1 day          |landing craft            |\n",
            "|Tribubble bongo               |Tribubble bongo                |Otoh Gunga Bongameken Cooperative                         |NA             |15    |85                    |1   |2         |1600          |NA             |submarine                |\n",
            "|Sith speeder                  |FC-20 speeder bike             |Razalon                                                   |4000           |1.5   |180                   |1   |0         |2             |NA             |speeder                  |\n",
            "+------------------------------+-------------------------------+----------------------------------------------------------+---------------+------+----------------------+----+----------+--------------+---------------+-------------------------+\n",
            "only showing top 20 rows\n",
            "\n"
          ]
        }
      ]
    },
    {
      "cell_type": "markdown",
      "metadata": {
        "id": "vCDfqm_UxUcn"
      },
      "source": [
        "For each vehicle, get the difference in price (`cost_in_credits`) for each product compared to the cheapest product in the same vehicle class\n",
        "\n",
        "\n",
        "---\n",
        "\n"
      ]
    },
    {
      "cell_type": "code",
      "metadata": {
        "id": "-IdhtILfwmSF",
        "colab": {
          "base_uri": "https://localhost:8080/"
        },
        "outputId": "ea0cc7b9-5346-4680-cfde-fbe243df2825"
      },
      "source": [
        "from pyspark.sql.types import IntegerType\n",
        "\n",
        "vehicles_filtered = vehiclesDF_all \\\n",
        "  .filter(col(\"cost_in_credits\") != \"NA\") \\\n",
        "  .withColumn(\"cost_in_credits\", col(\"cost_in_credits\").cast(IntegerType()))\n",
        "vehicles_filtered.printSchema()"
      ],
      "execution_count": 15,
      "outputs": [
        {
          "output_type": "stream",
          "name": "stdout",
          "text": [
            "root\n",
            " |-- name: string (nullable = true)\n",
            " |-- model: string (nullable = true)\n",
            " |-- manufacturer: string (nullable = true)\n",
            " |-- cost_in_credits: integer (nullable = true)\n",
            " |-- length: string (nullable = true)\n",
            " |-- max_atmosphering_speed: string (nullable = true)\n",
            " |-- crew: integer (nullable = true)\n",
            " |-- passengers: string (nullable = true)\n",
            " |-- cargo_capacity: string (nullable = true)\n",
            " |-- consumables: string (nullable = true)\n",
            " |-- vehicle_class: string (nullable = true)\n",
            "\n"
          ]
        }
      ]
    },
    {
      "cell_type": "code",
      "metadata": {
        "id": "-n2R6MJlxP4w",
        "colab": {
          "base_uri": "https://localhost:8080/"
        },
        "outputId": "0e77498a-188c-4c25-e253-d492fb5fc886"
      },
      "source": [
        "from pyspark.sql.functions import *\n",
        "\n",
        "byClass = Window.partitionBy(\"vehicle_class\") \\\n",
        "  .orderBy(col(\"cost_in_credits\").asc())\n",
        "\n",
        "\n",
        "vehicles_filtered \\\n",
        "  .withColumn(\"cost_difference\", min(col(\"cost_in_credits\")).over(byClass) - col(\"cost_in_credits\")) \\\n",
        "  .withColumn(\"min_cost\", min(col(\"cost_in_credits\")).over(byClass)) \\\n",
        "  .orderBy(col(\"vehicle_class\"), col(\"cost_in_credits\").desc()) \\\n",
        "  .show()"
      ],
      "execution_count": 16,
      "outputs": [
        {
          "output_type": "stream",
          "name": "stdout",
          "text": [
            "+--------------------+--------------------+--------------------+---------------+------+----------------------+----+----------+--------------+---------------+--------------------+---------------+--------+\n",
            "|                name|               model|        manufacturer|cost_in_credits|length|max_atmosphering_speed|crew|passengers|cargo_capacity|    consumables|       vehicle_class|cost_difference|min_cost|\n",
            "+--------------------+--------------------+--------------------+---------------+------+----------------------+----+----------+--------------+---------------+--------------------+---------------+--------+\n",
            "|Raddaugh Gnasp fl...|Raddaugh Gnasp fl...|Appazanna Enginee...|          14750|     7|                   310|   2|         0|            20|           none|         air speeder|              0|   14750|\n",
            "|       Droid gunship|   HMP droid gunship|Baktoid Fleet Ord...|          60000|  12.3|                   820|   0|         0|             0|           none|          airspeeder|         -47875|   12125|\n",
            "|Oevvaor jet catam...|Oevvaor jet catam...|Appazanna Enginee...|          12125|  15.1|                   420|   2|         2|            50|         3 days|          airspeeder|              0|   12125|\n",
            "|   Droid tri-fighter|         tri-fighter|Colla Designs, Ph...|          20000|   5.4|                  1180|   1|         0|             0|           none|   droid starfighter|              0|   20000|\n",
            "|Corporate Allianc...|NR-N99 Persuader-...|        Techno Union|          49000| 10.96|                   100|   0|         4|          none|           none|          droid tank|              0|   49000|\n",
            "|C-9979 landing craft|C-9979 landing craft|Haor Chall Engine...|         200000|   210|                   587| 140|       284|       1800000|          1 day|       landing craft|              0|  200000|\n",
            "|Multi-Troop Trans...|Multi-Troop Trans...|Baktoid Armor Wor...|         138000|    31|                    35|   4|       112|         12000|             NA|       repulsorcraft|        -135500|    2500|\n",
            "|Storm IV Twin-Pod...|   Storm IV Twin-Pod|       Bespin Motors|          75000|     7|                  1500|   2|         0|            10|          1 day|       repulsorcraft|         -72500|    2500|\n",
            "|      T-16 skyhopper|      T-16 skyhopper|   Incom Corporation|          14500|  10.4|                  1200|   1|         1|            50|              0|       repulsorcraft|         -12000|    2500|\n",
            "|    X-34 landspeeder|    X-34 landspeeder|SoroSuub Corporation|          10550|   3.4|                   250|   1|         1|             5|             NA|       repulsorcraft|          -8050|    2500|\n",
            "| Zephyr-G swoop bike| Zephyr-G swoop bike|Mobquet Swoops an...|           5750|  3.68|                   350|   1|         1|           200|           none|       repulsorcraft|          -3250|    2500|\n",
            "|Single Trooper Ae...|Single Trooper Ae...|Baktoid Armor Wor...|           2500|     2|                   400|   1|         0|          none|           none|       repulsorcraft|              0|    2500|\n",
            "|Bantha-II cargo s...|           Bantha-II|Ubrikkian Industries|           8000|   9.5|                   250|   5|        16|        135000|          1 day|repulsorcraft car...|              0|    8000|\n",
            "|          Sail barge|Modified Luxury S...|Ubrikkian Industr...|         285000|    30|                   100|  26|       500|       2000000|Live food tanks|          sail barge|              0|  285000|\n",
            "|Imperial Speeder ...|   74-Z speeder bike|Aratech Repulsor ...|           8000|     3|                   360|   1|         1|             4|          1 day|             speeder|          -4000|    4000|\n",
            "|    Flitknot speeder|    Flitknot speeder|Huppla Pasa Tisc ...|           8000|     2|                   634|   1|         0|            NA|             NA|             speeder|          -4000|    4000|\n",
            "|        Sith speeder|  FC-20 speeder bike|             Razalon|           4000|   1.5|                   180|   1|         0|             2|             NA|             speeder|              0|    4000|\n",
            "|               AT-RT|All Terrain Recon...|    Kuat Drive Yards|          40000|   3.2|                    90|   1|         0|            20|          1 day|              walker|              0|   40000|\n",
            "|        Sand Crawler|      Digger Crawler|Corellia Mining C...|         150000|  36.8|                    30|  46|        30|         50000|       2 months|             wheeled|              0|  150000|\n",
            "|    Clone turbo tank|  HAVw A6 Juggernaut|    Kuat Drive Yards|         350000|  49.4|                   160|  20|       300|         30000|        20 days|      wheeled walker|        -335000|   15000|\n",
            "+--------------------+--------------------+--------------------+---------------+------+----------------------+----+----------+--------------+---------------+--------------------+---------------+--------+\n",
            "only showing top 20 rows\n",
            "\n"
          ]
        }
      ]
    },
    {
      "cell_type": "markdown",
      "metadata": {
        "id": "8GUV9KLzqR-4"
      },
      "source": [
        "# Joins"
      ]
    },
    {
      "cell_type": "markdown",
      "metadata": {
        "id": "tZw41ki6kc3p"
      },
      "source": [
        "## Exercise 3"
      ]
    },
    {
      "cell_type": "markdown",
      "metadata": {
        "id": "YAzx5B5IkVeP"
      },
      "source": [
        "1. Create dataframes for files `characters.csv` and `planets.csv`\n",
        "2. Get the planet gravity for each character, selecting only the character name, planet name and gravity.\n",
        "\n",
        "\n",
        "---\n",
        "\n",
        "\n"
      ]
    },
    {
      "cell_type": "code",
      "metadata": {
        "id": "SIKCDk4mx0ep"
      },
      "source": [
        "charactersDF_all = spark.read.format(\"csv\")\\\n",
        "  .option(\"sep\", \",\") \\\n",
        "  .option(\"inferSchema\", \"true\") \\\n",
        "  .option(\"header\", \"true\") \\\n",
        "  .load(\"/dataset/characters.csv\")"
      ],
      "execution_count": 17,
      "outputs": []
    },
    {
      "cell_type": "code",
      "metadata": {
        "id": "Mo8ehfZ_kPIt",
        "colab": {
          "base_uri": "https://localhost:8080/"
        },
        "outputId": "f6e85e4f-d2d8-4b82-e375-7e67a62560af"
      },
      "source": [
        "charactersDF_all.show(truncate=False)"
      ],
      "execution_count": 18,
      "outputs": [
        {
          "output_type": "stream",
          "name": "stdout",
          "text": [
            "+---------------------+------+-----+-------------+----------------+---------+----------+-------------+----------+--------------+\n",
            "|name                 |height|mass |hair_color   |skin_color      |eye_color|birth_year|gender       |homeworld |species       |\n",
            "+---------------------+------+-----+-------------+----------------+---------+----------+-------------+----------+--------------+\n",
            "|Luke Skywalker       |172   |77   |blond        |fair            |blue     |19BBY     |male         |Tatooine  |Human         |\n",
            "|C-3PO                |167   |75   |NA           |gold            |yellow   |112BBY    |NA           |Tatooine  |Droid         |\n",
            "|R2-D2                |96    |32   |NA           |white, blue     |red      |33BBY     |NA           |Naboo     |Droid         |\n",
            "|Darth Vader          |202   |136  |none         |white           |yellow   |41.9BBY   |male         |Tatooine  |Human         |\n",
            "|Leia Organa          |150   |49   |brown        |light           |brown    |19BBY     |female       |Alderaan  |Human         |\n",
            "|Owen Lars            |178   |120  |brown, grey  |light           |blue     |52BBY     |male         |Tatooine  |Human         |\n",
            "|Beru Whitesun lars   |165   |75   |brown        |light           |blue     |47BBY     |female       |Tatooine  |Human         |\n",
            "|R5-D4                |97    |32   |NA           |white, red      |red      |NA        |NA           |Tatooine  |Droid         |\n",
            "|Biggs Darklighter    |183   |84   |black        |light           |brown    |24BBY     |male         |Tatooine  |Human         |\n",
            "|Obi-Wan Kenobi       |182   |77   |auburn, white|fair            |blue-gray|57BBY     |male         |Stewjon   |Human         |\n",
            "|Anakin Skywalker     |188   |84   |blond        |fair            |blue     |41.9BBY   |male         |Tatooine  |Human         |\n",
            "|Wilhuff Tarkin       |180   |NA   |auburn, grey |fair            |blue     |64BBY     |male         |Eriadu    |Human         |\n",
            "|Chewbacca            |228   |112  |brown        |NA              |blue     |200BBY    |male         |Kashyyyk  |Wookiee       |\n",
            "|Han Solo             |180   |80   |brown        |fair            |brown    |29BBY     |male         |Corellia  |Human         |\n",
            "|Greedo               |173   |74   |NA           |green           |black    |44BBY     |male         |Rodia     |Rodian        |\n",
            "|Jabba Desilijic Tiure|175   |1,358|NA           |green-tan, brown|orange   |600BBY    |hermaphrodite|Nal Hutta |Hutt          |\n",
            "|Wedge Antilles       |170   |77   |brown        |fair            |hazel    |21BBY     |male         |Corellia  |Human         |\n",
            "|Jek Tono Porkins     |180   |110  |brown        |fair            |blue     |NA        |male         |Bestine IV|Human         |\n",
            "|Yoda                 |66    |17   |white        |green           |brown    |896BBY    |male         |NA        |Yoda's species|\n",
            "|Palpatine            |170   |75   |grey         |pale            |yellow   |82BBY     |male         |Naboo     |Human         |\n",
            "+---------------------+------+-----+-------------+----------------+---------+----------+-------------+----------+--------------+\n",
            "only showing top 20 rows\n",
            "\n"
          ]
        }
      ]
    },
    {
      "cell_type": "code",
      "metadata": {
        "id": "XtofA1n1j2fQ"
      },
      "source": [
        "planetsDF_all = spark.read.format(\"csv\")\\\n",
        "  .option(\"sep\", \";\") \\\n",
        "  .option(\"inferSchema\", \"true\") \\\n",
        "  .option(\"header\", \"true\") \\\n",
        "  .load(\"/dataset/planets.csv\")"
      ],
      "execution_count": 19,
      "outputs": []
    },
    {
      "cell_type": "code",
      "metadata": {
        "id": "iKwW-JUdj-Fr",
        "colab": {
          "base_uri": "https://localhost:8080/"
        },
        "outputId": "1a2795ed-ff56-4ca3-a711-402b8ee8558d"
      },
      "source": [
        "planetsDF_all.show(truncate=False)"
      ],
      "execution_count": 20,
      "outputs": [
        {
          "output_type": "stream",
          "name": "stdout",
          "text": [
            "+--------------+---------------+--------------+--------+----------------------+--------------------------------------+----------------------------------------+-------------+-----------+\n",
            "|name          |rotation_period|orbital_period|diameter|climate               |gravity                               |terrain                                 |surface_water|population |\n",
            "+--------------+---------------+--------------+--------+----------------------+--------------------------------------+----------------------------------------+-------------+-----------+\n",
            "|Alderaan      |24             |364           |12500   |temperate             |1 standard                            |grasslands, mountains                   |40           |2000000000 |\n",
            "|Yavin IV      |24             |4818          |10200   |temperate, tropical   |1 standard                            |jungle, rainforests                     |8            |1000       |\n",
            "|Hoth          |23             |549           |7200    |frozen                |1.1 standard                          |tundra, ice caves, mountain ranges      |100          |NA         |\n",
            "|Dagobah       |23             |341           |8900    |murky                 |N/A                                   |swamp, jungles                          |8            |NA         |\n",
            "|Bespin        |12             |5110          |118000  |temperate             |1.5 (surface), 1 standard (Cloud City)|gas giant                               |0            |6000000    |\n",
            "|Endor         |18             |402           |4900    |temperate             |0.85 standard                         |forests, mountains, lakes               |8            |30000000   |\n",
            "|Naboo         |26             |312           |12120   |temperate             |1 standard                            |grassy hills, swamps, forests, mountains|12           |4500000000 |\n",
            "|Coruscant     |24             |368           |12240   |temperate             |1 standard                            |cityscape, mountains                    |NA           |1E+12      |\n",
            "|Kamino        |27             |463           |19720   |temperate             |1 standard                            |ocean                                   |100          |1000000000 |\n",
            "|Geonosis      |30             |256           |11370   |temperate, arid       |0.9 standard                          |rock, desert, mountain, barren          |5            |1E+11      |\n",
            "|Utapau        |27             |351           |12900   |temperate, arid, windy|1 standard                            |scrublands, savanna, canyons, sinkholes |0.9          |95000000   |\n",
            "|Mustafar      |36             |412           |4200    |hot                   |1 standard                            |volcanoes, lava rivers, mountains, caves|0            |20000      |\n",
            "|Kashyyyk      |26             |381           |12765   |tropical              |1 standard                            |jungle, forests, lakes, rivers          |60           |45000000   |\n",
            "|Polis Massa   |24             |590           |0       |artificial temperate  |0.56 standard                         |airless asteroid                        |0            |1000000    |\n",
            "|Mygeeto       |12             |167           |10088   |frigid                |1 standard                            |glaciers, mountains, ice canyons        |NA           |19000000   |\n",
            "|Felucia       |34             |231           |9100    |hot, humid            |0.75 standard                         |fungus forests                          |NA           |8500000    |\n",
            "|Cato Neimoidia|25             |278           |0       |temperate, moist      |1 standard                            |mountains, fields, forests, rock arches |NA           |10000000   |\n",
            "|Saleucami     |26             |392           |14920   |hot                   |NA                                    |caves, desert, mountains, volcanoes     |NA           |1400000000 |\n",
            "|Stewjon       |NA             |NA            |0       |temperate             |1 standard                            |grass                                   |NA           |NA         |\n",
            "|Eriadu        |24             |360           |13490   |polluted              |1 standard                            |cityscape                               |NA           |22000000000|\n",
            "+--------------+---------------+--------------+--------+----------------------+--------------------------------------+----------------------------------------+-------------+-----------+\n",
            "only showing top 20 rows\n",
            "\n"
          ]
        }
      ]
    },
    {
      "cell_type": "code",
      "metadata": {
        "id": "WMlJTJzTkC2j",
        "colab": {
          "base_uri": "https://localhost:8080/"
        },
        "outputId": "0977eca4-36b1-4882-91f3-7557c33f057a"
      },
      "source": [
        "from pyspark.sql.functions import *\n",
        "\n",
        "charactersDF_all \\\n",
        "  .join(planetsDF_all, charactersDF_all[\"homeworld\"] == planetsDF_all[\"name\"]) \\\n",
        "  .select(charactersDF_all[\"name\"], planetsDF_all[\"name\"], col(\"gravity\")) \\\n",
        "  .show()"
      ],
      "execution_count": 26,
      "outputs": [
        {
          "output_type": "stream",
          "name": "stdout",
          "text": [
            "+--------------------+--------------+--------------------+\n",
            "|                name|          name|             gravity|\n",
            "+--------------------+--------------+--------------------+\n",
            "|         Leia Organa|      Alderaan|          1 standard|\n",
            "| Bail Prestor Organa|      Alderaan|          1 standard|\n",
            "|     Raymus Antilles|      Alderaan|          1 standard|\n",
            "|       Ratts Tyerell|   Aleen Minor|                  NA|\n",
            "|               Lobot|        Bespin|1.5 (surface), 1 ...|\n",
            "|    Jek Tono Porkins|    Bestine IV|                  NA|\n",
            "|         Nute Gunray|Cato Neimoidia|          1 standard|\n",
            "|        Ki-Adi-Mundi|         Cerea|                   1|\n",
            "|          Mas Amedda|      Champala|                   1|\n",
            "|          Mon Mothma|     Chandrila|                   1|\n",
            "|          Jango Fett|  Concord Dawn|                  NA|\n",
            "|            Han Solo|      Corellia|          1 standard|\n",
            "|      Wedge Antilles|      Corellia|          1 standard|\n",
            "|       Finis Valorum|     Coruscant|          1 standard|\n",
            "|          Adi Gallia|     Coruscant|          1 standard|\n",
            "|          Jocasta Nu|     Coruscant|          1 standard|\n",
            "|          Darth Maul|      Dathomir|                 0.9|\n",
            "|            Plo Koon|         Dorin|                   1|\n",
            "|Wicket Systri War...|         Endor|       0.85 standard|\n",
            "|      Wilhuff Tarkin|        Eriadu|          1 standard|\n",
            "+--------------------+--------------+--------------------+\n",
            "only showing top 20 rows\n",
            "\n"
          ]
        }
      ]
    },
    {
      "cell_type": "markdown",
      "metadata": {
        "id": "HSEBVnVQlU52"
      },
      "source": [
        "## Exercise 4"
      ]
    },
    {
      "cell_type": "markdown",
      "metadata": {
        "id": "JF4fyAaMlXsI"
      },
      "source": [
        "Check exercise 3. What join type are been used? Why?\n",
        "\n",
        "---"
      ]
    },
    {
      "cell_type": "markdown",
      "metadata": {
        "id": "bbYUbaSMlXGc"
      },
      "source": [
        "After checking execution plan, execute the following instructions:\n",
        "\n",
        "---"
      ]
    },
    {
      "cell_type": "code",
      "metadata": {
        "id": "y8HYt2Eylh4k"
      },
      "source": [
        "spark.conf.set(\"spark.sql.autoBroadcastJoinThreshold\", '0')"
      ],
      "execution_count": 23,
      "outputs": []
    },
    {
      "cell_type": "code",
      "metadata": {
        "id": "SwEnVoVqnj7D",
        "colab": {
          "base_uri": "https://localhost:8080/",
          "height": 35
        },
        "outputId": "800cb729-6a8a-4178-b70a-07b3b9f14be5"
      },
      "source": [
        "spark.conf.get(\"spark.sql.autoBroadcastJoinThreshold\")"
      ],
      "execution_count": 22,
      "outputs": [
        {
          "output_type": "execute_result",
          "data": {
            "application/vnd.google.colaboratory.intrinsic+json": {
              "type": "string"
            },
            "text/plain": [
              "'10485760b'"
            ]
          },
          "metadata": {},
          "execution_count": 22
        }
      ]
    },
    {
      "cell_type": "markdown",
      "metadata": {
        "id": "pxqgghUnlWe3"
      },
      "source": [
        "Execute again the query of the exercise 3\n",
        "\n",
        "---"
      ]
    },
    {
      "cell_type": "markdown",
      "metadata": {
        "id": "yT-AFIMvm43z"
      },
      "source": [
        "## Exercise 5"
      ]
    },
    {
      "cell_type": "markdown",
      "metadata": {
        "id": "C9UBVU6ym9ue"
      },
      "source": [
        "1. Create a DataFrame from `species.csv`.\n",
        "2. Repartition the previous DataFrame to 100 partitions\n",
        "3. Repartition `characters` DataFrame to 100 partitions\n",
        "\n",
        "---\n",
        "\n"
      ]
    },
    {
      "cell_type": "code",
      "metadata": {
        "id": "nbQcMwsJmY4m"
      },
      "source": [
        "charactersDF_repartition = charactersDF_all.repartition(100)"
      ],
      "execution_count": null,
      "outputs": []
    },
    {
      "cell_type": "code",
      "metadata": {
        "id": "VUN9z44jm8Wa"
      },
      "source": [
        "speciesDF_all = spark.read.format(\"csv\") \\\n",
        "  .option(\"sep\", \",\") \\\n",
        "  .option(\"inferSchema\", \"true\") \\\n",
        "  .option(\"header\", \"true\") \\\n",
        "  .load(\"/dataset/species.csv\")"
      ],
      "execution_count": null,
      "outputs": []
    },
    {
      "cell_type": "code",
      "metadata": {
        "id": "-O1pIfZEnN7h",
        "colab": {
          "base_uri": "https://localhost:8080/"
        },
        "outputId": "d4baf3eb-1848-4710-cd27-d0b0d70bf90c"
      },
      "source": [
        "speciesDF_all.show()"
      ],
      "execution_count": null,
      "outputs": [
        {
          "output_type": "stream",
          "name": "stdout",
          "text": [
            "+--------------+--------------+-----------+--------------+--------------------+--------------------+--------------------+----------------+--------------+--------------+\n",
            "|          name|classification|designation|average_height|         skin_colors|         hair_colors|          eye_colors|average_lifespan|      language|     homeworld|\n",
            "+--------------+--------------+-----------+--------------+--------------------+--------------------+--------------------+----------------+--------------+--------------+\n",
            "|          Hutt|     gastropod|   sentient|           300|   green, brown, tan|                  NA|         yellow, red|            1000|       Huttese|     Nal Hutta|\n",
            "|Yoda's species|        mammal|   sentient|            66|       green, yellow|        brown, white|brown, green, yellow|             900|Galactic basic|            NA|\n",
            "|    Trandoshan|       reptile|   sentient|           200|        brown, green|                none|      yellow, orange|              NA|          Dosh|     Trandosha|\n",
            "|  Mon Calamari|     amphibian|   sentient|           160|red, blue, brown,...|                none|              yellow|              NA|Mon Calamarian|      Mon Cala|\n",
            "|          Ewok|        mammal|   sentient|           100|               brown| white, brown, black|       orange, brown|              NA|       Ewokese|         Endor|\n",
            "|     Sullustan|        mammal|   sentient|           180|                pale|                none|               black|              NA|     Sullutese|       Sullust|\n",
            "|     Neimodian|            NA|   sentient|           180|         grey, green|                none|           red, pink|              NA|     Neimoidia|Cato Neimoidia|\n",
            "|        Gungan|     amphibian|   sentient|           190|        brown, green|                none|              orange|              NA|  Gungan basic|         Naboo|\n",
            "|     Toydarian|        mammal|   sentient|           120|   blue, green, grey|                none|              yellow|              91|     Toydarian|      Toydaria|\n",
            "|           Dug|        mammal|   sentient|           100|brown, purple, gr...|                none|        yellow, blue|              NA|        Dugese|     Malastare|\n",
            "|       Twi'lek|       mammals|   sentient|           200|orange, yellow, b...|                none|blue, brown, oran...|              NA|      Twi'leki|        Ryloth|\n",
            "|        Aleena|       reptile|   sentient|            80|          blue, gray|                none|                  NA|              79|        Aleena|   Aleen Minor|\n",
            "|    Vulptereen|            NA|   sentient|           100|                grey|                none|              yellow|              NA|    vulpterish|       Vulpter|\n",
            "|         Xexto|            NA|   sentient|           125|grey, yellow, purple|                none|               black|              NA|       Xextese|       Troiken|\n",
            "|         Toong|            NA|   sentient|           200| grey, green, yellow|                none|              orange|              NA|        Tundan|          Tund|\n",
            "|        Cerean|        mammal|   sentient|           200|           pale pink|red, blond, black...|               hazel|              NA|        Cerean|         Cerea|\n",
            "|      Nautolan|     amphibian|   sentient|           180|green, blue, brow...|                none|               black|              70|       Nautila|   Glee Anselm|\n",
            "|        Zabrak|        mammal|   sentient|           180|pale, brown, red,...|               black|       brown, orange|              NA|       Zabraki|      Iridonia|\n",
            "|    Tholothian|        mammal|   sentient|            NA|                dark|                  NA|        blue, indigo|              NA|            NA|       Tholoth|\n",
            "|      Iktotchi|            NA|   sentient|           180|                pink|                none|              orange|              NA|    Iktotchese|       Iktotch|\n",
            "+--------------+--------------+-----------+--------------+--------------------+--------------------+--------------------+----------------+--------------+--------------+\n",
            "only showing top 20 rows\n",
            "\n"
          ]
        }
      ]
    },
    {
      "cell_type": "code",
      "metadata": {
        "id": "ohStdyUGnRC0"
      },
      "source": [
        "speciesDF_repartition = speciesDF_all.repartition(100)"
      ],
      "execution_count": null,
      "outputs": []
    },
    {
      "cell_type": "markdown",
      "metadata": {
        "id": "tv0AmHi926F7"
      },
      "source": [
        "## Exercise 6"
      ]
    },
    {
      "cell_type": "markdown",
      "metadata": {
        "id": "WR6FPU3b29TP"
      },
      "source": [
        "Get the specie classification for each character. Select only the character name and its classification<br>\n",
        "Use DataFrames repartitioned previously\n",
        "\n",
        "\n",
        "---\n",
        "\n"
      ]
    },
    {
      "cell_type": "code",
      "metadata": {
        "id": "5zyuYbll3UrI"
      },
      "source": [
        "classDF = charactersDF_repartition \\\n",
        "  .join(speciesDF_repartition, charactersDF_repartition[\"species\"] == speciesDF_repartition[\"name\"]) \\\n",
        "  .select(charactersDF_repartition[\"name\"], speciesDF_repartition[\"classification\"]) \\\n"
      ],
      "execution_count": null,
      "outputs": []
    },
    {
      "cell_type": "code",
      "metadata": {
        "id": "C0tRj1VIonEX",
        "colab": {
          "base_uri": "https://localhost:8080/"
        },
        "outputId": "fd6cb1ab-29b2-4205-f22f-b358a6bddbee"
      },
      "source": [
        "classDF.show()"
      ],
      "execution_count": null,
      "outputs": [
        {
          "output_type": "stream",
          "name": "stdout",
          "text": [
            "+----------------+--------------+\n",
            "|            name|classification|\n",
            "+----------------+--------------+\n",
            "|         Lama Su|     amphibian|\n",
            "|           IG-88|    artificial|\n",
            "|      Darth Maul|        mammal|\n",
            "|         Tarfful|        mammal|\n",
            "|    Qui-Gon Jinn|        mammal|\n",
            "|     Bib Fortuna|       mammals|\n",
            "| Luminara Unduli|        mammal|\n",
            "| Dexter Jettster|     amphibian|\n",
            "|Anakin Skywalker|        mammal|\n",
            "|      Wat Tambor|        mammal|\n",
            "|          Ackbar|     amphibian|\n",
            "|           Dormé|        mammal|\n",
            "|Lando Calrissian|        mammal|\n",
            "|     Yarael Poof|        mammal|\n",
            "|    Ki-Adi-Mundi|        mammal|\n",
            "|        San Hill|        mammal|\n",
            "|           R2-D2|    artificial|\n",
            "|  Luke Skywalker|        mammal|\n",
            "|    Roos Tarpals|     amphibian|\n",
            "|           Cordé|        mammal|\n",
            "+----------------+--------------+\n",
            "only showing top 20 rows\n",
            "\n"
          ]
        }
      ]
    },
    {
      "cell_type": "markdown",
      "metadata": {
        "id": "xG81SgpY4P3t"
      },
      "source": [
        "## Exercise 7"
      ]
    },
    {
      "cell_type": "markdown",
      "metadata": {
        "id": "56fGSsmt4adO"
      },
      "source": [
        "1. Execute the following statement over the DataFrame built in exercise 6\n",
        "2. Check the difference in terms of rows distribution across all partitions\n",
        "\n",
        "---\n",
        "\n"
      ]
    },
    {
      "cell_type": "code",
      "metadata": {
        "id": "EFvUIbn93woD",
        "colab": {
          "base_uri": "https://localhost:8080/"
        },
        "outputId": "ff774b6d-6e35-42c7-c516-fce6f5d45231"
      },
      "source": [
        "from pyspark.sql.functions import *\n",
        "\n",
        "classDF \\\n",
        "  .withColumn(\"partitionId\", spark_partition_id()) \\\n",
        "  .groupBy(\"partitionId\") \\\n",
        "  .count() \\\n",
        "  .orderBy(col(\"count\").desc()) \\\n",
        "  .show()"
      ],
      "execution_count": null,
      "outputs": [
        {
          "output_type": "stream",
          "name": "stdout",
          "text": [
            "+-----------+-----+\n",
            "|partitionId|count|\n",
            "+-----------+-----+\n",
            "|         65|    1|\n",
            "|         31|    1|\n",
            "|         78|    1|\n",
            "|         34|    1|\n",
            "|         81|    1|\n",
            "|         76|    1|\n",
            "|         28|    1|\n",
            "|         44|    1|\n",
            "|         26|    1|\n",
            "|         27|    1|\n",
            "|         12|    1|\n",
            "|         91|    1|\n",
            "|         93|    1|\n",
            "|         22|    1|\n",
            "|         47|    1|\n",
            "|          1|    1|\n",
            "|         13|    1|\n",
            "|          3|    1|\n",
            "|         20|    1|\n",
            "|         40|    1|\n",
            "+-----------+-----+\n",
            "only showing top 20 rows\n",
            "\n"
          ]
        }
      ]
    },
    {
      "cell_type": "code",
      "metadata": {
        "id": "XhNn5PZX6Dpf",
        "colab": {
          "base_uri": "https://localhost:8080/"
        },
        "outputId": "d01c56aa-4724-4d0b-e8a1-639a079178d8"
      },
      "source": [
        "classDF \\\n",
        "  .repartition(20) \\\n",
        "  .withColumn(\"partitionId\", spark_partition_id()) \\\n",
        "  .groupBy(\"partitionId\") \\\n",
        "  .count() \\\n",
        "  .orderBy(col(\"count\").desc()) \\\n",
        "  .show()"
      ],
      "execution_count": null,
      "outputs": [
        {
          "output_type": "stream",
          "name": "stdout",
          "text": [
            "+-----------+-----+\n",
            "|partitionId|count|\n",
            "+-----------+-----+\n",
            "|          8|    6|\n",
            "|          7|    5|\n",
            "|          5|    5|\n",
            "|          1|    5|\n",
            "|          2|    5|\n",
            "|         19|    5|\n",
            "|          6|    5|\n",
            "|         12|    4|\n",
            "|         13|    4|\n",
            "|         10|    4|\n",
            "|         16|    4|\n",
            "|          9|    4|\n",
            "|         17|    4|\n",
            "|          3|    4|\n",
            "|         14|    4|\n",
            "|          0|    3|\n",
            "|         15|    3|\n",
            "|         18|    3|\n",
            "|         11|    3|\n",
            "|          4|    2|\n",
            "+-----------+-----+\n",
            "\n"
          ]
        }
      ]
    },
    {
      "cell_type": "code",
      "metadata": {
        "id": "Io-BtgnHyKZ6"
      },
      "source": [
        ""
      ],
      "execution_count": null,
      "outputs": []
    }
  ]
}