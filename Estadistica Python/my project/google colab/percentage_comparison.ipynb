{
  "nbformat": 4,
  "nbformat_minor": 0,
  "metadata": {
    "colab": {
      "name": "percentage_comparison.ipynb",
      "provenance": []
    },
    "kernelspec": {
      "name": "python3",
      "display_name": "Python 3"
    },
    "language_info": {
      "name": "python"
    }
  },
  "cells": [
    {
      "cell_type": "code",
      "metadata": {
        "id": "U78EKiOTyGwZ"
      },
      "source": [
        "#load basiclibraries\n",
        "import os\n",
        "import numpy as np\n",
        "import pandas as pd\n",
        "from pandas.api.types import CategoricalDtype #For definition of custom categorical data types (ordinal if necesary)\n",
        "import matplotlib.pyplot as plt\n",
        "import seaborn as sns  # For hi level, Pandas oriented, graphics\n",
        "import scipy.stats as stats  # For statistical inference   "
      ],
      "execution_count": null,
      "outputs": []
    },
    {
      "cell_type": "code",
      "metadata": {
        "colab": {
          "base_uri": "https://localhost:8080/"
        },
        "id": "3e2W7UxYyN2g",
        "outputId": "edbe0312-2a18-43f5-aa92-35510afb01cc"
      },
      "source": [
        "drive.mount('mydrive')      #Bridge to Google Drive"
      ],
      "execution_count": null,
      "outputs": [
        {
          "output_type": "stream",
          "name": "stdout",
          "text": [
            "Drive already mounted at mydrive; to attempt to forcibly remount, call drive.mount(\"mydrive\", force_remount=True).\n"
          ]
        }
      ]
    },
    {
      "cell_type": "code",
      "metadata": {
        "id": "K9s4B046ySju"
      },
      "source": [
        "heart = pd.read_csv ('/content/mydrive/MyDrive/EDEM/heart.csv', sep=',')"
      ],
      "execution_count": null,
      "outputs": []
    },
    {
      "cell_type": "code",
      "metadata": {
        "colab": {
          "base_uri": "https://localhost:8080/",
          "height": 511
        },
        "id": "0MBDE1MznqZy",
        "outputId": "6448f46a-1190-44be-fde2-591e2dc4b138"
      },
      "source": [
        "#ESCOGEMOS LA TIPO DE DOLOR EN EL PECHO Y EL EDAD COMO SUJETO DE ESTUDIO\n",
        "#Descriptive comparison:\n",
        "print(heart.groupby('ChestPainType').Age.mean())\n",
        "\n",
        "#Statistical comparison:\n",
        "#Extract the two sub samples and store them in two objects\n",
        "Age_ASY=heart.loc[heart.ChestPainType=='ASY', \"Age\"]\n",
        "Age_ATA=heart.loc[heart.ChestPainType=='ATA', \"Age\"]\n",
        "Age_NAP=heart.loc[heart.ChestPainType=='NAP', \"Age\"] \n",
        "Age_TA=heart.loc[heart.ChestPainType=='TA', \"Age\"] \n",
        "\n",
        "res = stats.f_oneway(Age_ASY,Age_ATA,Age_NAP,Age_TA)\n",
        "print(res)\n",
        "\n",
        "#CI meanplot\n",
        "#Graphic comparison: confidence intervals for the means\n",
        "plt.figure(figsize=(5,5))\n",
        "ax = sns.pointplot(x=\"ChestPainType\", y=\"Age\", data=heart,capsize=0.05, ci=95, join=0, order=['ASY', 'ATA','NAP','TA'])\n",
        "ax.set_ylabel('Age')\n",
        "plt.yticks(np.arange(44, 60, step=2))\n",
        "plt.ylim(44,60)\n",
        "plt.axhline(y=heart.Age.mean(),linewidth=1,linestyle= 'dashed',color=\"green\")\n",
        "props = dict(boxstyle='round', facecolor='white', lw=0.5)\n",
        "# plt.text(1.5, 5000, 'Mean: 4504.3''\\n''n: 731' '\\n' 'F: 40.06''\\n' 'Pval.: 0.000', bbox=props)\n",
        "plt.text(-0.4,57.5,'Mean:53.51''\\n''n:918''\\n' 'Pval.:1.136820472395362e-10', bbox=props)\n",
        "plt.xlabel('ChestPainType')\n",
        "plt.title('Figure 2. Average Age by ChestPainType.''\\n')\n",
        "\n",
        "#OBSERVAMOS QUE EL PVALUE ES MUY CERCANO AL 0 Y POR TANTO RECHAZAMOS LA HIPOSESIS NULA\n",
        "#PODEMOS DECIR PUES QUE EL TIPO DE DOLOR EN EL PECHO NO DIFIERE CON LA VARIABLE EDAD"
      ],
      "execution_count": null,
      "outputs": [
        {
          "output_type": "stream",
          "name": "stdout",
          "text": [
            "ChestPainType\n",
            "ASY    54.959677\n",
            "ATA    49.242775\n",
            "NAP    53.310345\n",
            "TA     54.826087\n",
            "Name: Age, dtype: float64\n",
            "F_onewayResult(statistic=16.86834805144362, pvalue=1.136820472395362e-10)\n"
          ]
        },
        {
          "output_type": "execute_result",
          "data": {
            "text/plain": [
              "Text(0.5, 1.0, 'Figure 2. Average Age by ChestPainType.\\n')"
            ]
          },
          "metadata": {},
          "execution_count": 61
        },
        {
          "output_type": "display_data",
          "data": {
            "image/png": "[encoded data removed]",
            "text/plain": [
              "<Figure size 360x360 with 1 Axes>"
            ]
          },
          "metadata": {
            "needs_background": "light"
          }
        }
      ]
    },
    {
      "cell_type": "code",
      "metadata": {
        "colab": {
          "base_uri": "https://localhost:8080/"
        },
        "id": "4cHQTb_01Nmx",
        "outputId": "8d7379a4-7446-43c8-ae7d-4e59d2cf20c1"
      },
      "source": [
        "#SEX\n",
        "mytablesex = heart.groupby(['Sex']).size()\n",
        "print(mytablesex)\n",
        "n = mytablesex.sum()\n"
      ],
      "execution_count": null,
      "outputs": [
        {
          "output_type": "stream",
          "name": "stdout",
          "text": [
            "Sex\n",
            "F    193\n",
            "M    725\n",
            "dtype: int64\n"
          ]
        }
      ]
    },
    {
      "cell_type": "code",
      "metadata": {
        "colab": {
          "base_uri": "https://localhost:8080/",
          "height": 429
        },
        "id": "UwJ-Jrbux1Nw",
        "outputId": "ca9a1b07-b3fb-4993-c2a4-5a1f33557423"
      },
      "source": [
        "#SEX\n",
        "mytablesex = heart.groupby(['Sex']).size()\n",
        "print(mytablesex)\n",
        "n=mytablesex.sum()\n",
        "mytablesex2 = (mytablesex/n)*100\n",
        "print(mytablesex2)\n",
        "n=mytablesex.sum()\n",
        "bar_list = ['Female', 'Male']\n",
        "plt.bar(bar_list, mytablesex2, edgecolor='black')"
      ],
      "execution_count": null,
      "outputs": [
        {
          "output_type": "stream",
          "name": "stdout",
          "text": [
            "Sex\n",
            "F    193\n",
            "M    725\n",
            "dtype: int64\n",
            "Sex\n",
            "F    21.023965\n",
            "M    78.976035\n",
            "dtype: float64\n"
          ]
        },
        {
          "output_type": "execute_result",
          "data": {
            "text/plain": [
              "<BarContainer object of 2 artists>"
            ]
          },
          "metadata": {},
          "execution_count": 18
        },
        {
          "output_type": "display_data",
          "data": {
            "image/png": "[encoded data removed]",
            "text/plain": [
              "<Figure size 432x288 with 1 Axes>"
            ]
          },
          "metadata": {
            "needs_background": "light"
          }
        }
      ]
    },
    {
      "cell_type": "code",
      "metadata": {
        "id": "SbrRNo1B0qHA"
      },
      "source": [
        "#Recoding DV for analysis\n",
        "res = heart.Sex.describe()\n",
        "m = res[1]\n",
        "sd = res[2]\n",
        "n = res[0]"
      ],
      "execution_count": null,
      "outputs": []
    },
    {
      "cell_type": "code",
      "metadata": {
        "colab": {
          "base_uri": "https://localhost:8080/",
          "height": 226
        },
        "id": "HNhF2IS03ej_",
        "outputId": "e0868288-80c8-423d-abf0-0cd531c8fd24"
      },
      "source": [
        "heart.shape\n",
        "heart.head()\n",
        "#QC OK"
      ],
      "execution_count": null,
      "outputs": [
        {
          "output_type": "execute_result",
          "data": {
            "text/html": [
              "<div>\n",
              "<style scoped>\n",
              "    .dataframe tbody tr th:only-of-type {\n",
              "        vertical-align: middle;\n",
              "    }\n",
              "\n",
              "    .dataframe tbody tr th {\n",
              "        vertical-align: top;\n",
              "    }\n",
              "\n",
              "    .dataframe thead th {\n",
              "        text-align: right;\n",
              "    }\n",
              "</style>\n",
              "<table border=\"1\" class=\"dataframe\">\n",
              "  <thead>\n",
              "    <tr style=\"text-align: right;\">\n",
              "      <th></th>\n",
              "      <th>Age</th>\n",
              "      <th>Sex</th>\n",
              "      <th>ChestPainType</th>\n",
              "      <th>RestingBP</th>\n",
              "      <th>Cholesterol</th>\n",
              "      <th>FastingBS</th>\n",
              "      <th>RestingECG</th>\n",
              "      <th>MaxHR</th>\n",
              "      <th>ExerciseAngina</th>\n",
              "      <th>Oldpeak</th>\n",
              "      <th>ST_Slope</th>\n",
              "      <th>HeartDisease</th>\n",
              "    </tr>\n",
              "  </thead>\n",
              "  <tbody>\n",
              "    <tr>\n",
              "      <th>0</th>\n",
              "      <td>40</td>\n",
              "      <td>M</td>\n",
              "      <td>ATA</td>\n",
              "      <td>140</td>\n",
              "      <td>289</td>\n",
              "      <td>0</td>\n",
              "      <td>Normal</td>\n",
              "      <td>172</td>\n",
              "      <td>N</td>\n",
              "      <td>0.0</td>\n",
              "      <td>Up</td>\n",
              "      <td>0</td>\n",
              "    </tr>\n",
              "    <tr>\n",
              "      <th>1</th>\n",
              "      <td>49</td>\n",
              "      <td>F</td>\n",
              "      <td>NAP</td>\n",
              "      <td>160</td>\n",
              "      <td>180</td>\n",
              "      <td>0</td>\n",
              "      <td>Normal</td>\n",
              "      <td>156</td>\n",
              "      <td>N</td>\n",
              "      <td>1.0</td>\n",
              "      <td>Flat</td>\n",
              "      <td>1</td>\n",
              "    </tr>\n",
              "    <tr>\n",
              "      <th>2</th>\n",
              "      <td>37</td>\n",
              "      <td>M</td>\n",
              "      <td>ATA</td>\n",
              "      <td>130</td>\n",
              "      <td>283</td>\n",
              "      <td>0</td>\n",
              "      <td>ST</td>\n",
              "      <td>98</td>\n",
              "      <td>N</td>\n",
              "      <td>0.0</td>\n",
              "      <td>Up</td>\n",
              "      <td>0</td>\n",
              "    </tr>\n",
              "    <tr>\n",
              "      <th>3</th>\n",
              "      <td>48</td>\n",
              "      <td>F</td>\n",
              "      <td>ASY</td>\n",
              "      <td>138</td>\n",
              "      <td>214</td>\n",
              "      <td>0</td>\n",
              "      <td>Normal</td>\n",
              "      <td>108</td>\n",
              "      <td>Y</td>\n",
              "      <td>1.5</td>\n",
              "      <td>Flat</td>\n",
              "      <td>1</td>\n",
              "    </tr>\n",
              "    <tr>\n",
              "      <th>4</th>\n",
              "      <td>54</td>\n",
              "      <td>M</td>\n",
              "      <td>NAP</td>\n",
              "      <td>150</td>\n",
              "      <td>195</td>\n",
              "      <td>0</td>\n",
              "      <td>Normal</td>\n",
              "      <td>122</td>\n",
              "      <td>N</td>\n",
              "      <td>0.0</td>\n",
              "      <td>Up</td>\n",
              "      <td>0</td>\n",
              "    </tr>\n",
              "  </tbody>\n",
              "</table>\n",
              "</div>"
            ],
            "text/plain": [
              "   Age Sex ChestPainType  ...  Oldpeak  ST_Slope  HeartDisease\n",
              "0   40   M           ATA  ...      0.0        Up             0\n",
              "1   49   F           NAP  ...      1.0      Flat             1\n",
              "2   37   M           ATA  ...      0.0        Up             0\n",
              "3   48   F           ASY  ...      1.5      Flat             1\n",
              "4   54   M           NAP  ...      0.0        Up             0\n",
              "\n",
              "[5 rows x 12 columns]"
            ]
          },
          "metadata": {},
          "execution_count": 26
        }
      ]
    },
    {
      "cell_type": "code",
      "metadata": {
        "colab": {
          "base_uri": "https://localhost:8080/"
        },
        "id": "8XJuxryo3ntx",
        "outputId": "34c5b99e-4f67-4567-d523-2d2559a4ed61"
      },
      "source": [
        "#Recoding DV for analysis\n",
        "res = heart.Age.describe()\n",
        "print (res)\n",
        "# Store parameters as numbers\n",
        "m  = res[1]\n",
        "sd = res[2]\n",
        "n  = res[0]"
      ],
      "execution_count": null,
      "outputs": [
        {
          "output_type": "stream",
          "name": "stdout",
          "text": [
            "count    918.000000\n",
            "mean      53.510893\n",
            "std        9.432617\n",
            "min       28.000000\n",
            "25%       47.000000\n",
            "50%       54.000000\n",
            "75%       60.000000\n",
            "max       77.000000\n",
            "Name: Age, dtype: float64\n"
          ]
        }
      ]
    },
    {
      "cell_type": "code",
      "metadata": {
        "id": "C6yddSPd37sI"
      },
      "source": [
        "### Recode Age to string\n",
        "heart.loc[  (heart['Age']<(m-sd)) ,\"Age_str\"]= \"Young people\"\n",
        "heart.loc[ ((heart['Age']>(m-sd)) & (heart['Age']<(m+sd))) ,\"Age_str\"]= \"Average Age\"\n",
        "heart.loc[  (heart['Age']>(m+sd)) ,\"Age_str\"]= \"Old people\""
      ],
      "execution_count": null,
      "outputs": []
    },
    {
      "cell_type": "code",
      "metadata": {
        "colab": {
          "base_uri": "https://localhost:8080/"
        },
        "id": "dQ4X0BAxAuHF",
        "outputId": "f30b03c5-cb0c-41ac-840f-b204f52e92df"
      },
      "source": [
        "### Recode Age to ordinal\n",
        "my_categories=[\"Young people\", \"Average Age\", \"Old people\"]\n",
        "my_Age_type = CategoricalDtype(categories=my_categories, ordered=True)\n",
        "heart[\"Age_cat\"] = heart.Age_str.astype(my_Age_type)\n",
        "heart.info()"
      ],
      "execution_count": null,
      "outputs": [
        {
          "output_type": "stream",
          "name": "stdout",
          "text": [
            "<class 'pandas.core.frame.DataFrame'>\n",
            "RangeIndex: 918 entries, 0 to 917\n",
            "Data columns (total 18 columns):\n",
            " #   Column            Non-Null Count  Dtype   \n",
            "---  ------            --------------  -----   \n",
            " 0   Age               918 non-null    int64   \n",
            " 1   Sex               918 non-null    object  \n",
            " 2   ChestPainType     918 non-null    object  \n",
            " 3   RestingBP         918 non-null    int64   \n",
            " 4   Cholesterol       918 non-null    int64   \n",
            " 5   FastingBS         918 non-null    int64   \n",
            " 6   RestingECG        918 non-null    object  \n",
            " 7   MaxHR             918 non-null    int64   \n",
            " 8   ExerciseAngina    918 non-null    object  \n",
            " 9   Oldpeak           918 non-null    float64 \n",
            " 10  ST_Slope          918 non-null    object  \n",
            " 11  HeartDisease      918 non-null    int64   \n",
            " 12  Age_str           918 non-null    object  \n",
            " 13  Age_cat           333 non-null    category\n",
            " 14  Age_st            918 non-null    int64   \n",
            " 15  Sex_st            918 non-null    int64   \n",
            " 16  HeartDiseas_st    918 non-null    int64   \n",
            " 17  HeartDisease_cat  0 non-null      category\n",
            "dtypes: category(2), float64(1), int64(9), object(6)\n",
            "memory usage: 116.9+ KB\n"
          ]
        }
      ]
    },
    {
      "cell_type": "code",
      "metadata": {
        "colab": {
          "base_uri": "https://localhost:8080/",
          "height": 429
        },
        "id": "xhwsXatdBSkY",
        "outputId": "59f86f7a-8ad1-4b2e-eddf-59e511745df7"
      },
      "source": [
        "#frequencies & barchart\n",
        "mytable = pd.crosstab(heart.Age_cat, columns=\"Age\", normalize='columns')*100\n",
        "print(mytable)\n",
        "print (round(mytable,1))\n",
        "plt.bar(mytable.index, mytable['Age'])"
      ],
      "execution_count": null,
      "outputs": [
        {
          "output_type": "stream",
          "name": "stdout",
          "text": [
            "col_0               Age\n",
            "Age_cat                \n",
            "Young people  53.453453\n",
            "Old people    46.546547\n",
            "col_0          Age\n",
            "Age_cat           \n",
            "Young people  53.5\n",
            "Old people    46.5\n"
          ]
        },
        {
          "output_type": "execute_result",
          "data": {
            "text/plain": [
              "<BarContainer object of 2 artists>"
            ]
          },
          "metadata": {},
          "execution_count": 38
        },
        {
          "output_type": "display_data",
          "data": {
            "image/png": "[encoded data removed]",
            "text/plain": [
              "<Figure size 432x288 with 1 Axes>"
            ]
          },
          "metadata": {
            "needs_background": "light"
          }
        }
      ]
    },
    {
      "cell_type": "code",
      "metadata": {
        "id": "LCUJL7dJBzvV"
      },
      "source": [
        "############## Recode  Heart Disease\n",
        "#To string\n",
        "heart[\"HeartDiseas_st\"] = heart.HeartDisease\n",
        "heart.HeartDisease_st = heart.HeartDisease_st.replace(to_replace=0, value=\"No\")\n",
        "heart.HeartDisease_st = heart.HeartDisease_st.replace(to_replace=1, value=\"Yes\")"
      ],
      "execution_count": null,
      "outputs": []
    },
    {
      "cell_type": "code",
      "metadata": {
        "colab": {
          "base_uri": "https://localhost:8080/"
        },
        "id": "p2s8sxpTC3Dh",
        "outputId": "d80a5cc3-b2e5-4bbb-939e-d919b0d58054"
      },
      "source": [
        "#To category\n",
        "my_categories=[\"No\",\"Yes\"]\n",
        "my_datatype = CategoricalDtype(categories=my_categories, ordered=True)\n",
        "heart[\"HeartDisease_cat\"] = heart.HeartDisease_st.astype(my_datatype)\n",
        "heart.info()"
      ],
      "execution_count": null,
      "outputs": [
        {
          "output_type": "stream",
          "name": "stdout",
          "text": [
            "<class 'pandas.core.frame.DataFrame'>\n",
            "RangeIndex: 918 entries, 0 to 917\n",
            "Data columns (total 18 columns):\n",
            " #   Column            Non-Null Count  Dtype   \n",
            "---  ------            --------------  -----   \n",
            " 0   Age               918 non-null    int64   \n",
            " 1   Sex               918 non-null    object  \n",
            " 2   ChestPainType     918 non-null    object  \n",
            " 3   RestingBP         918 non-null    int64   \n",
            " 4   Cholesterol       918 non-null    int64   \n",
            " 5   FastingBS         918 non-null    int64   \n",
            " 6   RestingECG        918 non-null    object  \n",
            " 7   MaxHR             918 non-null    int64   \n",
            " 8   ExerciseAngina    918 non-null    object  \n",
            " 9   Oldpeak           918 non-null    float64 \n",
            " 10  ST_Slope          918 non-null    object  \n",
            " 11  HeartDisease      918 non-null    int64   \n",
            " 12  Age_str           918 non-null    object  \n",
            " 13  Age_cat           333 non-null    category\n",
            " 14  Age_st            918 non-null    object  \n",
            " 15  Sex_st            918 non-null    int64   \n",
            " 16  HeartDiseas_st    918 non-null    int64   \n",
            " 17  HeartDisease_cat  918 non-null    category\n",
            "dtypes: category(2), float64(1), int64(8), object(7)\n",
            "memory usage: 116.9+ KB\n"
          ]
        }
      ]
    },
    {
      "cell_type": "code",
      "metadata": {
        "colab": {
          "base_uri": "https://localhost:8080/",
          "height": 386
        },
        "id": "-hDH34vBE6R5",
        "outputId": "b6ca92d0-fa7b-4f7f-a235-32577941f0eb"
      },
      "source": [
        "# Barchart for Working day\n",
        "mytable = pd.crosstab(index=heart[\"HeartDisease_cat\"], columns=\"count\") # Crosstab\n",
        "n=mytable.sum()\n",
        "mytable2 = (mytable/n)*100\n",
        "print(mytable2)\n",
        "plt.bar(mytable2.index, mytable2['count'])\n",
        "plt.xlabel('Heart Disease')\n",
        "plt.title('Figure 5. Percentage of Heart Disease')"
      ],
      "execution_count": null,
      "outputs": [
        {
          "output_type": "stream",
          "name": "stdout",
          "text": [
            "col_0                 count\n",
            "HeartDisease_cat           \n",
            "No                44.662309\n",
            "Yes               55.337691\n"
          ]
        },
        {
          "output_type": "execute_result",
          "data": {
            "text/plain": [
              "Text(0.5, 1.0, 'Figure 5. Percentage of Heart Disease')"
            ]
          },
          "metadata": {},
          "execution_count": 93
        },
        {
          "output_type": "display_data",
          "data": {
            "image/png": "[encoded data removed]",
            "text/plain": [
              "<Figure size 432x288 with 1 Axes>"
            ]
          },
          "metadata": {
            "needs_background": "light"
          }
        }
      ]
    }
  ]
}