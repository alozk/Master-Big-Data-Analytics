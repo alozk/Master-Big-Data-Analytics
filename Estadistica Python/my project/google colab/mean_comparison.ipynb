{
  "nbformat": 4,
  "nbformat_minor": 0,
  "metadata": {
    "colab": {
      "name": "mean_comparison.ipynb",
      "provenance": []
    },
    "kernelspec": {
      "name": "python3",
      "display_name": "Python 3"
    },
    "language_info": {
      "name": "python"
    }
  },
  "cells": [
    {
      "cell_type": "code",
      "metadata": {
        "id": "rK4xPOI93BjD"
      },
      "source": [
        "#First we import and load all basic libraries\n",
        "\n",
        "from google.colab import drive            #For linking colab to Google Drive\n",
        "import pandas as pd                       #For dataframe handling\n",
        "import numpy as np                        #For matrix and list computations\n",
        "import matplotlib.pyplot as plt\n",
        "import seaborn as sns                     #For advanced graphs\n",
        "import scipy.stats as stats     "
      ],
      "execution_count": null,
      "outputs": []
    },
    {
      "cell_type": "code",
      "metadata": {
        "colab": {
          "base_uri": "https://localhost:8080/"
        },
        "id": "akRYl6Bfuw9J",
        "outputId": "d6855141-dcb7-47cb-dddf-e70be2e87387"
      },
      "source": [
        "drive.mount('mydrive')      #Bridge to Google Drive"
      ],
      "execution_count": null,
      "outputs": [
        {
          "output_type": "stream",
          "name": "stdout",
          "text": [
            "Mounted at mydrive\n"
          ]
        }
      ]
    },
    {
      "cell_type": "code",
      "metadata": {
        "id": "DwlOjsL_u1Zm"
      },
      "source": [
        "heart = pd.read_csv ('/content/mydrive/MyDrive/EDEM/heart.csv', sep=',')"
      ],
      "execution_count": null,
      "outputs": []
    },
    {
      "cell_type": "code",
      "metadata": {
        "colab": {
          "base_uri": "https://localhost:8080/",
          "height": 469
        },
        "id": "QRpEvj2d_0IF",
        "outputId": "6796fc53-6c74-4c82-ccab-f86dfe325bc2"
      },
      "source": [
        "#ESCOGEMOS LA VARIABLE SEXO Y EL COLESTEROL COMO SUJETO DE ESTUDIO\n",
        "#Descriptive comparison:\n",
        "print(heart.groupby('Sex').Cholesterol.mean())\n",
        "\n",
        "#Statistical comparison:\n",
        "#Extract the two sub samples and store them in two objects\n",
        "Cholesterol_female=heart.loc[heart.Sex=='F', \"Cholesterol\"]\n",
        "Cholesterol_male=heart.loc[heart.Sex=='M', \"Cholesterol\"] \n",
        "\n",
        "res = stats.f_oneway(Cholesterol_female,Cholesterol_male)\n",
        "print(res)\n",
        "\n",
        "#CI meanplot\n",
        "#Graphic comparison: confidence intervals for the means\n",
        "plt.figure(figsize=(5,5))\n",
        "ax = sns.pointplot(x=\"Sex\", y=\"Cholesterol\", data=heart,capsize=0.05, ci=95, join=0, order=['F', 'M'])\n",
        "ax.set_ylabel('Cholesterol')\n",
        "plt.yticks(np.arange(150, 280, step=25))\n",
        "plt.ylim(150,280)\n",
        "plt.axhline(y=heart.Cholesterol.mean(),linewidth=1,linestyle= 'dashed',color=\"green\")\n",
        "props = dict(boxstyle='round', facecolor='white', lw=0.5)\n",
        "# plt.text(1.5, 5000, 'Mean: 4504.3''\\n''n: 731' '\\n' 'F: 40.06''\\n' 'Pval.: 0.000', bbox=props)\n",
        "plt.text(0.35,258,'Mean:198.8''\\n''n:918''\\n' 'Pval.:9.58362487285248e-10', bbox=props)\n",
        "plt.xlabel('Female and Male')\n",
        "plt.title('Figure 1. Average Cholesterol by Sex.''\\n')\n",
        "\n",
        "\n",
        "#OBSERVAMOS QUE EL PVALUE ES MUY CERCANO AL 0 Y POR TANTO RECHAZAMOS LA HIPOSESIS NULA\n",
        "#PODEMOS DECIR PUES QUE EL COLESTEROL NO DIFIERE CON LA VARIABLE SEXO\n"
      ],
      "execution_count": null,
      "outputs": [
        {
          "output_type": "stream",
          "name": "stdout",
          "text": [
            "Sex\n",
            "F    241.196891\n",
            "M    187.513103\n",
            "Name: Cholesterol, dtype: float64\n",
            "F_onewayResult(statistic=38.20338116251452, pvalue=9.58362487285248e-10)\n"
          ]
        },
        {
          "output_type": "execute_result",
          "data": {
            "text/plain": [
              "Text(0.5, 1.0, 'Figure 1. Average Cholesterol by Sex.\\n')"
            ]
          },
          "metadata": {},
          "execution_count": 9
        },
        {
          "output_type": "display_data",
          "data": {
            "image/png": "[encoded data removed]",
            "text/plain": [
              "<Figure size 360x360 with 1 Axes>"
            ]
          },
          "metadata": {
            "needs_background": "light"
          }
        }
      ]
    }
  ]
}