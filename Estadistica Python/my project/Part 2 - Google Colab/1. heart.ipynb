{
  "nbformat": 4,
  "nbformat_minor": 0,
  "metadata": {
    "colab": {
      "name": "heart.ipynb",
      "provenance": [],
      "collapsed_sections": []
    },
    "kernelspec": {
      "name": "python3",
      "display_name": "Python 3"
    },
    "language_info": {
      "name": "python"
    }
  },
  "cells": [
    {
      "cell_type": "code",
      "metadata": {
        "id": "rK4xPOI93BjD"
      },
      "source": [
        "#First we import and load all basic libraries\n",
        "\n",
        "from google.colab import drive            #For linking colab to Google Drive\n",
        "import pandas as pd                       #For dataframe handling\n",
        "import numpy as np                        #For matrix and list computations\n",
        "import matplotlib.pyplot as plt\n",
        "import seaborn as sns                     #For advanced graphs\n",
        "import scipy.stats as stats     "
      ],
      "execution_count": null,
      "outputs": []
    },
    {
      "cell_type": "code",
      "metadata": {
        "id": "ySB_tPVC3I1R",
        "colab": {
          "base_uri": "https://localhost:8080/"
        },
        "outputId": "ffbbecf6-3422-413f-b6d2-afa8b9559733"
      },
      "source": [
        "drive.mount('mydrive')      #Bridge to Google Drive\n"
      ],
      "execution_count": null,
      "outputs": [
        {
          "output_type": "stream",
          "name": "stdout",
          "text": [
            "Mounted at mydrive\n"
          ]
        }
      ]
    },
    {
      "cell_type": "code",
      "metadata": {
        "colab": {
          "base_uri": "https://localhost:8080/",
          "height": 423
        },
        "id": "9x5MWnFa3ePo",
        "outputId": "1c3bf4db-2cc2-4a98-bf9a-0b8150793ea0"
      },
      "source": [
        "heart = pd.read_csv ('/content/mydrive/MyDrive/EDEM/heart.csv', sep=',')\n",
        "heart"
      ],
      "execution_count": null,
      "outputs": [
        {
          "output_type": "execute_result",
          "data": {
            "text/html": [
              "<div>\n",
              "<style scoped>\n",
              "    .dataframe tbody tr th:only-of-type {\n",
              "        vertical-align: middle;\n",
              "    }\n",
              "\n",
              "    .dataframe tbody tr th {\n",
              "        vertical-align: top;\n",
              "    }\n",
              "\n",
              "    .dataframe thead th {\n",
              "        text-align: right;\n",
              "    }\n",
              "</style>\n",
              "<table border=\"1\" class=\"dataframe\">\n",
              "  <thead>\n",
              "    <tr style=\"text-align: right;\">\n",
              "      <th></th>\n",
              "      <th>Age</th>\n",
              "      <th>Sex</th>\n",
              "      <th>ChestPainType</th>\n",
              "      <th>RestingBP</th>\n",
              "      <th>Cholesterol</th>\n",
              "      <th>FastingBS</th>\n",
              "      <th>RestingECG</th>\n",
              "      <th>MaxHR</th>\n",
              "      <th>ExerciseAngina</th>\n",
              "      <th>Oldpeak</th>\n",
              "      <th>ST_Slope</th>\n",
              "      <th>HeartDisease</th>\n",
              "    </tr>\n",
              "  </thead>\n",
              "  <tbody>\n",
              "    <tr>\n",
              "      <th>0</th>\n",
              "      <td>40</td>\n",
              "      <td>M</td>\n",
              "      <td>ATA</td>\n",
              "      <td>140</td>\n",
              "      <td>289</td>\n",
              "      <td>0</td>\n",
              "      <td>Normal</td>\n",
              "      <td>172</td>\n",
              "      <td>N</td>\n",
              "      <td>0.0</td>\n",
              "      <td>Up</td>\n",
              "      <td>0</td>\n",
              "    </tr>\n",
              "    <tr>\n",
              "      <th>1</th>\n",
              "      <td>49</td>\n",
              "      <td>F</td>\n",
              "      <td>NAP</td>\n",
              "      <td>160</td>\n",
              "      <td>180</td>\n",
              "      <td>0</td>\n",
              "      <td>Normal</td>\n",
              "      <td>156</td>\n",
              "      <td>N</td>\n",
              "      <td>1.0</td>\n",
              "      <td>Flat</td>\n",
              "      <td>1</td>\n",
              "    </tr>\n",
              "    <tr>\n",
              "      <th>2</th>\n",
              "      <td>37</td>\n",
              "      <td>M</td>\n",
              "      <td>ATA</td>\n",
              "      <td>130</td>\n",
              "      <td>283</td>\n",
              "      <td>0</td>\n",
              "      <td>ST</td>\n",
              "      <td>98</td>\n",
              "      <td>N</td>\n",
              "      <td>0.0</td>\n",
              "      <td>Up</td>\n",
              "      <td>0</td>\n",
              "    </tr>\n",
              "    <tr>\n",
              "      <th>3</th>\n",
              "      <td>48</td>\n",
              "      <td>F</td>\n",
              "      <td>ASY</td>\n",
              "      <td>138</td>\n",
              "      <td>214</td>\n",
              "      <td>0</td>\n",
              "      <td>Normal</td>\n",
              "      <td>108</td>\n",
              "      <td>Y</td>\n",
              "      <td>1.5</td>\n",
              "      <td>Flat</td>\n",
              "      <td>1</td>\n",
              "    </tr>\n",
              "    <tr>\n",
              "      <th>4</th>\n",
              "      <td>54</td>\n",
              "      <td>M</td>\n",
              "      <td>NAP</td>\n",
              "      <td>150</td>\n",
              "      <td>195</td>\n",
              "      <td>0</td>\n",
              "      <td>Normal</td>\n",
              "      <td>122</td>\n",
              "      <td>N</td>\n",
              "      <td>0.0</td>\n",
              "      <td>Up</td>\n",
              "      <td>0</td>\n",
              "    </tr>\n",
              "    <tr>\n",
              "      <th>...</th>\n",
              "      <td>...</td>\n",
              "      <td>...</td>\n",
              "      <td>...</td>\n",
              "      <td>...</td>\n",
              "      <td>...</td>\n",
              "      <td>...</td>\n",
              "      <td>...</td>\n",
              "      <td>...</td>\n",
              "      <td>...</td>\n",
              "      <td>...</td>\n",
              "      <td>...</td>\n",
              "      <td>...</td>\n",
              "    </tr>\n",
              "    <tr>\n",
              "      <th>913</th>\n",
              "      <td>45</td>\n",
              "      <td>M</td>\n",
              "      <td>TA</td>\n",
              "      <td>110</td>\n",
              "      <td>264</td>\n",
              "      <td>0</td>\n",
              "      <td>Normal</td>\n",
              "      <td>132</td>\n",
              "      <td>N</td>\n",
              "      <td>1.2</td>\n",
              "      <td>Flat</td>\n",
              "      <td>1</td>\n",
              "    </tr>\n",
              "    <tr>\n",
              "      <th>914</th>\n",
              "      <td>68</td>\n",
              "      <td>M</td>\n",
              "      <td>ASY</td>\n",
              "      <td>144</td>\n",
              "      <td>193</td>\n",
              "      <td>1</td>\n",
              "      <td>Normal</td>\n",
              "      <td>141</td>\n",
              "      <td>N</td>\n",
              "      <td>3.4</td>\n",
              "      <td>Flat</td>\n",
              "      <td>1</td>\n",
              "    </tr>\n",
              "    <tr>\n",
              "      <th>915</th>\n",
              "      <td>57</td>\n",
              "      <td>M</td>\n",
              "      <td>ASY</td>\n",
              "      <td>130</td>\n",
              "      <td>131</td>\n",
              "      <td>0</td>\n",
              "      <td>Normal</td>\n",
              "      <td>115</td>\n",
              "      <td>Y</td>\n",
              "      <td>1.2</td>\n",
              "      <td>Flat</td>\n",
              "      <td>1</td>\n",
              "    </tr>\n",
              "    <tr>\n",
              "      <th>916</th>\n",
              "      <td>57</td>\n",
              "      <td>F</td>\n",
              "      <td>ATA</td>\n",
              "      <td>130</td>\n",
              "      <td>236</td>\n",
              "      <td>0</td>\n",
              "      <td>LVH</td>\n",
              "      <td>174</td>\n",
              "      <td>N</td>\n",
              "      <td>0.0</td>\n",
              "      <td>Flat</td>\n",
              "      <td>1</td>\n",
              "    </tr>\n",
              "    <tr>\n",
              "      <th>917</th>\n",
              "      <td>38</td>\n",
              "      <td>M</td>\n",
              "      <td>NAP</td>\n",
              "      <td>138</td>\n",
              "      <td>175</td>\n",
              "      <td>0</td>\n",
              "      <td>Normal</td>\n",
              "      <td>173</td>\n",
              "      <td>N</td>\n",
              "      <td>0.0</td>\n",
              "      <td>Up</td>\n",
              "      <td>0</td>\n",
              "    </tr>\n",
              "  </tbody>\n",
              "</table>\n",
              "<p>918 rows × 12 columns</p>\n",
              "</div>"
            ],
            "text/plain": [
              "     Age Sex ChestPainType  ...  Oldpeak  ST_Slope  HeartDisease\n",
              "0     40   M           ATA  ...      0.0        Up             0\n",
              "1     49   F           NAP  ...      1.0      Flat             1\n",
              "2     37   M           ATA  ...      0.0        Up             0\n",
              "3     48   F           ASY  ...      1.5      Flat             1\n",
              "4     54   M           NAP  ...      0.0        Up             0\n",
              "..   ...  ..           ...  ...      ...       ...           ...\n",
              "913   45   M            TA  ...      1.2      Flat             1\n",
              "914   68   M           ASY  ...      3.4      Flat             1\n",
              "915   57   M           ASY  ...      1.2      Flat             1\n",
              "916   57   F           ATA  ...      0.0      Flat             1\n",
              "917   38   M           NAP  ...      0.0        Up             0\n",
              "\n",
              "[918 rows x 12 columns]"
            ]
          },
          "metadata": {},
          "execution_count": 7
        }
      ]
    },
    {
      "cell_type": "code",
      "metadata": {
        "colab": {
          "base_uri": "https://localhost:8080/"
        },
        "id": "4OyZfHgE9yFm",
        "outputId": "80edb377-0d05-4b2a-f5fc-258eaaca750d"
      },
      "source": [
        "Age = heart.Age.describe()\n",
        "print(heart.Age.describe())\n",
        "m_age=Age[1]\n",
        "sd_age=Age[2]"
      ],
      "execution_count": null,
      "outputs": [
        {
          "output_type": "stream",
          "name": "stdout",
          "text": [
            "count    918.000000\n",
            "mean      53.510893\n",
            "std        9.432617\n",
            "min       28.000000\n",
            "25%       47.000000\n",
            "50%       54.000000\n",
            "75%       60.000000\n",
            "max       77.000000\n",
            "Name: Age, dtype: float64\n"
          ]
        }
      ]
    },
    {
      "cell_type": "code",
      "metadata": {
        "colab": {
          "base_uri": "https://localhost:8080/",
          "height": 312
        },
        "id": "y58IxScFBZAL",
        "outputId": "1db43ab6-f44a-4d17-df34-77e85fcaa5e0"
      },
      "source": [
        "x=heart['Age']\n",
        "plt.hist(x,edgecolor='black',bins=20)\n",
        "plt.xticks(np.arange(25,85, step=5))\n",
        "plt.title(\"Figura 1. Edades\")\n",
        "plt.ylabel('Frequency')\n",
        "plt.xlabel('Age')\n",
        "plt.axvline(x=m_age, linewidth=1, linestyle= 'solid', color=\"red\", label='Mean')\n",
        "plt.axvline(x=m_age-sd_age, linewidth=1, linestyle= 'dashed', color=\"green\", label='- 1 S.D.')\n",
        "plt.axvline(x=m_age + sd_age, linewidth=1, linestyle= 'dashed', color=\"green\", label='+ 1 S.D.')"
      ],
      "execution_count": null,
      "outputs": [
        {
          "output_type": "execute_result",
          "data": {
            "text/plain": [
              "<matplotlib.lines.Line2D at 0x7f998ca76290>"
            ]
          },
          "metadata": {},
          "execution_count": 6
        },
        {
          "output_type": "display_data",
          "data": {
            "image/png": "[encoded data removed]",
            "text/plain": [
              "<Figure size 432x288 with 1 Axes>"
            ]
          },
          "metadata": {
            "needs_background": "light"
          }
        }
      ]
    },
    {
      "cell_type": "code",
      "metadata": {
        "colab": {
          "base_uri": "https://localhost:8080/"
        },
        "id": "OM0B4OovApJH",
        "outputId": "3cd40e21-90bb-4c18-cdab-a03719c627c2"
      },
      "source": [
        "mytable = heart.groupby(['Sex']).size()\n",
        "print(mytable)"
      ],
      "execution_count": null,
      "outputs": [
        {
          "output_type": "stream",
          "name": "stdout",
          "text": [
            "Sex\n",
            "F    193\n",
            "M    725\n",
            "dtype: int64\n"
          ]
        }
      ]
    },
    {
      "cell_type": "code",
      "metadata": {
        "id": "rAgkdbXLA9u4"
      },
      "source": [
        "#Excursus to Operators\n",
        "# Subset year 0\n",
        "heart_female = heart[heart.Sex == 0]\n",
        "# Subset year 1\n",
        "heart_male = heart[heart.Sex == 1]"
      ],
      "execution_count": null,
      "outputs": []
    },
    {
      "cell_type": "code",
      "metadata": {
        "colab": {
          "base_uri": "https://localhost:8080/",
          "height": 143
        },
        "id": "kUcqnRFsSYTR",
        "outputId": "7383051c-8d5b-441e-d8c5-2abe9097b529"
      },
      "source": [
        "# Recoding season into a string variable pain_cat)\n",
        "heart.loc[(heart['HeartDisease']==0),\"HeartDisease_cat\"]= \"no_enfermo\"\n",
        "heart.loc[(heart['HeartDisease']==1),\"HeartDisease_cat\"]= \"enfermo\"\n",
        "# Quality control\n",
        "pd.crosstab(heart.HeartDisease, heart.HeartDisease_cat)"
      ],
      "execution_count": null,
      "outputs": [
        {
          "output_type": "execute_result",
          "data": {
            "text/html": [
              "<div>\n",
              "<style scoped>\n",
              "    .dataframe tbody tr th:only-of-type {\n",
              "        vertical-align: middle;\n",
              "    }\n",
              "\n",
              "    .dataframe tbody tr th {\n",
              "        vertical-align: top;\n",
              "    }\n",
              "\n",
              "    .dataframe thead th {\n",
              "        text-align: right;\n",
              "    }\n",
              "</style>\n",
              "<table border=\"1\" class=\"dataframe\">\n",
              "  <thead>\n",
              "    <tr style=\"text-align: right;\">\n",
              "      <th>HeartDisease_cat</th>\n",
              "      <th>enfermo</th>\n",
              "      <th>no_enfermo</th>\n",
              "    </tr>\n",
              "    <tr>\n",
              "      <th>HeartDisease</th>\n",
              "      <th></th>\n",
              "      <th></th>\n",
              "    </tr>\n",
              "  </thead>\n",
              "  <tbody>\n",
              "    <tr>\n",
              "      <th>0</th>\n",
              "      <td>0</td>\n",
              "      <td>410</td>\n",
              "    </tr>\n",
              "    <tr>\n",
              "      <th>1</th>\n",
              "      <td>508</td>\n",
              "      <td>0</td>\n",
              "    </tr>\n",
              "  </tbody>\n",
              "</table>\n",
              "</div>"
            ],
            "text/plain": [
              "HeartDisease_cat  enfermo  no_enfermo\n",
              "HeartDisease                         \n",
              "0                       0         410\n",
              "1                     508           0"
            ]
          },
          "metadata": {},
          "execution_count": 9
        }
      ]
    },
    {
      "cell_type": "code",
      "metadata": {
        "colab": {
          "base_uri": "https://localhost:8080/",
          "height": 282
        },
        "id": "wwVaFrjkajZy",
        "outputId": "70675fb7-e172-4e3d-d2a2-db30f3fd6125"
      },
      "source": [
        "# Recoding Age into a string variable Age_cat)\n",
        "heart.loc[(heart['Age']<40),\"Age_cat2\"]= \"menores_de_40\"\n",
        "heart.loc[((heart['Age']>=40) & (heart['Age']<60)),\"Age_cat2\"]= \"menores_de_60\"\n",
        "heart.loc[(heart['Age']>=60),\"Age_cat2\"]= \"mayores_de_60\"\n",
        "##### Quality control?\n",
        "plt.scatter( heart.Age, heart.Age_cat2, s=1)"
      ],
      "execution_count": null,
      "outputs": [
        {
          "output_type": "execute_result",
          "data": {
            "text/plain": [
              "<matplotlib.collections.PathCollection at 0x7f9982af7d90>"
            ]
          },
          "metadata": {},
          "execution_count": 10
        },
        {
          "output_type": "display_data",
          "data": {
            "image/png": "[encoded data removed]",
            "text/plain": [
              "<Figure size 432x288 with 1 Axes>"
            ]
          },
          "metadata": {
            "needs_background": "light"
          }
        }
      ]
    },
    {
      "cell_type": "code",
      "metadata": {
        "colab": {
          "base_uri": "https://localhost:8080/",
          "height": 318
        },
        "id": "FJ4A0hMTomHc",
        "outputId": "98755002-a1b3-40bf-c25f-e1295b973d71"
      },
      "source": [
        "# Recode the number of rentals in Three Groups\n",
        "#Compute & store the cutting points\n",
        "res = heart['Age'].describe()\n",
        "# Store parameters as numbers\n",
        "m = res[1]\n",
        "sd = res[2]\n",
        "n = res[0]\n",
        "### Recode 2\n",
        "heart.loc[ (heart['Age']<(m-sd)) ,\"Age_cat2\"]= \"menores_de_40\"\n",
        "heart.loc[ ((heart['Age']>(m-sd)) & (heart['Age']<(m+sd))) ,\"Age_cat2\"]= \"menores_de_60\"\n",
        "heart.loc[ (heart['Age']>(m+sd)) ,\"Age_cat2\"]= \"mayores_de_60\"\n",
        "heart.Age_cat2.describe()\n",
        "plt.hist(heart.Age_cat2, edgecolor='black')"
      ],
      "execution_count": null,
      "outputs": [
        {
          "output_type": "execute_result",
          "data": {
            "text/plain": [
              "(array([178.,   0.,   0.,   0.,   0., 585.,   0.,   0.,   0., 155.]),\n",
              " array([0. , 0.2, 0.4, 0.6, 0.8, 1. , 1.2, 1.4, 1.6, 1.8, 2. ]),\n",
              " <a list of 10 Patch objects>)"
            ]
          },
          "metadata": {},
          "execution_count": 33
        },
        {
          "output_type": "display_data",
          "data": {
            "image/png": "[encoded data removed]",
            "text/plain": [
              "<Figure size 432x288 with 1 Axes>"
            ]
          },
          "metadata": {
            "needs_background": "light"
          }
        }
      ]
    },
    {
      "cell_type": "code",
      "metadata": {
        "colab": {
          "base_uri": "https://localhost:8080/",
          "height": 334
        },
        "id": "mv6RRKhXwJKq",
        "outputId": "f80c938b-589d-413a-848f-50f934bd8f37"
      },
      "source": [
        "#Descriptive comparison, Cholesterol and Sex:\n",
        "#1. Describe the two variables involved in hypothesis\n",
        "#CHOLESTEROL\n",
        "heart.Cholesterol.describe()\n",
        "plt.hist(heart.Cholesterol, edgecolor='black')"
      ],
      "execution_count": null,
      "outputs": [
        {
          "output_type": "execute_result",
          "data": {
            "text/plain": [
              "(array([172.,   6.,  70., 319., 248.,  81.,  14.,   3.,   3.,   2.]),\n",
              " array([  0. ,  60.3, 120.6, 180.9, 241.2, 301.5, 361.8, 422.1, 482.4,\n",
              "        542.7, 603. ]),\n",
              " <a list of 10 Patch objects>)"
            ]
          },
          "metadata": {},
          "execution_count": 32
        },
        {
          "output_type": "display_data",
          "data": {
            "image/png": "[encoded data removed]",
            "text/plain": [
              "<Figure size 432x288 with 1 Axes>"
            ]
          },
          "metadata": {
            "needs_background": "light"
          }
        }
      ]
    },
    {
      "cell_type": "code",
      "metadata": {
        "colab": {
          "base_uri": "https://localhost:8080/",
          "height": 421
        },
        "id": "UwJ-Jrbux1Nw",
        "outputId": "35ec906a-1679-47ad-91f1-769dcf175fce"
      },
      "source": [
        "#SEX\n",
        "mytablesex = heart.groupby(['Sex']).size()\n",
        "print(mytablesex)\n",
        "n=mytablesex.sum()\n",
        "mytablesex2 = (mytablesex/n)*100\n",
        "print(mytablesex2)\n",
        "n=mytablesex.sum()\n",
        "bar_list = ['Female', 'Male']\n",
        "plt.bar(bar_list, mytablesex2, edgecolor='black')"
      ],
      "execution_count": null,
      "outputs": [
        {
          "output_type": "stream",
          "name": "stdout",
          "text": [
            "Sex\n",
            "F    193\n",
            "M    725\n",
            "dtype: int64\n",
            "Sex\n",
            "F    21.023965\n",
            "M    78.976035\n",
            "dtype: float64\n"
          ]
        },
        {
          "output_type": "execute_result",
          "data": {
            "text/plain": [
              "<BarContainer object of 2 artists>"
            ]
          },
          "metadata": {},
          "execution_count": 8
        },
        {
          "output_type": "display_data",
          "data": {
            "image/png": "[encoded data removed]",
            "text/plain": [
              "<Figure size 432x288 with 1 Axes>"
            ]
          },
          "metadata": {
            "needs_background": "light"
          }
        }
      ]
    },
    {
      "cell_type": "code",
      "metadata": {
        "colab": {
          "base_uri": "https://localhost:8080/"
        },
        "id": "bh5n3UWg9dYF",
        "outputId": "707a2b27-a271-4e58-9d03-c9aaae7a0688"
      },
      "source": [
        "#2. Perform the numeric test: t.test\n",
        "#Descriptive comparison:\n",
        "Cholesterol = heart.Cholesterol.describe()\n",
        "m_cho = Cholesterol[1]\n",
        "print(m_cho)\n",
        "#heart.groupby('Cholesterol_cat').Cholesterol.mean()\n",
        "\n"
      ],
      "execution_count": null,
      "outputs": [
        {
          "output_type": "stream",
          "name": "stdout",
          "text": [
            "198.7995642701525\n"
          ]
        }
      ]
    },
    {
      "cell_type": "code",
      "metadata": {
        "colab": {
          "base_uri": "https://localhost:8080/",
          "height": 469
        },
        "id": "QRpEvj2d_0IF",
        "outputId": "de0291b3-9004-43b7-bd7f-6a9343124981"
      },
      "source": [
        "################################AQUÍ EMPIEZA EL EJERCICIO A ENTREGAR###############################################################################\n",
        "#ESCOGEMOS LA VARIABLE SEXO Y EL COLESTEROL COMO SUJETO DE ESTUDIO\n",
        "#Descriptive comparison:\n",
        "print(heart.groupby('Sex').Cholesterol.mean())\n",
        "\n",
        "#Statistical comparison:\n",
        "#Extract the two sub samples and store them in two objects\n",
        "Cholesterol_female=heart.loc[heart.Sex=='F', \"Cholesterol\"]\n",
        "Cholesterol_male=heart.loc[heart.Sex=='M', \"Cholesterol\"] \n",
        "\n",
        "res = stats.f_oneway(Cholesterol_female,Cholesterol_male)\n",
        "print(res)\n",
        "\n",
        "#CI meanplot\n",
        "#Graphic comparison: confidence intervals for the means\n",
        "plt.figure(figsize=(5,5))\n",
        "ax = sns.pointplot(x=\"Sex\", y=\"Cholesterol\", data=heart,capsize=0.05, ci=95, join=0, order=['F', 'M'])\n",
        "ax.set_ylabel('Cholesterol')\n",
        "plt.yticks(np.arange(150, 280, step=25))\n",
        "plt.ylim(150,280)\n",
        "plt.axhline(y=heart.Cholesterol.mean(),linewidth=1,linestyle= 'dashed',color=\"green\")\n",
        "props = dict(boxstyle='round', facecolor='white', lw=0.5)\n",
        "# plt.text(1.5, 5000, 'Mean: 4504.3''\\n''n: 731' '\\n' 'F: 40.06''\\n' 'Pval.: 0.000', bbox=props)\n",
        "plt.text(0.35,258,'Mean:198.8''\\n''n:918''\\n' 'Pval.:9.58362487285248e-10', bbox=props)\n",
        "plt.xlabel('Female and Male')\n",
        "plt.title('Figure 1. Average Cholesterol by Sex.''\\n')\n",
        "\n",
        "\n",
        "#OBSERVAMOS QUE EL PVALUE ES MUY CERCANO AL 0 Y POR TANTO RECHAZAMOS LA HIPOSESIS NULA\n",
        "#PODEMOS DECIR PUES QUE EL COLESTEROL NO DIFIERE CON LA VARIABLE SEXO\n"
      ],
      "execution_count": null,
      "outputs": [
        {
          "output_type": "stream",
          "name": "stdout",
          "text": [
            "Sex\n",
            "F    241.196891\n",
            "M    187.513103\n",
            "Name: Cholesterol, dtype: float64\n",
            "F_onewayResult(statistic=38.20338116251452, pvalue=9.58362487285248e-10)\n"
          ]
        },
        {
          "output_type": "execute_result",
          "data": {
            "text/plain": [
              "Text(0.5, 1.0, 'Figure 1. Average Cholesterol by Sex.\\n')"
            ]
          },
          "metadata": {},
          "execution_count": 181
        },
        {
          "output_type": "display_data",
          "data": {
            "image/png": "[encoded data removed]",
            "text/plain": [
              "<Figure size 360x360 with 1 Axes>"
            ]
          },
          "metadata": {
            "needs_background": "light"
          }
        }
      ]
    },
    {
      "cell_type": "code",
      "metadata": {
        "colab": {
          "base_uri": "https://localhost:8080/",
          "height": 504
        },
        "id": "0MBDE1MznqZy",
        "outputId": "e3e5bca3-b74a-4318-be39-e6cf11ec663e"
      },
      "source": [
        "#ESCOGEMOS LA TIPO DE DOLOR EN EL PECHO Y EL EDAD COMO SUJETO DE ESTUDIO\n",
        "#Descriptive comparison:\n",
        "print(heart.groupby('ChestPainType').Age.mean())\n",
        "\n",
        "#Statistical comparison:\n",
        "#Extract the two sub samples and store them in two objects\n",
        "Age_ASY=heart.loc[heart.ChestPainType=='ASY', \"Age\"]\n",
        "Age_ATA=heart.loc[heart.ChestPainType=='ATA', \"Age\"]\n",
        "Age_NAP=heart.loc[heart.ChestPainType=='NAP', \"Age\"] \n",
        "Age_TA=heart.loc[heart.ChestPainType=='TA', \"Age\"] \n",
        "\n",
        "res = stats.f_oneway(Age_ASY,Age_ATA,Age_NAP,Age_TA)\n",
        "print(res)\n",
        "\n",
        "#CI meanplot\n",
        "#Graphic comparison: confidence intervals for the means\n",
        "plt.figure(figsize=(5,5))\n",
        "ax = sns.pointplot(x=\"ChestPainType\", y=\"Age\", data=heart,capsize=0.05, ci=95, join=0, order=['ASY', 'ATA','NAP','TA'])\n",
        "ax.set_ylabel('Age')\n",
        "plt.yticks(np.arange(44, 60, step=2))\n",
        "plt.ylim(44,60)\n",
        "plt.axhline(y=heart.Age.mean(),linewidth=1,linestyle= 'dashed',color=\"green\")\n",
        "props = dict(boxstyle='round', facecolor='white', lw=0.5)\n",
        "# plt.text(1.5, 5000, 'Mean: 4504.3''\\n''n: 731' '\\n' 'F: 40.06''\\n' 'Pval.: 0.000', bbox=props)\n",
        "plt.text(-0.4,57.5,'Mean:53.51''\\n''n:918''\\n' 'Pval.:1.136820472395362e-10', bbox=props)\n",
        "plt.xlabel('ChestPainType')\n",
        "plt.title('Figure 2. Average Age by ChestPainType.''\\n')\n",
        "\n",
        "#OBSERVAMOS QUE EL PVALUE ES MUY CERCANO AL 0 Y POR TANTO RECHAZAMOS LA HIPOSESIS NULA\n",
        "#PODEMOS DECIR PUES QUE EL TIPO DE DOLOR EN EL PECHO NO DIFIERE CON LA VARIABLE EDAD"
      ],
      "execution_count": null,
      "outputs": [
        {
          "output_type": "stream",
          "name": "stdout",
          "text": [
            "ChestPainType\n",
            "ASY    54.959677\n",
            "ATA    49.242775\n",
            "NAP    53.310345\n",
            "TA     54.826087\n",
            "Name: Age, dtype: float64\n",
            "F_onewayResult(statistic=16.86834805144362, pvalue=1.136820472395362e-10)\n"
          ]
        },
        {
          "output_type": "execute_result",
          "data": {
            "text/plain": [
              "Text(0.5, 1.0, 'Figure 2. Average Age by ChestPainType.\\n')"
            ]
          },
          "metadata": {},
          "execution_count": 180
        },
        {
          "output_type": "display_data",
          "data": {
            "image/png": "[encoded data removed]",
            "text/plain": [
              "<Figure size 360x360 with 1 Axes>"
            ]
          },
          "metadata": {
            "needs_background": "light"
          }
        }
      ]
    },
    {
      "cell_type": "code",
      "metadata": {
        "id": "SRcMINCwyPtF"
      },
      "source": [
        ""
      ],
      "execution_count": null,
      "outputs": []
    }
  ]
}