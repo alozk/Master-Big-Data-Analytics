{
  "nbformat": 4,
  "nbformat_minor": 0,
  "metadata": {
    "colab": {
      "name": "Trabajo_grupal.ipynb",
      "provenance": [],
      "collapsed_sections": [],
      "toc_visible": true
    },
    "kernelspec": {
      "name": "python3",
      "display_name": "Python 3"
    },
    "language_info": {
      "name": "python"
    }
  },
  "cells": [
    {
      "cell_type": "code",
      "execution_count": 39,
      "metadata": {
        "id": "p_QUNSFqQAg-"
      },
      "outputs": [],
      "source": [
        "from google.colab import drive                #For linking colab to Google Drive\n",
        "import pandas as pd                           #gestionar datframes\n",
        "import numpy as np                            #numeric python vectores\n",
        "import matplotlib.pyplot as plt               #graficos estadisticos\n",
        "from pandas.api.types import CategoricalDtype #For definition of custom categorical data types (ordinal if necesary)\n",
        "import seaborn as sns                         #For hi level, Pandas oriented, graphics\n",
        "import scipy.stats as stats                   #For statistical inference"
      ]
    },
    {
      "cell_type": "code",
      "source": [
        "drive.mount('mydrive')                        #Bridge to Google Drive"
      ],
      "metadata": {
        "colab": {
          "base_uri": "https://localhost:8080/"
        },
        "id": "5y1X7UmyRpyi",
        "outputId": "de24c671-459d-423f-80a6-c06e2dea8368"
      },
      "execution_count": 40,
      "outputs": [
        {
          "output_type": "stream",
          "name": "stdout",
          "text": [
            "Drive already mounted at mydrive; to attempt to forcibly remount, call drive.mount(\"mydrive\", force_remount=True).\n"
          ]
        }
      ]
    },
    {
      "cell_type": "code",
      "source": [
        "spoti = pd.read_csv ('/content/mydrive/MyDrive/EDEM/spotify.csv', sep=';')\n",
        "spoti"
      ],
      "metadata": {
        "colab": {
          "base_uri": "https://localhost:8080/",
          "height": 423
        },
        "id": "M7KdqsseRsd7",
        "outputId": "a4bfcd21-9fdc-4a9e-e4f4-7f3c4877fd94"
      },
      "execution_count": 41,
      "outputs": [
        {
          "output_type": "execute_result",
          "data": {
            "text/html": [
              "<div>\n",
              "<style scoped>\n",
              "    .dataframe tbody tr th:only-of-type {\n",
              "        vertical-align: middle;\n",
              "    }\n",
              "\n",
              "    .dataframe tbody tr th {\n",
              "        vertical-align: top;\n",
              "    }\n",
              "\n",
              "    .dataframe thead th {\n",
              "        text-align: right;\n",
              "    }\n",
              "</style>\n",
              "<table border=\"1\" class=\"dataframe\">\n",
              "  <thead>\n",
              "    <tr style=\"text-align: right;\">\n",
              "      <th></th>\n",
              "      <th>ID</th>\n",
              "      <th>title</th>\n",
              "      <th>artist</th>\n",
              "      <th>genre</th>\n",
              "      <th>year</th>\n",
              "      <th>bpm</th>\n",
              "      <th>nrgy</th>\n",
              "      <th>dnce</th>\n",
              "      <th>val</th>\n",
              "      <th>dur</th>\n",
              "      <th>lyrics</th>\n",
              "      <th>pop</th>\n",
              "    </tr>\n",
              "  </thead>\n",
              "  <tbody>\n",
              "    <tr>\n",
              "      <th>0</th>\n",
              "      <td>1</td>\n",
              "      <td>Hey, Soul Sister</td>\n",
              "      <td>Train</td>\n",
              "      <td>no pop</td>\n",
              "      <td>2010</td>\n",
              "      <td>97</td>\n",
              "      <td>89</td>\n",
              "      <td>67</td>\n",
              "      <td>80</td>\n",
              "      <td>217</td>\n",
              "      <td>4</td>\n",
              "      <td>83</td>\n",
              "    </tr>\n",
              "    <tr>\n",
              "      <th>1</th>\n",
              "      <td>2</td>\n",
              "      <td>Love The Way You Lie</td>\n",
              "      <td>Eminem</td>\n",
              "      <td>no pop</td>\n",
              "      <td>2010</td>\n",
              "      <td>87</td>\n",
              "      <td>93</td>\n",
              "      <td>75</td>\n",
              "      <td>64</td>\n",
              "      <td>263</td>\n",
              "      <td>23</td>\n",
              "      <td>82</td>\n",
              "    </tr>\n",
              "    <tr>\n",
              "      <th>2</th>\n",
              "      <td>3</td>\n",
              "      <td>TiK ToK</td>\n",
              "      <td>Kesha</td>\n",
              "      <td>pop</td>\n",
              "      <td>2010</td>\n",
              "      <td>120</td>\n",
              "      <td>84</td>\n",
              "      <td>76</td>\n",
              "      <td>71</td>\n",
              "      <td>200</td>\n",
              "      <td>14</td>\n",
              "      <td>80</td>\n",
              "    </tr>\n",
              "    <tr>\n",
              "      <th>3</th>\n",
              "      <td>4</td>\n",
              "      <td>Bad Romance</td>\n",
              "      <td>Lady Gaga</td>\n",
              "      <td>pop</td>\n",
              "      <td>2010</td>\n",
              "      <td>119</td>\n",
              "      <td>92</td>\n",
              "      <td>70</td>\n",
              "      <td>71</td>\n",
              "      <td>295</td>\n",
              "      <td>4</td>\n",
              "      <td>79</td>\n",
              "    </tr>\n",
              "    <tr>\n",
              "      <th>4</th>\n",
              "      <td>5</td>\n",
              "      <td>Just the Way You Are</td>\n",
              "      <td>Bruno Mars</td>\n",
              "      <td>pop</td>\n",
              "      <td>2010</td>\n",
              "      <td>109</td>\n",
              "      <td>84</td>\n",
              "      <td>64</td>\n",
              "      <td>43</td>\n",
              "      <td>221</td>\n",
              "      <td>4</td>\n",
              "      <td>78</td>\n",
              "    </tr>\n",
              "    <tr>\n",
              "      <th>...</th>\n",
              "      <td>...</td>\n",
              "      <td>...</td>\n",
              "      <td>...</td>\n",
              "      <td>...</td>\n",
              "      <td>...</td>\n",
              "      <td>...</td>\n",
              "      <td>...</td>\n",
              "      <td>...</td>\n",
              "      <td>...</td>\n",
              "      <td>...</td>\n",
              "      <td>...</td>\n",
              "      <td>...</td>\n",
              "    </tr>\n",
              "    <tr>\n",
              "      <th>598</th>\n",
              "      <td>599</td>\n",
              "      <td>Find U Again (feat. Camila Cabello)</td>\n",
              "      <td>Mark Ronson</td>\n",
              "      <td>pop</td>\n",
              "      <td>2019</td>\n",
              "      <td>104</td>\n",
              "      <td>66</td>\n",
              "      <td>61</td>\n",
              "      <td>16</td>\n",
              "      <td>176</td>\n",
              "      <td>3</td>\n",
              "      <td>75</td>\n",
              "    </tr>\n",
              "    <tr>\n",
              "      <th>599</th>\n",
              "      <td>600</td>\n",
              "      <td>Cross Me (feat. Chance the Rapper &amp; PnB Rock)</td>\n",
              "      <td>Ed Sheeran</td>\n",
              "      <td>pop</td>\n",
              "      <td>2019</td>\n",
              "      <td>95</td>\n",
              "      <td>79</td>\n",
              "      <td>75</td>\n",
              "      <td>61</td>\n",
              "      <td>206</td>\n",
              "      <td>12</td>\n",
              "      <td>75</td>\n",
              "    </tr>\n",
              "    <tr>\n",
              "      <th>600</th>\n",
              "      <td>601</td>\n",
              "      <td>No Brainer (feat. Justin Bieber, Chance the Ra...</td>\n",
              "      <td>DJ Khaled</td>\n",
              "      <td>pop</td>\n",
              "      <td>2019</td>\n",
              "      <td>136</td>\n",
              "      <td>76</td>\n",
              "      <td>53</td>\n",
              "      <td>65</td>\n",
              "      <td>260</td>\n",
              "      <td>34</td>\n",
              "      <td>70</td>\n",
              "    </tr>\n",
              "    <tr>\n",
              "      <th>601</th>\n",
              "      <td>602</td>\n",
              "      <td>Nothing Breaks Like a Heart (feat. Miley Cyrus)</td>\n",
              "      <td>Mark Ronson</td>\n",
              "      <td>pop</td>\n",
              "      <td>2019</td>\n",
              "      <td>114</td>\n",
              "      <td>79</td>\n",
              "      <td>60</td>\n",
              "      <td>24</td>\n",
              "      <td>217</td>\n",
              "      <td>7</td>\n",
              "      <td>69</td>\n",
              "    </tr>\n",
              "    <tr>\n",
              "      <th>602</th>\n",
              "      <td>603</td>\n",
              "      <td>Kills You Slowly</td>\n",
              "      <td>The Chainsmokers</td>\n",
              "      <td>pop</td>\n",
              "      <td>2019</td>\n",
              "      <td>150</td>\n",
              "      <td>44</td>\n",
              "      <td>70</td>\n",
              "      <td>23</td>\n",
              "      <td>213</td>\n",
              "      <td>6</td>\n",
              "      <td>67</td>\n",
              "    </tr>\n",
              "  </tbody>\n",
              "</table>\n",
              "<p>603 rows × 12 columns</p>\n",
              "</div>"
            ],
            "text/plain": [
              "      ID                                              title  ... lyrics pop\n",
              "0      1                                   Hey, Soul Sister  ...      4  83\n",
              "1      2                               Love The Way You Lie  ...     23  82\n",
              "2      3                                            TiK ToK  ...     14  80\n",
              "3      4                                        Bad Romance  ...      4  79\n",
              "4      5                               Just the Way You Are  ...      4  78\n",
              "..   ...                                                ...  ...    ...  ..\n",
              "598  599                Find U Again (feat. Camila Cabello)  ...      3  75\n",
              "599  600      Cross Me (feat. Chance the Rapper & PnB Rock)  ...     12  75\n",
              "600  601  No Brainer (feat. Justin Bieber, Chance the Ra...  ...     34  70\n",
              "601  602    Nothing Breaks Like a Heart (feat. Miley Cyrus)  ...      7  69\n",
              "602  603                                   Kills You Slowly  ...      6  67\n",
              "\n",
              "[603 rows x 12 columns]"
            ]
          },
          "metadata": {},
          "execution_count": 41
        }
      ]
    },
    {
      "cell_type": "markdown",
      "source": [
        "# GENRE, MEAN COMPARISON"
      ],
      "metadata": {
        "id": "nmXCZrfJT76j"
      }
    },
    {
      "cell_type": "code",
      "source": [
        "#VARIABLE PREDICHA ES POPULARIDAD\n",
        "#VARIABLE PREDICTORA ES GENERO\n",
        "#hacemos describe de la popularidad\n",
        "popu = spoti['pop'].describe()\n",
        "popu"
      ],
      "metadata": {
        "colab": {
          "base_uri": "https://localhost:8080/"
        },
        "id": "l28GzezuZJ8v",
        "outputId": "e917ffb6-9c79-4968-cb79-11e7780d3f79"
      },
      "execution_count": null,
      "outputs": [
        {
          "output_type": "execute_result",
          "data": {
            "text/plain": [
              "count    603.000000\n",
              "mean      66.520730\n",
              "std       14.517746\n",
              "min        0.000000\n",
              "25%       60.000000\n",
              "50%       69.000000\n",
              "75%       76.000000\n",
              "max       99.000000\n",
              "Name: pop, dtype: float64"
            ]
          },
          "metadata": {},
          "execution_count": 5
        }
      ]
    },
    {
      "cell_type": "code",
      "source": [
        "n = popu[0]\n",
        "m_popu = popu[1]\n",
        "sd_popu = popu[2]"
      ],
      "metadata": {
        "id": "RQm83PNkbVKn"
      },
      "execution_count": null,
      "outputs": []
    },
    {
      "cell_type": "code",
      "source": [
        "#Histograma de Popularidad\n",
        "x=spoti['pop']\n",
        "plt.hist(x,edgecolor='black',bins=20)\n",
        "plt.xticks(np.arange(0,100, step=10))\n",
        "plt.title(\"Figura 1. Popularidad\")\n",
        "plt.ylabel('Frecuencia')\n",
        "plt.xlabel('Nivel de popularidad')\n",
        "props=dict(boxstyle='round', facecolor='white', lw=0.5)\n",
        "textstr= '$\\mathrm{Media}=%.2f$\\n$\\mathrm{SD}=%.3f$\\n$\\mathrm{N}=%.0f$'%(m_popu, sd_popu, n)\n",
        "plt.text (25,70, textstr , bbox=props)\n",
        "plt.axvline(x=m_popu, linewidth=1, linestyle= 'solid', color=\"red\", label='Mean')\n",
        "plt.axvline(x=m_popu-sd_popu, linewidth=1, linestyle= 'dashed', color=\"green\", label='- 1 S.D.')\n",
        "plt.axvline(x=m_popu + sd_popu, linewidth=1, linestyle= 'dashed', color=\"green\", label='+ 1 S.D.')"
      ],
      "metadata": {
        "colab": {
          "base_uri": "https://localhost:8080/",
          "height": 312
        },
        "id": "iLmpKKeWaUKU",
        "outputId": "50023f0d-bb3f-481f-b2ea-5628cbe930bb"
      },
      "execution_count": null,
      "outputs": [
        {
          "output_type": "execute_result",
          "data": {
            "text/plain": [
              "<matplotlib.lines.Line2D at 0x7f4fe4d6a250>"
            ]
          },
          "metadata": {},
          "execution_count": 10
        },
        {
          "output_type": "display_data",
          "data": {
            "image/png": "[encoded data removed]",
            "text/plain": [
              "<Figure size 432x288 with 1 Axes>"
            ]
          },
          "metadata": {
            "needs_background": "light"
          }
        }
      ]
    },
    {
      "cell_type": "code",
      "source": [
        "#Hacemos describe de nuestra primera variable predictora [Genero]\n",
        "gen = spoti.genre.describe()\n",
        "gen"
      ],
      "metadata": {
        "colab": {
          "base_uri": "https://localhost:8080/"
        },
        "id": "mbK4LJNjT7bK",
        "outputId": "41ea8a4e-9808-4f08-9f6b-1fb880d4cd4b"
      },
      "execution_count": null,
      "outputs": [
        {
          "output_type": "execute_result",
          "data": {
            "text/plain": [
              "count     603\n",
              "unique      2\n",
              "top       pop\n",
              "freq      468\n",
              "Name: genre, dtype: object"
            ]
          },
          "metadata": {},
          "execution_count": 11
        }
      ]
    },
    {
      "cell_type": "code",
      "source": [
        "#Tabla de Genero y su Plot\n",
        "gen_table = spoti.groupby(['genre']).size()\n",
        "print(gen_table)\n",
        "n=gen_table.sum()\n",
        "gen_table2 = (gen_table/n)*100\n",
        "print(gen_table2)\n",
        "n=gen_table.sum()\n",
        "bar_list = ['no pop', 'pop']\n",
        "plt.bar(bar_list, gen_table2, edgecolor='black')\n",
        "plt.title(\"Figura 2. Porcentaje canciones no pop y pop\")"
      ],
      "metadata": {
        "colab": {
          "base_uri": "https://localhost:8080/",
          "height": 437
        },
        "id": "47rn9l8rU1QC",
        "outputId": "57a50de2-824e-4b3f-e0c6-fe87c2f2b481"
      },
      "execution_count": 44,
      "outputs": [
        {
          "output_type": "stream",
          "name": "stdout",
          "text": [
            "genre\n",
            "no pop    135\n",
            "pop       468\n",
            "dtype: int64\n",
            "genre\n",
            "no pop    22.38806\n",
            "pop       77.61194\n",
            "dtype: float64\n"
          ]
        },
        {
          "output_type": "execute_result",
          "data": {
            "text/plain": [
              "Text(0.5, 1.0, 'Figura 2. Porcentaje canciones no pop y pop')"
            ]
          },
          "metadata": {},
          "execution_count": 44
        },
        {
          "output_type": "display_data",
          "data": {
            "image/png": "[encoded data removed]",
            "text/plain": [
              "<Figure size 432x288 with 1 Axes>"
            ]
          },
          "metadata": {
            "needs_background": "light"
          }
        }
      ]
    },
    {
      "cell_type": "code",
      "metadata": {
        "colab": {
          "base_uri": "https://localhost:8080/"
        },
        "id": "QRpEvj2d_0IF",
        "outputId": "88b75b26-465b-4479-8348-f1580df2937e"
      },
      "source": [
        "#ESCOGEMOS LA VARIABLE GENERO Y POPULARIDAD COMO SUJETO DE ESTUDIO\n",
        "#Descriptive comparison:\n",
        "print(spoti.groupby('genre').pop.mean())\n"
      ],
      "execution_count": null,
      "outputs": [
        {
          "output_type": "stream",
          "name": "stdout",
          "text": [
            "genre\n",
            "no pop    66.303704\n",
            "pop       66.583333\n",
            "Name: pop, dtype: float64\n"
          ]
        }
      ]
    },
    {
      "cell_type": "code",
      "source": [
        "#Statistical [Mean] comparison:\n",
        "#Extract the two sub samples and store them in two objects\n",
        "pop_no_popu=spoti.loc[spoti.genre=='no pop', \"pop\"]\n",
        "pop_popu=spoti.loc[spoti.genre=='pop', \"pop\"] \n",
        "\n",
        "res = stats.f_oneway(pop_no_popu,pop_popu)\n",
        "print(res)"
      ],
      "metadata": {
        "colab": {
          "base_uri": "https://localhost:8080/"
        },
        "id": "gvvfGHThYBq7",
        "outputId": "f3602ebb-d745-4499-9857-2bc0a2233998"
      },
      "execution_count": null,
      "outputs": [
        {
          "output_type": "stream",
          "name": "stdout",
          "text": [
            "F_onewayResult(statistic=0.03880934827345951, pvalue=0.8438934483506649)\n"
          ]
        }
      ]
    },
    {
      "cell_type": "code",
      "source": [
        "#CI meanplot\n",
        "#Graphic comparison: confidence intervals for the means\n",
        "plt.figure(figsize=(4,4))\n",
        "ax = sns.pointplot(x=\"genre\", y=\"pop\", data=spoti,capsize=0.05, ci=95, join=0, order=['no pop', 'pop'])\n",
        "ax.set_ylabel('Popularidad')\n",
        "plt.yticks(np.arange(60, 80, step=5))\n",
        "plt.axhline(y=spoti['pop'].mean(),linewidth=1,linestyle= 'dashed',color=\"green\")\n",
        "props = dict(boxstyle='round', facecolor='white', lw=0.5)\n",
        "plt.text(0.9,72,'Mean:66.52''\\n''n:603''\\n' 'Pval.:0.84', bbox=props)\n",
        "plt.xlabel('Canciones de género no pop y de género pop')\n",
        "plt.title('Figura 3. Media de popularidad según el género.''\\n')"
      ],
      "metadata": {
        "colab": {
          "base_uri": "https://localhost:8080/",
          "height": 328
        },
        "id": "mAStGyPda2AF",
        "outputId": "a8894679-bf21-47ae-9e31-9275ea80be19"
      },
      "execution_count": 45,
      "outputs": [
        {
          "output_type": "execute_result",
          "data": {
            "text/plain": [
              "Text(0.5, 1.0, 'Figura 3. Media de popularidad según el género.\\n')"
            ]
          },
          "metadata": {},
          "execution_count": 45
        },
        {
          "output_type": "display_data",
          "data": {
            "image/png": "[encoded data removed]",
            "text/plain": [
              "<Figure size 288x288 with 1 Axes>"
            ]
          },
          "metadata": {
            "needs_background": "light"
          }
        }
      ]
    },
    {
      "cell_type": "markdown",
      "source": [
        "As p value is greater than 0.05, We do not reject the null\n",
        "\n",
        "Average popularity do not significantly differ in No Pop and Pop songs"
      ],
      "metadata": {
        "id": "NlHGKEPQjonB"
      }
    },
    {
      "cell_type": "markdown",
      "source": [
        "# DANCEABILITY, CORRELATION"
      ],
      "metadata": {
        "id": "Fc4dmW6T8yu8"
      }
    },
    {
      "cell_type": "code",
      "source": [
        "#VARIABLE PREDICHA ES POPULARIDAD\n",
        "#VARIABLE PREDICTORA ES DANCEABILITY\n",
        "#hacemos describe de la danceability\n",
        "dance = spoti['dnce'].describe()\n",
        "dance"
      ],
      "metadata": {
        "colab": {
          "base_uri": "https://localhost:8080/"
        },
        "id": "zSj-1QoD83fu",
        "outputId": "2ca81b9e-6c18-4f64-f7ea-eed87178026e"
      },
      "execution_count": null,
      "outputs": [
        {
          "output_type": "execute_result",
          "data": {
            "text/plain": [
              "count    603.000000\n",
              "mean      64.379768\n",
              "std       13.378718\n",
              "min        0.000000\n",
              "25%       57.000000\n",
              "50%       66.000000\n",
              "75%       73.000000\n",
              "max       97.000000\n",
              "Name: dnce, dtype: float64"
            ]
          },
          "metadata": {},
          "execution_count": 16
        }
      ]
    },
    {
      "cell_type": "code",
      "source": [
        "m_dance = dance[1]\n",
        "sd_dance = dance[2]\n",
        "n = 603"
      ],
      "metadata": {
        "id": "mqV18Ww0AeOr"
      },
      "execution_count": null,
      "outputs": []
    },
    {
      "cell_type": "code",
      "source": [
        "#Histograma de Danceability\n",
        "x=spoti['dnce']\n",
        "plt.hist(x,edgecolor='black',bins=20)\n",
        "plt.xticks(np.arange(0,100, step=10))\n",
        "plt.title(\"Figura 4. Danzabilidad\")\n",
        "plt.ylabel('Frecuencia')\n",
        "plt.xlabel('Nivel de danzabilidad')\n",
        "props=dict(boxstyle='round', facecolor='white', lw=0.5)\n",
        "textstr= '$\\mathrm{Media}=%.2f$\\n$\\mathrm{SD}=%.3f$\\n$\\mathrm{N}=%.0f$'%(m_dance, sd_dance, n)\n",
        "plt.text (25,70, textstr , bbox=props)\n",
        "plt.axvline(x=m_popu, linewidth=1, linestyle= 'solid', color=\"red\", label='Mean')\n",
        "plt.axvline(x=m_popu-sd_popu, linewidth=1, linestyle= 'dashed', color=\"green\", label='- 1 S.D.')\n",
        "plt.axvline(x=m_popu + sd_popu, linewidth=1, linestyle= 'dashed', color=\"green\", label='+ 1 S.D.')"
      ],
      "metadata": {
        "colab": {
          "base_uri": "https://localhost:8080/",
          "height": 312
        },
        "outputId": "d4951acd-b70a-4013-8fa1-4ed15111641b",
        "id": "GjmSc0adAe5P"
      },
      "execution_count": 46,
      "outputs": [
        {
          "output_type": "execute_result",
          "data": {
            "text/plain": [
              "<matplotlib.lines.Line2D at 0x7f4fdaa9f410>"
            ]
          },
          "metadata": {},
          "execution_count": 46
        },
        {
          "output_type": "display_data",
          "data": {
            "image/png": "[encoded data removed]",
            "text/plain": [
              "<Figure size 432x288 with 1 Axes>"
            ]
          },
          "metadata": {
            "needs_background": "light"
          }
        }
      ]
    },
    {
      "cell_type": "code",
      "source": [
        "###################Scatterplot\n",
        "###Eje x Danzabilidad; Eje y = Popularidad\n",
        "#Primero la variable predictora y luego la predicha\n",
        "plt.scatter(spoti['dnce'], spoti['pop'])\n",
        "plt.xlabel('Danzabilidad')\n",
        "plt.ylabel('Popularidad')\n",
        "plt.title(\"Figura 5. Popularidad según la danzabilidad\")"
      ],
      "metadata": {
        "colab": {
          "base_uri": "https://localhost:8080/",
          "height": 312
        },
        "id": "fuOAy3DPDN4_",
        "outputId": "577f63ef-41f7-4e76-a5d9-499458dd300e"
      },
      "execution_count": 48,
      "outputs": [
        {
          "output_type": "execute_result",
          "data": {
            "text/plain": [
              "Text(0.5, 1.0, 'Figura 5. Popularidad según la danzabilidad')"
            ]
          },
          "metadata": {},
          "execution_count": 48
        },
        {
          "output_type": "display_data",
          "data": {
            "image/png": "[encoded data removed]",
            "text/plain": [
              "<Figure size 432x288 with 1 Axes>"
            ]
          },
          "metadata": {
            "needs_background": "light"
          }
        }
      ]
    },
    {
      "cell_type": "code",
      "source": [
        "#Que estadistico mide la asociacion entre dos cuantitativas \n",
        "###Correlation [lineal], que se hace con pearsonr (de -1 a +1) \n",
        "from scipy.stats.stats import pearsonr\n",
        "\n",
        "x=spoti['dnce']\n",
        "y=spoti['pop']\n",
        "pearsonr(x,y)\n",
        "\n",
        "r, p_val=pearsonr(x,y)\n",
        "\n",
        "print(r,p_val)\n",
        "\n",
        "#necesitamos el tamaño muestral [n]\n",
        "n=len(spoti['pop'])\n",
        "print ('r:', round(r,3), 'P.Val:', round(p_val,3), 'n:', n)"
      ],
      "metadata": {
        "colab": {
          "base_uri": "https://localhost:8080/"
        },
        "id": "X1_gOnx5FpSk",
        "outputId": "f6aac823-74e5-4580-acbf-86af9ca52105"
      },
      "execution_count": null,
      "outputs": [
        {
          "output_type": "stream",
          "name": "stdout",
          "text": [
            "0.11605444461442102 0.004323042649723469\n",
            "r: 0.116 P.Val: 0.004 n: 603\n"
          ]
        }
      ]
    },
    {
      "cell_type": "markdown",
      "source": [
        "As p value is lower than 0.05, we do reject the null\n",
        "\n",
        "Popularity do significantly differ in danceability\n"
      ],
      "metadata": {
        "id": "Pnv4pd0EHAEr"
      }
    },
    {
      "cell_type": "code",
      "source": [
        "###Include correlation result into plot \n",
        "plt.figure(figsize=(5,5))\n",
        "plt.scatter(spoti['dnce'], spoti['pop'], s=20, facecolors='none', edgecolors='C0')\n",
        "plt.xticks(np.arange(0, 110, step=10))\n",
        "plt.yticks(np.arange(0, 110, step=10))\n",
        "plt.title(\"figura 6. Popularidad según la danzabilidad\")\n",
        "plt.ylabel('Popularidad')\n",
        "plt.xlabel('Danzabilidad')\n",
        "props=dict(boxstyle='round', facecolor='white', lw=0.5)\n",
        "textstr= '$\\mathrm{r}=%.2f$\\n$\\mathrm{P.Val:}=%.3f$\\n$\\mathrm{n}=%.0f$'%(r, p_val, n)\n",
        "plt.text (1,86, textstr , bbox=props)\n",
        "plt.show()"
      ],
      "metadata": {
        "colab": {
          "base_uri": "https://localhost:8080/",
          "height": 350
        },
        "id": "XJDz5lRmFnXR",
        "outputId": "cf9a484d-2cc9-4d2c-9cd5-2527c8e39150"
      },
      "execution_count": 49,
      "outputs": [
        {
          "output_type": "display_data",
          "data": {
            "image/png": "[encoded data removed]",
            "text/plain": [
              "<Figure size 360x360 with 1 Axes>"
            ]
          },
          "metadata": {
            "needs_background": "light"
          }
        }
      ]
    }
  ]
}